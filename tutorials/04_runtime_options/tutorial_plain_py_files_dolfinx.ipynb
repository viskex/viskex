{
 "cells": [
  {
   "cell_type": "markdown",
   "id": "ee0c3656-c9d7-428a-b0f8-7a90df139f8d",
   "metadata": {},
   "source": [
    "# Running in plain python files\n",
    "\n",
    "While these tutorials use jupyter notebooks, `viskex` works out of the box also when running from a plain python file. Simply run `python3 file.py` and a VTK render window will open for each plot.\n",
    "\n",
    "There is also a way to emulate to force a VTK render window even from within a jupyter notebook."
   ]
  },
  {
   "cell_type": "code",
   "execution_count": null,
   "id": "bc09ec20-2963-4a00-8dfa-e049c5b829bf",
   "metadata": {},
   "outputs": [],
   "source": [
    "import os"
   ]
  },
  {
   "cell_type": "code",
   "execution_count": null,
   "id": "775eabcd-7a6c-4725-963b-d0208ae1498e",
   "metadata": {},
   "outputs": [],
   "source": [
    "import dolfinx.mesh\n",
    "import mpi4py.MPI\n",
    "import pyvista"
   ]
  },
  {
   "cell_type": "code",
   "execution_count": null,
   "id": "d000a091-97d1-4f3d-8d1d-33729bc5abf3",
   "metadata": {},
   "outputs": [],
   "source": [
    "import viskex"
   ]
  },
  {
   "cell_type": "markdown",
   "id": "39a3690a-a941-4dbe-955f-d08347527704",
   "metadata": {},
   "source": [
    "Generate a mesh of the unit square by dividing each edge of the square in 6 segments."
   ]
  },
  {
   "cell_type": "code",
   "execution_count": null,
   "id": "b23ab579-71b1-49f5-b838-ca9e0d2d052a",
   "metadata": {},
   "outputs": [],
   "source": [
    "square = dolfinx.mesh.create_unit_square(mpi4py.MPI.COMM_WORLD, 6, 6)"
   ]
  },
  {
   "cell_type": "markdown",
   "id": "b41d8635-84e6-42c5-8707-6e615c44a9f7",
   "metadata": {},
   "source": [
    "The simplest way to set the open a standalone VTK render window from within a jupyter notebook is by setting the variable `VISKEX_PYVISTA_BACKEND` in the environment before running the notebook as `export VISKEX_PYVISTA_BACKEND=\"none\"`. The choice will be applied to every plot.\n",
    "\n",
    "An equivalent setting is to change the `pyvista` global theme option `pyvista.global_theme.notebook` to `False`."
   ]
  },
  {
   "cell_type": "code",
   "execution_count": null,
   "id": "6e848509-059d-4760-93e8-860be24be7e7",
   "metadata": {},
   "outputs": [],
   "source": [
    "backup_notebook = pyvista.global_theme.notebook"
   ]
  },
  {
   "cell_type": "code",
   "execution_count": null,
   "id": "68b1ab48-ecd8-480a-90aa-e0ed96e49a9a",
   "metadata": {},
   "outputs": [],
   "source": [
    "pyvista.global_theme.notebook = False\n",
    "if os.environ.get(\"DISPLAY\", \"\") != \":99\":  # do not open render window on CI or on website\n",
    "    viskex.dolfinx.plot_mesh(square)"
   ]
  },
  {
   "cell_type": "code",
   "execution_count": null,
   "id": "4495a14f-3749-4772-9607-3e7612ec3e1e",
   "metadata": {},
   "outputs": [],
   "source": [
    "pyvista.global_theme.notebook = backup_notebook"
   ]
  }
 ],
 "metadata": {
  "kernelspec": {
   "display_name": "Python 3 (ipykernel)",
   "language": "python",
   "name": "python3"
  },
  "language_info": {
   "codemirror_mode": {
    "name": "ipython"
   },
   "file_extension": ".py",
   "mimetype": "text/x-python",
   "name": "python",
   "nbconvert_exporter": "python"
  }
 },
 "nbformat": 4,
 "nbformat_minor": 5
}
