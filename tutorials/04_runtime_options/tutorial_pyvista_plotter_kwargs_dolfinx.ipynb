{
 "cells": [
  {
   "cell_type": "markdown",
   "id": "ee0c3656-c9d7-428a-b0f8-7a90df139f8d",
   "metadata": {},
   "source": [
    "# Providing keyword arguments to the pyvista plotter"
   ]
  },
  {
   "cell_type": "code",
   "execution_count": null,
   "id": "775eabcd-7a6c-4725-963b-d0208ae1498e",
   "metadata": {},
   "outputs": [],
   "source": [
    "import dolfinx.mesh\n",
    "import mpi4py.MPI"
   ]
  },
  {
   "cell_type": "code",
   "execution_count": null,
   "id": "d000a091-97d1-4f3d-8d1d-33729bc5abf3",
   "metadata": {},
   "outputs": [],
   "source": [
    "import viskex"
   ]
  },
  {
   "cell_type": "markdown",
   "id": "39a3690a-a941-4dbe-955f-d08347527704",
   "metadata": {},
   "source": [
    "Generate a mesh of the unit square by dividing each edge of the square in 6 segments."
   ]
  },
  {
   "cell_type": "code",
   "execution_count": null,
   "id": "b23ab579-71b1-49f5-b838-ca9e0d2d052a",
   "metadata": {},
   "outputs": [],
   "source": [
    "square = dolfinx.mesh.create_unit_square(mpi4py.MPI.COMM_WORLD, 6, 6)"
   ]
  },
  {
   "cell_type": "markdown",
   "id": "1d88a57f-715a-40cb-8672-9030ca5c3e68",
   "metadata": {},
   "source": [
    "Each plotting function accepts optional keyword arguments, that are passed directly to the `add_mesh` method of the underlying pyvista plotter. For instance, the following two notebook cells plot the mesh using `pyvista` default color (red) first, and then using a custom color provided as a keyword argument (blue)."
   ]
  },
  {
   "cell_type": "code",
   "execution_count": null,
   "id": "c310de4e-8695-4d14-8c14-8d1575dba49e",
   "metadata": {},
   "outputs": [],
   "source": [
    "viskex.dolfinx.plot_mesh(square)"
   ]
  },
  {
   "cell_type": "code",
   "execution_count": null,
   "id": "2ae722c0-16d7-44ae-bce1-ef1c4c6378d8",
   "metadata": {},
   "outputs": [],
   "source": [
    "viskex.dolfinx.plot_mesh(square, color=\"blue\")"
   ]
  }
 ],
 "metadata": {
  "kernelspec": {
   "display_name": "Python 3 (ipykernel)",
   "language": "python",
   "name": "python3"
  },
  "language_info": {
   "codemirror_mode": {
    "name": "ipython"
   },
   "file_extension": ".py",
   "mimetype": "text/x-python",
   "name": "python",
   "nbconvert_exporter": "python"
  }
 },
 "nbformat": 4,
 "nbformat_minor": 5
}
