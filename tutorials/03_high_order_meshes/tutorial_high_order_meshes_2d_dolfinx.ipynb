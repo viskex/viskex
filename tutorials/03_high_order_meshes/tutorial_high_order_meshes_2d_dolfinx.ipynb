{
 "cells": [
  {
   "cell_type": "markdown",
   "id": "28062c50-025f-4871-8fb4-e902e1e58c75",
   "metadata": {},
   "source": [
    "# Plotting 2D high order meshes in dolfinx"
   ]
  },
  {
   "cell_type": "code",
   "execution_count": null,
   "id": "887fc9e0-440d-4385-8961-7598280885ac",
   "metadata": {},
   "outputs": [],
   "source": [
    "import dolfinx  # noqa: F401\n",
    "import gmsh\n",
    "import mpi4py.MPI"
   ]
  },
  {
   "cell_type": "code",
   "execution_count": null,
   "id": "826a288e-69d6-4d13-99d8-5bcef2c7047a",
   "metadata": {},
   "outputs": [],
   "source": [
    "import viskex"
   ]
  },
  {
   "cell_type": "code",
   "execution_count": null,
   "id": "41f2f87d-2713-41ca-b45b-bf9aa50847f6",
   "metadata": {},
   "outputs": [],
   "source": [
    "import common_03_dolfinx as common  # isort: skip"
   ]
  },
  {
   "cell_type": "markdown",
   "id": "712f7cff-cd34-414a-ba45-02fdb5432b86",
   "metadata": {},
   "source": [
    "Create first, second and third order meshes of the unit disk."
   ]
  },
  {
   "cell_type": "code",
   "execution_count": null,
   "id": "01da4512-3733-408c-bdab-af1902be76ab",
   "metadata": {},
   "outputs": [],
   "source": [
    "gmsh.initialize()"
   ]
  },
  {
   "cell_type": "code",
   "execution_count": null,
   "id": "0b8851b5-ca1e-4983-aee8-a5b64077607b",
   "metadata": {},
   "outputs": [],
   "source": [
    "gmsh.option.setNumber(\"General.Verbosity\", 1)"
   ]
  },
  {
   "cell_type": "code",
   "execution_count": null,
   "id": "21495f9f-6b76-4aa0-ae77-882817fa4897",
   "metadata": {},
   "outputs": [],
   "source": [
    "mesh_1, cell_tags_1, facet_tags_1, vertex_tags_1 = common.create_unit_disk(\n",
    "    mpi4py.MPI.COMM_WORLD, order=1, num_segments=3)"
   ]
  },
  {
   "cell_type": "code",
   "execution_count": null,
   "id": "81f059a6-5833-438c-b0a4-6f38176a5e69",
   "metadata": {},
   "outputs": [],
   "source": [
    "mesh_2, cell_tags_2, facet_tags_2, vertex_tags_2 = common.create_unit_disk(\n",
    "    mpi4py.MPI.COMM_WORLD, order=2, num_segments=3)"
   ]
  },
  {
   "cell_type": "code",
   "execution_count": null,
   "id": "c6210339-0b79-4196-955f-19a712488eca",
   "metadata": {},
   "outputs": [],
   "source": [
    "mesh_3, cell_tags_3, facet_tags_3, vertex_tags_3 = common.create_unit_disk(\n",
    "    mpi4py.MPI.COMM_WORLD, order=3, num_segments=3)"
   ]
  },
  {
   "cell_type": "code",
   "execution_count": null,
   "id": "15a852d9-8c82-4200-827e-223bcd3451f4",
   "metadata": {},
   "outputs": [],
   "source": [
    "gmsh.finalize()"
   ]
  },
  {
   "cell_type": "markdown",
   "id": "a3e06500-8b8e-48c8-a5cf-55bc8e7e9d54",
   "metadata": {},
   "source": [
    "Plot meshes. Note the differences on the boundary of the circle, where high order meshes appear more \"curved\"."
   ]
  },
  {
   "cell_type": "code",
   "execution_count": null,
   "id": "4249f557-9e0a-4b6e-a30e-f70837d445e4",
   "metadata": {},
   "outputs": [],
   "source": [
    "viskex.dolfinx.plot_mesh(mesh_1)"
   ]
  },
  {
   "cell_type": "code",
   "execution_count": null,
   "id": "3518c154-d16b-4c22-abb9-87e9fd2eb641",
   "metadata": {},
   "outputs": [],
   "source": [
    "viskex.dolfinx.plot_mesh(mesh_2)"
   ]
  },
  {
   "cell_type": "code",
   "execution_count": null,
   "id": "40764e17-720b-4521-9a73-e87de99b9769",
   "metadata": {},
   "outputs": [],
   "source": [
    "viskex.dolfinx.plot_mesh(mesh_3)"
   ]
  },
  {
   "cell_type": "markdown",
   "id": "277afe80-c60b-4555-a4b7-9a692063f356",
   "metadata": {},
   "source": [
    "Plot mesh facets (i.e. segments), highlighting their nodes. Note how the second order mesh has a node in the midpoint of each segment. Similarly, the third order mesh has two nodes on each segment and a node in the barycenter of the cell."
   ]
  },
  {
   "cell_type": "code",
   "execution_count": null,
   "id": "8d5fba6f-bcef-46ef-b26b-b96873a5b12c",
   "metadata": {},
   "outputs": [],
   "source": [
    "viskex.dolfinx.plot_mesh(mesh_1, dim=1, show_vertices=True)"
   ]
  },
  {
   "cell_type": "code",
   "execution_count": null,
   "id": "6e6db390-1893-43bc-b0c5-2a15611c3758",
   "metadata": {},
   "outputs": [],
   "source": [
    "viskex.dolfinx.plot_mesh(mesh_2, dim=1, show_vertices=True)"
   ]
  },
  {
   "cell_type": "code",
   "execution_count": null,
   "id": "16742591-86bf-4f2e-a2ef-03c140115448",
   "metadata": {},
   "outputs": [],
   "source": [
    "viskex.dolfinx.plot_mesh(mesh_3, dim=1, show_vertices=True)"
   ]
  },
  {
   "cell_type": "markdown",
   "id": "d79fce7e-268f-409c-94e5-14015c3f17d4",
   "metadata": {},
   "source": [
    "Plot mesh nodes. Note that high order meshes have more nodes than the first order one, as discussed above."
   ]
  },
  {
   "cell_type": "code",
   "execution_count": null,
   "id": "2b1477af-72f8-4d34-bc7a-e7fb40121406",
   "metadata": {},
   "outputs": [],
   "source": [
    "viskex.dolfinx.plot_mesh(mesh_1, dim=0)"
   ]
  },
  {
   "cell_type": "code",
   "execution_count": null,
   "id": "29803203-f0da-4fbd-adc6-a3cd233b0fb1",
   "metadata": {},
   "outputs": [],
   "source": [
    "viskex.dolfinx.plot_mesh(mesh_2, dim=0)"
   ]
  },
  {
   "cell_type": "code",
   "execution_count": null,
   "id": "37fa4496-4c52-4c1a-8cf6-1b21affb79df",
   "metadata": {},
   "outputs": [],
   "source": [
    "viskex.dolfinx.plot_mesh(mesh_3, dim=0)"
   ]
  },
  {
   "cell_type": "markdown",
   "id": "1e240a82-a7d4-4b33-ab63-675be7ec033b",
   "metadata": {},
   "source": [
    "Plot the cell tags, identifying four subdomains."
   ]
  },
  {
   "cell_type": "code",
   "execution_count": null,
   "id": "955f275f-dc27-4e67-879c-9f8ecbf5c056",
   "metadata": {},
   "outputs": [],
   "source": [
    "viskex.dolfinx.plot_mesh_tags(mesh_1, cell_tags_1, \"Cell tags\")"
   ]
  },
  {
   "cell_type": "code",
   "execution_count": null,
   "id": "6ad2a0e9-60f5-42e5-af48-b4e67a1995f9",
   "metadata": {},
   "outputs": [],
   "source": [
    "viskex.dolfinx.plot_mesh_tags(mesh_2, cell_tags_2, \"Cell tags\")"
   ]
  },
  {
   "cell_type": "code",
   "execution_count": null,
   "id": "b1463395-fd64-413a-b761-18eadf693cf5",
   "metadata": {},
   "outputs": [],
   "source": [
    "viskex.dolfinx.plot_mesh_tags(mesh_3, cell_tags_3, \"Cell tags\")"
   ]
  },
  {
   "cell_type": "markdown",
   "id": "05ad3ae2-3d44-4836-9319-6d0be544d1f9",
   "metadata": {},
   "source": [
    "Plot the facet tags, identifying four boundaries and four interfaces."
   ]
  },
  {
   "cell_type": "code",
   "execution_count": null,
   "id": "faab4e3c-eb4c-4c9b-98b1-dc0f3c61a541",
   "metadata": {},
   "outputs": [],
   "source": [
    "viskex.dolfinx.plot_mesh_tags(mesh_1, facet_tags_1, \"Facet tags\")"
   ]
  },
  {
   "cell_type": "code",
   "execution_count": null,
   "id": "9dec2810-75f7-4399-969d-e205ed39388f",
   "metadata": {},
   "outputs": [],
   "source": [
    "viskex.dolfinx.plot_mesh_tags(mesh_2, facet_tags_2, \"Facet tags\")"
   ]
  },
  {
   "cell_type": "code",
   "execution_count": null,
   "id": "a5a3cb54-a12f-4a12-8907-8fe7fdd16626",
   "metadata": {},
   "outputs": [],
   "source": [
    "viskex.dolfinx.plot_mesh_tags(mesh_3, facet_tags_3, \"Facet tags\")"
   ]
  },
  {
   "cell_type": "markdown",
   "id": "0388cc7a-85ab-4065-aa14-b2c7119284f5",
   "metadata": {},
   "source": [
    "Plot the vertex tags, identifying all vertices on the interfaces and the origin. Note that in high order meshes the high order nodes are *not* tagged."
   ]
  },
  {
   "cell_type": "code",
   "execution_count": null,
   "id": "f10b1821-5ed8-4a48-abc7-b18735ec376a",
   "metadata": {},
   "outputs": [],
   "source": [
    "if vertex_tags_1 is not None:  # dolfinx < 0.10.0 does not read vertex tags\n",
    "    viskex.dolfinx.plot_mesh_tags(mesh_1, vertex_tags_1, \"Vertex tags\")"
   ]
  },
  {
   "cell_type": "code",
   "execution_count": null,
   "id": "73b0aec7-d7da-4797-8d99-d5f9d708c96a",
   "metadata": {},
   "outputs": [],
   "source": [
    "if vertex_tags_2 is not None:  # dolfinx < 0.10.0 does not read vertex tags\n",
    "    viskex.dolfinx.plot_mesh_tags(mesh_2, vertex_tags_2, \"Vertex tags\")"
   ]
  },
  {
   "cell_type": "code",
   "execution_count": null,
   "id": "7b74a10d-5a5b-49dc-b592-53070a3cf6a4",
   "metadata": {},
   "outputs": [],
   "source": [
    "if vertex_tags_3 is not None:  # dolfinx < 0.10.0 does not read vertex tags\n",
    "    viskex.dolfinx.plot_mesh_tags(mesh_3, vertex_tags_3, \"Vertex tags\")"
   ]
  }
 ],
 "metadata": {
  "kernelspec": {
   "display_name": "Python 3 (ipykernel)",
   "language": "python",
   "name": "python3"
  },
  "language_info": {
   "codemirror_mode": {
    "name": "ipython"
   },
   "file_extension": ".py",
   "mimetype": "text/x-python",
   "name": "python",
   "nbconvert_exporter": "python"
  }
 },
 "nbformat": 4,
 "nbformat_minor": 5
}
