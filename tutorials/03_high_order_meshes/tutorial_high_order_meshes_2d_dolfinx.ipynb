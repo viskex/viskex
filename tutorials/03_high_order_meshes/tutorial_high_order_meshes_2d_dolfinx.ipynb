{
 "cells": [
  {
   "cell_type": "markdown",
   "id": "28062c50-025f-4871-8fb4-e902e1e58c75",
   "metadata": {},
   "source": [
    "# Plotting 2D high order meshes in dolfinx"
   ]
  },
  {
   "cell_type": "code",
   "execution_count": null,
   "id": "887fc9e0-440d-4385-8961-7598280885ac",
   "metadata": {},
   "outputs": [],
   "source": [
    "import dolfinx  # noqa: F401\n",
    "import gmsh\n",
    "import mpi4py.MPI"
   ]
  },
  {
   "cell_type": "code",
   "execution_count": null,
   "id": "826a288e-69d6-4d13-99d8-5bcef2c7047a",
   "metadata": {},
   "outputs": [],
   "source": [
    "import viskex"
   ]
  },
  {
   "cell_type": "code",
   "execution_count": null,
   "id": "41f2f87d-2713-41ca-b45b-bf9aa50847f6",
   "metadata": {},
   "outputs": [],
   "source": [
    "import common_03_dolfinx as common  # isort: skip"
   ]
  },
  {
   "cell_type": "code",
   "execution_count": null,
   "id": "e8a59dbb-5415-4928-b823-e25be748c14f",
   "metadata": {},
   "outputs": [],
   "source": [
    "%load_ext nbvalx"
   ]
  },
  {
   "cell_type": "code",
   "execution_count": null,
   "id": "d59081a1-a8a7-4c19-b2fb-fb2db8d2c522",
   "metadata": {},
   "outputs": [],
   "source": [
    "%%register_allowed_parameters\n",
    "order: 1, 2, 3"
   ]
  },
  {
   "cell_type": "code",
   "execution_count": null,
   "id": "ef9bd75b-5df2-43a2-99c0-5db003c03ed7",
   "metadata": {},
   "outputs": [],
   "source": [
    "%%register_current_parameters\n",
    "order = 2"
   ]
  },
  {
   "cell_type": "markdown",
   "id": "712f7cff-cd34-414a-ba45-02fdb5432b86",
   "metadata": {},
   "source": [
    "Create a mesh of the unit disk with the provided order."
   ]
  },
  {
   "cell_type": "code",
   "execution_count": null,
   "id": "01da4512-3733-408c-bdab-af1902be76ab",
   "metadata": {},
   "outputs": [],
   "source": [
    "gmsh.initialize()"
   ]
  },
  {
   "cell_type": "code",
   "execution_count": null,
   "id": "0b8851b5-ca1e-4983-aee8-a5b64077607b",
   "metadata": {},
   "outputs": [],
   "source": [
    "gmsh.option.setNumber(\"General.Verbosity\", 1)"
   ]
  },
  {
   "cell_type": "code",
   "execution_count": null,
   "id": "21495f9f-6b76-4aa0-ae77-882817fa4897",
   "metadata": {},
   "outputs": [],
   "source": [
    "mesh, cell_tags, facet_tags, vertex_tags = common.create_unit_disk(\n",
    "    mpi4py.MPI.COMM_WORLD, order=order, num_segments=3)"
   ]
  },
  {
   "cell_type": "code",
   "execution_count": null,
   "id": "15a852d9-8c82-4200-827e-223bcd3451f4",
   "metadata": {},
   "outputs": [],
   "source": [
    "gmsh.finalize()"
   ]
  },
  {
   "cell_type": "markdown",
   "id": "a3e06500-8b8e-48c8-a5cf-55bc8e7e9d54",
   "metadata": {},
   "source": [
    "Plot the mesh. Note that high order meshes appear more \"curved\" on the boundary of the circle."
   ]
  },
  {
   "cell_type": "code",
   "execution_count": null,
   "id": "4249f557-9e0a-4b6e-a30e-f70837d445e4",
   "metadata": {},
   "outputs": [],
   "source": [
    "viskex.dolfinx.plot_mesh(mesh)"
   ]
  },
  {
   "cell_type": "markdown",
   "id": "277afe80-c60b-4555-a4b7-9a692063f356",
   "metadata": {},
   "source": [
    "Plot mesh facets (i.e. segments), highlighting their nodes. Note how the high orderer meshes have additional nodes compared to first order meshes. For instance, a second order mesh has a node in the midpoint of each segment. Similarly, a third order mesh has two nodes on each segment and a node in the barycenter of the cell."
   ]
  },
  {
   "cell_type": "code",
   "execution_count": null,
   "id": "8d5fba6f-bcef-46ef-b26b-b96873a5b12c",
   "metadata": {},
   "outputs": [],
   "source": [
    "viskex.dolfinx.plot_mesh(mesh, dim=1, show_vertices=True)"
   ]
  },
  {
   "cell_type": "markdown",
   "id": "d79fce7e-268f-409c-94e5-14015c3f17d4",
   "metadata": {},
   "source": [
    "Plot mesh nodes. Note that high order meshes have more nodes than a first order one, as discussed above."
   ]
  },
  {
   "cell_type": "code",
   "execution_count": null,
   "id": "37fa4496-4c52-4c1a-8cf6-1b21affb79df",
   "metadata": {},
   "outputs": [],
   "source": [
    "viskex.dolfinx.plot_mesh(mesh, dim=0)"
   ]
  },
  {
   "cell_type": "markdown",
   "id": "1e240a82-a7d4-4b33-ab63-675be7ec033b",
   "metadata": {},
   "source": [
    "Plot the cell tags, identifying four subdomains."
   ]
  },
  {
   "cell_type": "code",
   "execution_count": null,
   "id": "955f275f-dc27-4e67-879c-9f8ecbf5c056",
   "metadata": {},
   "outputs": [],
   "source": [
    "viskex.dolfinx.plot_mesh_tags(mesh, cell_tags, \"Cell tags\")"
   ]
  },
  {
   "cell_type": "markdown",
   "id": "05ad3ae2-3d44-4836-9319-6d0be544d1f9",
   "metadata": {},
   "source": [
    "Plot the facet tags, identifying four boundaries and four interfaces."
   ]
  },
  {
   "cell_type": "code",
   "execution_count": null,
   "id": "faab4e3c-eb4c-4c9b-98b1-dc0f3c61a541",
   "metadata": {},
   "outputs": [],
   "source": [
    "viskex.dolfinx.plot_mesh_tags(mesh, facet_tags, \"Facet tags\")"
   ]
  },
  {
   "cell_type": "markdown",
   "id": "0388cc7a-85ab-4065-aa14-b2c7119284f5",
   "metadata": {},
   "source": [
    "Plot the vertex tags, identifying all vertices on the interfaces and the origin. Note that in high order meshes the high order nodes are *not* tagged."
   ]
  },
  {
   "cell_type": "code",
   "execution_count": null,
   "id": "f10b1821-5ed8-4a48-abc7-b18735ec376a",
   "metadata": {},
   "outputs": [],
   "source": [
    "if vertex_tags is not None:  # dolfinx < 0.10.0 does not read vertex tags\n",
    "    viskex.dolfinx.plot_mesh_tags(mesh, vertex_tags, \"Vertex tags\")"
   ]
  }
 ],
 "metadata": {
  "kernelspec": {
   "display_name": "Python 3 (ipykernel)",
   "language": "python",
   "name": "python3"
  },
  "language_info": {
   "codemirror_mode": {
    "name": "ipython"
   },
   "file_extension": ".py",
   "mimetype": "text/x-python",
   "name": "python",
   "nbconvert_exporter": "python"
  }
 },
 "nbformat": 4,
 "nbformat_minor": 5
}
