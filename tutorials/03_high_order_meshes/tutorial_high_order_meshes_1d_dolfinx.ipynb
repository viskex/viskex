{
 "cells": [
  {
   "cell_type": "markdown",
   "id": "6cad0127-5032-4ff0-8242-85b0478147c0",
   "metadata": {},
   "source": [
    "# Plotting 1D high order meshes in dolfinx"
   ]
  },
  {
   "cell_type": "code",
   "execution_count": null,
   "id": "22b1dc6d-4754-4b3d-878d-e4629e232a71",
   "metadata": {},
   "outputs": [],
   "source": [
    "import dolfinx  # noqa: F401\n",
    "import gmsh\n",
    "import mpi4py.MPI"
   ]
  },
  {
   "cell_type": "code",
   "execution_count": null,
   "id": "24d952ff-09b9-4391-a459-cd413c62e59c",
   "metadata": {},
   "outputs": [],
   "source": [
    "import viskex"
   ]
  },
  {
   "cell_type": "code",
   "execution_count": null,
   "id": "7b73b59f-6990-4c48-873b-ea03692fdc8b",
   "metadata": {},
   "outputs": [],
   "source": [
    "import common_03_dolfinx as common  # isort: skip"
   ]
  },
  {
   "cell_type": "markdown",
   "id": "0725380a-dc3c-4be0-9c94-cff4dcd923e1",
   "metadata": {},
   "source": [
    "Create first, second and third order meshes of the reference interval."
   ]
  },
  {
   "cell_type": "code",
   "execution_count": null,
   "id": "35eca097-22f4-4928-b1f9-9cc58ef64039",
   "metadata": {},
   "outputs": [],
   "source": [
    "gmsh.initialize()"
   ]
  },
  {
   "cell_type": "code",
   "execution_count": null,
   "id": "b18eaf1a-e0a3-49af-90e3-bb6846e969bd",
   "metadata": {},
   "outputs": [],
   "source": [
    "gmsh.option.setNumber(\"General.Verbosity\", 1)"
   ]
  },
  {
   "cell_type": "code",
   "execution_count": null,
   "id": "e771aa40-43fa-40ea-84d1-00a3e74bf47b",
   "metadata": {},
   "outputs": [],
   "source": [
    "mesh_1, cell_tags_1, facet_tags_1 = common.create_reference_interval(\n",
    "    mpi4py.MPI.COMM_WORLD, order=1, num_segments=6)"
   ]
  },
  {
   "cell_type": "code",
   "execution_count": null,
   "id": "898221ba-7c9b-4be4-86c8-10faf94c3fd0",
   "metadata": {},
   "outputs": [],
   "source": [
    "mesh_2, cell_tags_2, facet_tags_2 = common.create_reference_interval(\n",
    "    mpi4py.MPI.COMM_WORLD, order=2, num_segments=6)"
   ]
  },
  {
   "cell_type": "code",
   "execution_count": null,
   "id": "90585805-359d-4bec-9db3-0f8e8e123ecd",
   "metadata": {},
   "outputs": [],
   "source": [
    "mesh_3, cell_tags_3, facet_tags_3 = common.create_reference_interval(\n",
    "    mpi4py.MPI.COMM_WORLD, order=3, num_segments=6)"
   ]
  },
  {
   "cell_type": "code",
   "execution_count": null,
   "id": "0b80e1d1-3b5e-4db2-809e-bdaa46cef7cb",
   "metadata": {},
   "outputs": [],
   "source": [
    "gmsh.finalize()"
   ]
  },
  {
   "cell_type": "markdown",
   "id": "9d0d9e28-35da-4dc0-bf2b-39bbd0cd6181",
   "metadata": {},
   "source": [
    "Plot meshes. Note how more nodes appear when using a high order mesh."
   ]
  },
  {
   "cell_type": "code",
   "execution_count": null,
   "id": "c261f626-fd4e-4c36-b849-0e863e380e7e",
   "metadata": {},
   "outputs": [],
   "source": [
    "viskex.dolfinx.plot_mesh(mesh_1)"
   ]
  },
  {
   "cell_type": "code",
   "execution_count": null,
   "id": "4f84eaf0-62c0-4bf6-9675-7ac7ead7e8cc",
   "metadata": {},
   "outputs": [],
   "source": [
    "viskex.dolfinx.plot_mesh(mesh_2)"
   ]
  },
  {
   "cell_type": "code",
   "execution_count": null,
   "id": "acec4035-8344-4a72-bb31-220a3f3da91a",
   "metadata": {},
   "outputs": [],
   "source": [
    "viskex.dolfinx.plot_mesh(mesh_3)"
   ]
  },
  {
   "cell_type": "code",
   "execution_count": null,
   "id": "df644aae-c820-4d4a-ae07-85f3ff20b91f",
   "metadata": {},
   "outputs": [],
   "source": [
    "viskex.dolfinx.plot_mesh(mesh_1, dim=0)"
   ]
  },
  {
   "cell_type": "code",
   "execution_count": null,
   "id": "4fc1c46d-00de-4f24-b9a6-3ae05b2c4d0f",
   "metadata": {},
   "outputs": [],
   "source": [
    "viskex.dolfinx.plot_mesh(mesh_2, dim=0)"
   ]
  },
  {
   "cell_type": "code",
   "execution_count": null,
   "id": "78c9e136-7bfd-4bab-98b9-c79d8d726d49",
   "metadata": {},
   "outputs": [],
   "source": [
    "viskex.dolfinx.plot_mesh(mesh_3, dim=0)"
   ]
  },
  {
   "cell_type": "markdown",
   "id": "6f701a9e-001f-4172-9727-e5c0f989cb19",
   "metadata": {},
   "source": [
    "Plot the cell tags, identifying two subdomains."
   ]
  },
  {
   "cell_type": "code",
   "execution_count": null,
   "id": "794566de-7c70-44d6-be8e-31e7ac72ec65",
   "metadata": {},
   "outputs": [],
   "source": [
    "viskex.dolfinx.plot_mesh_tags(mesh_1, cell_tags_1, \"Cell tags\")"
   ]
  },
  {
   "cell_type": "code",
   "execution_count": null,
   "id": "af4d41e3-9538-4831-8b57-da5ed45b1f63",
   "metadata": {},
   "outputs": [],
   "source": [
    "viskex.dolfinx.plot_mesh_tags(mesh_2, cell_tags_2, \"Cell tags\")"
   ]
  },
  {
   "cell_type": "code",
   "execution_count": null,
   "id": "ff1a7aad-380c-4dda-8385-042d42def90e",
   "metadata": {},
   "outputs": [],
   "source": [
    "viskex.dolfinx.plot_mesh_tags(mesh_3, cell_tags_3, \"Cell tags\")"
   ]
  },
  {
   "cell_type": "markdown",
   "id": "cf013d89-6edb-4e85-b21c-435b7616cc32",
   "metadata": {},
   "source": [
    "Plot the facet tags, identifying two boundaries (endpoints) and one interface (the origin)."
   ]
  },
  {
   "cell_type": "code",
   "execution_count": null,
   "id": "6d3b0643-3a05-411d-87ae-7a7178f4364e",
   "metadata": {},
   "outputs": [],
   "source": [
    "viskex.dolfinx.plot_mesh_tags(mesh_1, facet_tags_1, \"Facet tags\")"
   ]
  },
  {
   "cell_type": "code",
   "execution_count": null,
   "id": "b920fcd1-b1a9-498c-9e7c-879e50093169",
   "metadata": {},
   "outputs": [],
   "source": [
    "viskex.dolfinx.plot_mesh_tags(mesh_2, facet_tags_2, \"Facet tags\")"
   ]
  },
  {
   "cell_type": "code",
   "execution_count": null,
   "id": "51de2410-4dd0-4640-8113-757dc50fcba9",
   "metadata": {},
   "outputs": [],
   "source": [
    "viskex.dolfinx.plot_mesh_tags(mesh_3, facet_tags_3, \"Facet tags\")"
   ]
  }
 ],
 "metadata": {
  "kernelspec": {
   "display_name": "Python 3 (ipykernel)",
   "language": "python",
   "name": "python3"
  },
  "language_info": {
   "codemirror_mode": {
    "name": "ipython"
   },
   "file_extension": ".py",
   "mimetype": "text/x-python",
   "name": "python",
   "nbconvert_exporter": "python"
  }
 },
 "nbformat": 4,
 "nbformat_minor": 5
}
