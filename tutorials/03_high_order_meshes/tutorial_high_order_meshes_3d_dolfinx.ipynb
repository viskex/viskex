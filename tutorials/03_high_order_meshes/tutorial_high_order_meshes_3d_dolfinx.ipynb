{
 "cells": [
  {
   "cell_type": "markdown",
   "id": "b71cd947-8788-4da1-a131-b0fe8046478f",
   "metadata": {},
   "source": [
    "# Plotting 3D high order meshes in dolfinx"
   ]
  },
  {
   "cell_type": "code",
   "execution_count": null,
   "id": "269acf4e-6c15-4ecc-91b3-e92c208d7c16",
   "metadata": {},
   "outputs": [],
   "source": [
    "import dolfinx  # noqa: F401\n",
    "import gmsh\n",
    "import mpi4py.MPI"
   ]
  },
  {
   "cell_type": "code",
   "execution_count": null,
   "id": "8a3c3254-c092-4a32-99cd-382f3bcdbcb5",
   "metadata": {},
   "outputs": [],
   "source": [
    "import viskex"
   ]
  },
  {
   "cell_type": "code",
   "execution_count": null,
   "id": "a1012dd3-2900-4ebe-b5a9-34ad88c2bc31",
   "metadata": {},
   "outputs": [],
   "source": [
    "import common_03_dolfinx as common  # isort: skip"
   ]
  },
  {
   "cell_type": "code",
   "execution_count": null,
   "id": "d1ae9b57-66ee-452b-b77b-17a0b4592bb9",
   "metadata": {},
   "outputs": [],
   "source": [
    "%load_ext nbvalx"
   ]
  },
  {
   "cell_type": "code",
   "execution_count": null,
   "id": "1e714741-c7fc-4905-af61-3aaf8466a6cd",
   "metadata": {},
   "outputs": [],
   "source": [
    "%%register_allowed_parameters\n",
    "order: 1, 2, 3"
   ]
  },
  {
   "cell_type": "code",
   "execution_count": null,
   "id": "367563a0-26c5-451e-a1fb-97b4e985cc65",
   "metadata": {},
   "outputs": [],
   "source": [
    "%%register_current_parameters\n",
    "order = 2"
   ]
  },
  {
   "cell_type": "markdown",
   "id": "d4c8d8bc-5587-451f-9771-e878768b35f8",
   "metadata": {},
   "source": [
    "Create a mesh of the unit ball with the provided order."
   ]
  },
  {
   "cell_type": "code",
   "execution_count": null,
   "id": "307a9ada-f1e1-4e9a-8340-4d224ba78e38",
   "metadata": {},
   "outputs": [],
   "source": [
    "gmsh.initialize()"
   ]
  },
  {
   "cell_type": "code",
   "execution_count": null,
   "id": "58685684-dedd-4c3e-b025-23a82045ce68",
   "metadata": {},
   "outputs": [],
   "source": [
    "gmsh.option.setNumber(\"General.Verbosity\", 1)"
   ]
  },
  {
   "cell_type": "code",
   "execution_count": null,
   "id": "2d24afab-e3ab-4ffc-a9e3-1f6b9384c988",
   "metadata": {},
   "outputs": [],
   "source": [
    "mesh, cell_tags, facet_tags, edge_tags, vertex_tags = common.create_unit_ball(\n",
    "    mpi4py.MPI.COMM_WORLD, order=order, num_segments=3)"
   ]
  },
  {
   "cell_type": "code",
   "execution_count": null,
   "id": "8f23d54c-52e5-4a83-9aba-da76e3b7e1be",
   "metadata": {},
   "outputs": [],
   "source": [
    "gmsh.finalize()"
   ]
  },
  {
   "cell_type": "markdown",
   "id": "52b681f9-b23e-4d80-a1ef-dfea9f41bdf6",
   "metadata": {},
   "source": [
    "Plot the mesh. Note that high order meshes appear more \"curved\" on the boundary of the circle."
   ]
  },
  {
   "cell_type": "code",
   "execution_count": null,
   "id": "f877a3c6-31c2-48e8-b5ea-92a274ee88a3",
   "metadata": {},
   "outputs": [],
   "source": [
    "viskex.dolfinx.plot_mesh(mesh)"
   ]
  },
  {
   "cell_type": "markdown",
   "id": "ebe7cf4e-5d9d-4034-b2b4-6ff8c420f78b",
   "metadata": {},
   "source": [
    "Plot mesh faces and edges, highlighting their nodes. Note that high order meshes have additional nodes located on faces and edges."
   ]
  },
  {
   "cell_type": "code",
   "execution_count": null,
   "id": "618a2066-2f6e-415d-8cef-cf6874d83f3b",
   "metadata": {},
   "outputs": [],
   "source": [
    "viskex.dolfinx.plot_mesh(mesh, dim=2, show_vertices=True)"
   ]
  },
  {
   "cell_type": "code",
   "execution_count": null,
   "id": "37a311d8-fcb3-4c29-967f-11d977293e4f",
   "metadata": {},
   "outputs": [],
   "source": [
    "viskex.dolfinx.plot_mesh(mesh, dim=1, show_vertices=True)"
   ]
  },
  {
   "cell_type": "markdown",
   "id": "bd2fa940-10dc-4498-8abf-456f9c3b4fa8",
   "metadata": {},
   "source": [
    "Plot mesh nodes. Note that high order meshes have more nodes than a first order one, as discussed above."
   ]
  },
  {
   "cell_type": "code",
   "execution_count": null,
   "id": "0550c875-324f-4a44-9c00-bf8cc9a5cdc5",
   "metadata": {},
   "outputs": [],
   "source": [
    "viskex.dolfinx.plot_mesh(mesh, dim=0)"
   ]
  },
  {
   "cell_type": "markdown",
   "id": "f69e0d82-6017-4a0d-8186-7a3cb63eaa97",
   "metadata": {},
   "source": [
    "Plot the cell tags, identifying eight subdomains."
   ]
  },
  {
   "cell_type": "code",
   "execution_count": null,
   "id": "b7c901a5-f693-45bb-b6ea-6ac36869cfa4",
   "metadata": {},
   "outputs": [],
   "source": [
    "viskex.dolfinx.plot_mesh_tags(mesh, cell_tags, \"Cell tags\")"
   ]
  },
  {
   "cell_type": "markdown",
   "id": "c3e81b40-4c82-4a31-b550-b49bfa1d55d0",
   "metadata": {},
   "source": [
    "Plot the facet tags, identifying eight boundaries and twelve interfaces."
   ]
  },
  {
   "cell_type": "code",
   "execution_count": null,
   "id": "6041b2cc-f93d-435d-89eb-442a6290bae1",
   "metadata": {},
   "outputs": [],
   "source": [
    "boundaries_range = (19, 26)\n",
    "interfaces_range = (7, 18)"
   ]
  },
  {
   "cell_type": "code",
   "execution_count": null,
   "id": "fd3478cb-52d1-47be-b91e-b95d6f18dfeb",
   "metadata": {},
   "outputs": [],
   "source": [
    "viskex.dolfinx.plot_mesh_tags(mesh, facet_tags, \"Facet tags (all)\")"
   ]
  },
  {
   "cell_type": "code",
   "execution_count": null,
   "id": "5b100bd5-dc5a-472c-b0d0-95752fc645c2",
   "metadata": {},
   "outputs": [],
   "source": [
    "viskex.dolfinx.plot_mesh_tags(\n",
    "    mesh, facet_tags, \"Facet tags (boundaries)\", lambda grid: grid.threshold(boundaries_range))"
   ]
  },
  {
   "cell_type": "code",
   "execution_count": null,
   "id": "0839c569-21a6-4777-8339-6a83de3e702e",
   "metadata": {},
   "outputs": [],
   "source": [
    "viskex.dolfinx.plot_mesh_tags(\n",
    "    mesh, facet_tags, \"Facet tags (interfaces)\", lambda grid: grid.threshold(interfaces_range))"
   ]
  },
  {
   "cell_type": "markdown",
   "id": "16e0300a-d61e-4a2f-a980-a57cf869304e",
   "metadata": {},
   "source": [
    "Plot the edge tags"
   ]
  },
  {
   "cell_type": "code",
   "execution_count": null,
   "id": "8d482d86-b35a-4d5a-8b33-7fb1423c5aed",
   "metadata": {},
   "outputs": [],
   "source": [
    "axes_range = (1, 6)"
   ]
  },
  {
   "cell_type": "code",
   "execution_count": null,
   "id": "1390a662-9ae5-44ed-aa27-09e8d43ae0b0",
   "metadata": {},
   "outputs": [],
   "source": [
    "if edge_tags is not None:  # dolfinx < 0.10.0 does not read edge tags\n",
    "    viskex.dolfinx.plot_mesh_tags(mesh, edge_tags, \"Edge tags (all)\")"
   ]
  },
  {
   "cell_type": "code",
   "execution_count": null,
   "id": "35bace6d-3131-48c1-aebc-22b64cf58477",
   "metadata": {},
   "outputs": [],
   "source": [
    "if edge_tags is not None:  # dolfinx < 0.10.0 does not read edge tags\n",
    "    viskex.dolfinx.plot_mesh_tags(\n",
    "        mesh, edge_tags, \"Edge tags (interfaces)\", lambda grid: grid.threshold(interfaces_range))"
   ]
  },
  {
   "cell_type": "code",
   "execution_count": null,
   "id": "3743f429-e25c-45f9-8cc8-22096c035013",
   "metadata": {},
   "outputs": [],
   "source": [
    "if edge_tags is not None:  # dolfinx < 0.10.0 does not read edge tags\n",
    "    viskex.dolfinx.plot_mesh_tags(\n",
    "        mesh, edge_tags, \"Edge tags (axes)\", lambda grid: grid.threshold(axes_range))"
   ]
  },
  {
   "cell_type": "markdown",
   "id": "79c57df3-03a4-4e38-9e2f-fa3bdc50cd6e",
   "metadata": {},
   "source": [
    "Plot the vertex tags, identifying all vertices on the axes and the origin. Note that in high order meshes the high order nodes are *not* tagged."
   ]
  },
  {
   "cell_type": "code",
   "execution_count": null,
   "id": "f97feae3-ed32-4fcf-bef2-ff2dbb8d4d19",
   "metadata": {},
   "outputs": [],
   "source": [
    "if vertex_tags is not None:  # dolfinx < 0.10.0 does not read vertex tags\n",
    "    viskex.dolfinx.plot_mesh_tags(mesh, vertex_tags, \"Vertex tags\")"
   ]
  }
 ],
 "metadata": {
  "kernelspec": {
   "display_name": "Python 3 (ipykernel)",
   "language": "python",
   "name": "python3"
  },
  "language_info": {
   "codemirror_mode": {
    "name": "ipython"
   },
   "file_extension": ".py",
   "mimetype": "text/x-python",
   "name": "python",
   "nbconvert_exporter": "python"
  }
 },
 "nbformat": 4,
 "nbformat_minor": 5
}
