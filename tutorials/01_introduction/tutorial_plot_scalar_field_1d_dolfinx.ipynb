{
 "cells": [
  {
   "cell_type": "markdown",
   "id": "364c1144-6023-471f-9a1b-ca1aa8fce180",
   "metadata": {},
   "source": [
    "# Plot a scalar field defined on a 1D dolfinx mesh"
   ]
  },
  {
   "cell_type": "code",
   "execution_count": null,
   "id": "775eabcd-7a6c-4725-963b-d0208ae1498e",
   "metadata": {},
   "outputs": [],
   "source": [
    "import dolfinx.mesh\n",
    "import mpi4py.MPI"
   ]
  },
  {
   "cell_type": "code",
   "execution_count": null,
   "id": "d000a091-97d1-4f3d-8d1d-33729bc5abf3",
   "metadata": {},
   "outputs": [],
   "source": [
    "import viskex"
   ]
  },
  {
   "cell_type": "code",
   "execution_count": null,
   "id": "84ee1245-b9ff-4a05-8293-87c4918db46e",
   "metadata": {},
   "outputs": [],
   "source": [
    "import common_01_dolfinx as common  # isort: skip"
   ]
  },
  {
   "cell_type": "markdown",
   "id": "0780f99c-632c-489e-bcbc-74a48b534568",
   "metadata": {},
   "source": [
    "Generate a mesh of the unit interval, divided into six cells."
   ]
  },
  {
   "cell_type": "code",
   "execution_count": null,
   "id": "3a4dddfd-a45f-45e3-8f3a-bc3942613aca",
   "metadata": {},
   "outputs": [],
   "source": [
    "interval = dolfinx.mesh.create_unit_interval(mpi4py.MPI.COMM_WORLD, 6)"
   ]
  },
  {
   "cell_type": "markdown",
   "id": "317d788d-557c-4e73-ad7f-75a0a98e4da9",
   "metadata": {},
   "source": [
    "Interpolate the scalar field $x^3$, and store it either in a dolfinx function or a UFL expression."
   ]
  },
  {
   "cell_type": "code",
   "execution_count": null,
   "id": "a637c7ad-6ee3-4de9-a016-c76f2e6ea38d",
   "metadata": {},
   "outputs": [],
   "source": [
    "interval_scalar_field, interval_scalar_field_ufl = common.prepare_scalar_field_cases(\n",
    "    interval, lambda x: x[0]**3)"
   ]
  },
  {
   "cell_type": "markdown",
   "id": "5a6633a8-98a6-4132-a55e-e4caf1916cec",
   "metadata": {},
   "source": [
    "Plot the scalar field on the mesh."
   ]
  },
  {
   "cell_type": "code",
   "execution_count": null,
   "id": "ed125e80-40dd-4623-8c74-a9fefb70d039",
   "metadata": {},
   "outputs": [],
   "source": [
    "viskex.dolfinx.plot_scalar_field(interval_scalar_field, \"scalar\")"
   ]
  },
  {
   "cell_type": "code",
   "execution_count": null,
   "id": "44fb58e5-01e1-4f75-9fe7-5ef4287ea25c",
   "metadata": {},
   "outputs": [],
   "source": [
    "viskex.dolfinx.plot_scalar_field(interval_scalar_field_ufl, \"scalar\")"
   ]
  },
  {
   "cell_type": "markdown",
   "id": "19ee2946-ffe3-4faf-bae7-f0ceb591b739",
   "metadata": {},
   "source": [
    "Warp mesh according to scalar field."
   ]
  },
  {
   "cell_type": "code",
   "execution_count": null,
   "id": "53d5a3f3-9f7a-44cf-8319-e8ac7a59dcff",
   "metadata": {},
   "outputs": [],
   "source": [
    "viskex.dolfinx.plot_scalar_field(interval_scalar_field, \"scalar\", warp_factor=0.1)"
   ]
  }
 ],
 "metadata": {
  "kernelspec": {
   "display_name": "Python 3 (ipykernel)",
   "language": "python",
   "name": "python3"
  },
  "language_info": {
   "codemirror_mode": {
    "name": "ipython"
   },
   "file_extension": ".py",
   "mimetype": "text/x-python",
   "name": "python",
   "nbconvert_exporter": "python"
  }
 },
 "nbformat": 4,
 "nbformat_minor": 5
}
