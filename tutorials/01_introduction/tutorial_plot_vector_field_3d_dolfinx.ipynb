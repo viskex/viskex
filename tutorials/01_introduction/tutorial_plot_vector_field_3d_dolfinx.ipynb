{
 "cells": [
  {
   "cell_type": "markdown",
   "id": "1ceeaded-069a-411f-a538-6e2da1fa7a10",
   "metadata": {},
   "source": [
    "# Plot a vector field defined on a 3D dolfinx mesh"
   ]
  },
  {
   "cell_type": "code",
   "execution_count": null,
   "id": "775eabcd-7a6c-4725-963b-d0208ae1498e",
   "metadata": {},
   "outputs": [],
   "source": [
    "import dolfinx.mesh\n",
    "import mpi4py.MPI"
   ]
  },
  {
   "cell_type": "code",
   "execution_count": null,
   "id": "d000a091-97d1-4f3d-8d1d-33729bc5abf3",
   "metadata": {},
   "outputs": [],
   "source": [
    "import viskex"
   ]
  },
  {
   "cell_type": "code",
   "execution_count": null,
   "id": "84ee1245-b9ff-4a05-8293-87c4918db46e",
   "metadata": {},
   "outputs": [],
   "source": [
    "import common_01_dolfinx as common  # isort: skip"
   ]
  },
  {
   "cell_type": "markdown",
   "id": "80476f65-0c60-4919-9fc9-d1f5c7b7f582",
   "metadata": {},
   "source": [
    "Generate meshes of the unit cube by dividing each edge of the cube in 6 segments, using either a tetrahedral or hexahedral mesh."
   ]
  },
  {
   "cell_type": "code",
   "execution_count": null,
   "id": "76264ca5-656f-468b-a576-6eb49283e0b0",
   "metadata": {},
   "outputs": [],
   "source": [
    "cube_tetra = dolfinx.mesh.create_unit_cube(mpi4py.MPI.COMM_WORLD, 6, 6, 6, dolfinx.mesh.CellType.tetrahedron)\n",
    "cube_hexa = dolfinx.mesh.create_unit_cube(mpi4py.MPI.COMM_WORLD, 6, 6, 6, dolfinx.mesh.CellType.hexahedron)"
   ]
  },
  {
   "cell_type": "markdown",
   "id": "528d9a93-8210-4fc2-821e-34b124c417b8",
   "metadata": {},
   "source": [
    "Interpolate the vector field $(x^3 + y^2 + z^4, x^6 + y^5 + z^7, x^9 + y^8 + z^{10})$, and store it either in a dolfinx function or a UFL expression."
   ]
  },
  {
   "cell_type": "code",
   "execution_count": null,
   "id": "b2e12aaf-3c00-4409-80a1-6921adebc270",
   "metadata": {},
   "outputs": [],
   "source": [
    "cube_tetra_vector_field, cube_tetra_vector_field_ufl = common.prepare_vector_field_cases(\n",
    "    cube_tetra, lambda x: (x[0]**3 + x[1]**2 + x[2]**4, x[0]**6 + x[1]**5 + x[2]**7, x[0]**9 + x[1]**8 + x[2]**10))\n",
    "cube_hexa_vector_field, cube_hexa_vector_field_ufl = common.prepare_vector_field_cases(\n",
    "    cube_hexa, lambda x: (x[0]**3 + x[1]**2 + x[2]**4, x[0]**6 + x[1]**5 + x[2]**7, x[0]**9 + x[1]**8 + x[2]**10))"
   ]
  },
  {
   "cell_type": "markdown",
   "id": "44fbcf31-32f4-4987-93e0-e9005934ec50",
   "metadata": {},
   "source": [
    "Plot the vector field with a contour plot."
   ]
  },
  {
   "cell_type": "code",
   "execution_count": null,
   "id": "8ee5f466-0fbd-451a-b834-e8b518c07917",
   "metadata": {},
   "outputs": [],
   "source": [
    "viskex.dolfinx.plot_vector_field(cube_tetra_vector_field, \"vector\")"
   ]
  },
  {
   "cell_type": "code",
   "execution_count": null,
   "id": "bc44ca5c-1f4c-45da-9f75-9a612739c56e",
   "metadata": {},
   "outputs": [],
   "source": [
    "viskex.dolfinx.plot_vector_field(cube_tetra_vector_field_ufl, \"vector\")"
   ]
  },
  {
   "cell_type": "code",
   "execution_count": null,
   "id": "5b4e2b75-2cb7-4b81-a400-8a1aada972df",
   "metadata": {},
   "outputs": [],
   "source": [
    "viskex.dolfinx.plot_vector_field(cube_hexa_vector_field, \"vector\")"
   ]
  },
  {
   "cell_type": "code",
   "execution_count": null,
   "id": "d243cb5e-73d1-4464-9063-4a1f6374bb98",
   "metadata": {},
   "outputs": [],
   "source": [
    "viskex.dolfinx.plot_vector_field(cube_hexa_vector_field_ufl, \"vector\")"
   ]
  },
  {
   "cell_type": "markdown",
   "id": "3932fc13-b5a2-417a-9e30-ca322643640f",
   "metadata": {},
   "source": [
    "Plot the vector field with a quiver plot."
   ]
  },
  {
   "cell_type": "code",
   "execution_count": null,
   "id": "fd6eaf3e-fc0b-42b0-8589-8b874690f12e",
   "metadata": {},
   "outputs": [],
   "source": [
    "viskex.dolfinx.plot_vector_field(cube_tetra_vector_field, \"vector\", glyph_factor=0.1)"
   ]
  },
  {
   "cell_type": "code",
   "execution_count": null,
   "id": "0ba7f3b5-15e0-462e-b079-8e2e5e4dd6aa",
   "metadata": {},
   "outputs": [],
   "source": [
    "viskex.dolfinx.plot_vector_field(cube_hexa_vector_field, \"vector\", glyph_factor=0.1)"
   ]
  },
  {
   "cell_type": "markdown",
   "id": "d68ea072-1d71-4c30-86fb-e4edbf0724bf",
   "metadata": {},
   "source": [
    "Apply the vector field as a deformation to the mesh."
   ]
  },
  {
   "cell_type": "code",
   "execution_count": null,
   "id": "7d7e046e-ff1e-40eb-9ebc-b7ee097d6021",
   "metadata": {},
   "outputs": [],
   "source": [
    "viskex.dolfinx.plot_vector_field(cube_tetra_vector_field, \"vector\", warp_factor=0.1)"
   ]
  },
  {
   "cell_type": "code",
   "execution_count": null,
   "id": "b4ffef44-26b4-458c-8244-901a9ace8cb3",
   "metadata": {},
   "outputs": [],
   "source": [
    "viskex.dolfinx.plot_vector_field(cube_hexa_vector_field, \"vector\", warp_factor=0.1)"
   ]
  }
 ],
 "metadata": {
  "kernelspec": {
   "display_name": "Python 3 (ipykernel)",
   "language": "python",
   "name": "python3"
  },
  "language_info": {
   "codemirror_mode": {
    "name": "ipython"
   },
   "file_extension": ".py",
   "mimetype": "text/x-python",
   "name": "python",
   "nbconvert_exporter": "python"
  }
 },
 "nbformat": 4,
 "nbformat_minor": 5
}
