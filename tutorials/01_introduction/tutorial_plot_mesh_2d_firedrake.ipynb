{
 "cells": [
  {
   "cell_type": "markdown",
   "id": "ccceb42d-1fb1-4aa8-b1ba-935733ffed46",
   "metadata": {},
   "source": [
    "# Plot a 2D firedrake mesh"
   ]
  },
  {
   "cell_type": "code",
   "execution_count": null,
   "id": "1918a541-9f09-429e-891e-66547863295c",
   "metadata": {},
   "outputs": [],
   "source": [
    "import firedrake"
   ]
  },
  {
   "cell_type": "code",
   "execution_count": null,
   "id": "ffc8aee3-bf2c-4fd5-99e1-8cd572a10741",
   "metadata": {},
   "outputs": [],
   "source": [
    "import viskex"
   ]
  },
  {
   "cell_type": "markdown",
   "id": "9685864d-f346-4fbd-9d5b-9af5a26e178f",
   "metadata": {},
   "source": [
    "Generate meshes of the unit square by dividing each edge of the square in 6 segments, using either a triangular or quadrangular mesh."
   ]
  },
  {
   "cell_type": "code",
   "execution_count": null,
   "id": "a1b6c089-6706-4c33-8b39-bb4c55e6f490",
   "metadata": {},
   "outputs": [],
   "source": [
    "square_tria = firedrake.UnitSquareMesh(\n",
    "    6, 6, quadrilateral=False, diagonal=\"right\",\n",
    "    distribution_parameters={\"partitioner_type\": \"simple\"})\n",
    "square_quad = firedrake.UnitSquareMesh(\n",
    "    6, 6, quadrilateral=True, diagonal=\"right\",\n",
    "    distribution_parameters={\"partitioner_type\": \"simple\"})"
   ]
  },
  {
   "cell_type": "markdown",
   "id": "01b3f8cc-e084-4b8c-8de4-121553ac7821",
   "metadata": {},
   "source": [
    "Plot the meshes."
   ]
  },
  {
   "cell_type": "code",
   "execution_count": null,
   "id": "a6f64491-765c-41cb-87b2-c7038d28d1d9",
   "metadata": {},
   "outputs": [],
   "source": [
    "viskex.firedrake.plot_mesh(square_tria)"
   ]
  },
  {
   "cell_type": "code",
   "execution_count": null,
   "id": "88c40e1b-3cb2-42d8-a0f7-c26299e14ef7",
   "metadata": {},
   "outputs": [],
   "source": [
    "viskex.firedrake.plot_mesh(square_quad)"
   ]
  },
  {
   "cell_type": "markdown",
   "id": "97012227-993f-4f2d-8f13-e08cb1b0c32c",
   "metadata": {},
   "source": [
    "An optional argument `dim` argument controls the dimension of the entities to plotted. By default, it is equal to the topological dimension. In this example, `dim=2` plots cells of the mesh (i.e., triangles or quadrilaterals), `dim=1` plots facets of the mesh (i.e., segments), while `dim=0` plots vertices of the mesh."
   ]
  },
  {
   "cell_type": "code",
   "execution_count": null,
   "id": "38179aca-a9ad-462a-aa87-ac1f8b13debc",
   "metadata": {},
   "outputs": [],
   "source": [
    "viskex.firedrake.plot_mesh(square_tria, dim=2)"
   ]
  },
  {
   "cell_type": "code",
   "execution_count": null,
   "id": "32031013-44f1-41a0-9e80-5bf67d9df93c",
   "metadata": {},
   "outputs": [],
   "source": [
    "viskex.firedrake.plot_mesh(square_quad, dim=2)"
   ]
  },
  {
   "cell_type": "code",
   "execution_count": null,
   "id": "6d917945-a76e-4225-8307-cdf0e1fa0277",
   "metadata": {},
   "outputs": [],
   "source": [
    "viskex.firedrake.plot_mesh(square_tria, dim=1)"
   ]
  },
  {
   "cell_type": "code",
   "execution_count": null,
   "id": "53744ad1-a46e-4100-b5cf-3d7d40e07dad",
   "metadata": {},
   "outputs": [],
   "source": [
    "viskex.firedrake.plot_mesh(square_quad, dim=1)"
   ]
  },
  {
   "cell_type": "code",
   "execution_count": null,
   "id": "1df6a322-75f3-4632-815e-3842322c8752",
   "metadata": {},
   "outputs": [],
   "source": [
    "viskex.firedrake.plot_mesh(square_tria, dim=0)"
   ]
  },
  {
   "cell_type": "code",
   "execution_count": null,
   "id": "145434a9-9353-4f70-b9ce-8ce32f518335",
   "metadata": {},
   "outputs": [],
   "source": [
    "viskex.firedrake.plot_mesh(square_quad, dim=0)"
   ]
  }
 ],
 "metadata": {
  "kernelspec": {
   "display_name": "Python 3 (ipykernel)",
   "language": "python",
   "name": "python3"
  },
  "language_info": {
   "codemirror_mode": {
    "name": "ipython"
   },
   "file_extension": ".py",
   "mimetype": "text/x-python",
   "name": "python",
   "nbconvert_exporter": "python"
  }
 },
 "nbformat": 4,
 "nbformat_minor": 5
}
