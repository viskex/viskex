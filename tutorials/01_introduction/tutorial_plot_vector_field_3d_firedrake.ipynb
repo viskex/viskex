{
 "cells": [
  {
   "cell_type": "markdown",
   "id": "266e9da4-f984-44f4-8dbd-1274cd1d9a20",
   "metadata": {},
   "source": [
    "# Plot a vector field defined on a 3D firedrake mesh"
   ]
  },
  {
   "cell_type": "code",
   "execution_count": null,
   "id": "1918a541-9f09-429e-891e-66547863295c",
   "metadata": {},
   "outputs": [],
   "source": [
    "import firedrake"
   ]
  },
  {
   "cell_type": "code",
   "execution_count": null,
   "id": "ffc8aee3-bf2c-4fd5-99e1-8cd572a10741",
   "metadata": {},
   "outputs": [],
   "source": [
    "import viskex"
   ]
  },
  {
   "cell_type": "code",
   "execution_count": null,
   "id": "5b9e6595-6544-498f-aebc-d5ea6118f9b5",
   "metadata": {},
   "outputs": [],
   "source": [
    "import common_firedrake as common  # isort: skip"
   ]
  },
  {
   "cell_type": "markdown",
   "id": "15f167cf-1295-41d3-9053-bc04708bc319",
   "metadata": {},
   "source": [
    "Generate meshes of the unit cube by dividing each edge of the cube in 6 segments, using either a tetrahedral or hexahedral mesh."
   ]
  },
  {
   "cell_type": "code",
   "execution_count": null,
   "id": "54e8e821-eee2-4387-a527-39bbedadc1be",
   "metadata": {},
   "outputs": [],
   "source": [
    "cube_tetra = firedrake.UnitCubeMesh(6, 6, 6, hexahedral=False)\n",
    "cube_hexa = firedrake.UnitCubeMesh(6, 6, 6, hexahedral=True)"
   ]
  },
  {
   "cell_type": "markdown",
   "id": "92dc9901-7751-4538-8f48-fdb9e0b9afee",
   "metadata": {},
   "source": [
    "Interpolate the vector field $(x^3 + y^2 + z^4, x^6 + y^5 + z^7, x^9 + y^8 + z^{10})$, and store it either in a dolfinx function or a UFL expression."
   ]
  },
  {
   "cell_type": "code",
   "execution_count": null,
   "id": "597d9dc7-cc06-4028-9a47-3f664edab7cf",
   "metadata": {},
   "outputs": [],
   "source": [
    "cube_tetra_vector_field, cube_tetra_vector_field_ufl = common.prepare_vector_field_cases(\n",
    "    cube_tetra, lambda x: (x[0]**3 + x[1]**2 + x[2]**4, x[0]**6 + x[1]**5 + x[2]**7, x[0]**9 + x[1]**8 + x[2]**10))\n",
    "cube_hexa_vector_field, cube_hexa_vector_field_ufl = common.prepare_vector_field_cases(\n",
    "    cube_hexa, lambda x: (x[0]**3 + x[1]**2 + x[2]**4, x[0]**6 + x[1]**5 + x[2]**7, x[0]**9 + x[1]**8 + x[2]**10))"
   ]
  },
  {
   "cell_type": "markdown",
   "id": "1ae0f592-85c8-4c7a-bc34-c773260d1616",
   "metadata": {},
   "source": [
    "Plot the vector field with a contour plot."
   ]
  },
  {
   "cell_type": "code",
   "execution_count": null,
   "id": "1c68ea3a-39dc-4ba1-9ff8-445ec921d45a",
   "metadata": {},
   "outputs": [],
   "source": [
    "viskex.firedrake.plot_vector_field(cube_tetra_vector_field, \"vector\")"
   ]
  },
  {
   "cell_type": "code",
   "execution_count": null,
   "id": "daa525b0-4124-42e1-be17-0fae79c8f1a0",
   "metadata": {},
   "outputs": [],
   "source": [
    "viskex.firedrake.plot_vector_field(cube_tetra_vector_field_ufl, \"vector\")"
   ]
  },
  {
   "cell_type": "code",
   "execution_count": null,
   "id": "62b286e5-9a21-4a50-81e7-5935d2519d3f",
   "metadata": {},
   "outputs": [],
   "source": [
    "viskex.firedrake.plot_vector_field(cube_hexa_vector_field, \"vector\")"
   ]
  },
  {
   "cell_type": "code",
   "execution_count": null,
   "id": "f1ad387f-6ce8-464a-8045-db5e9c3ea675",
   "metadata": {},
   "outputs": [],
   "source": [
    "viskex.firedrake.plot_vector_field(cube_hexa_vector_field_ufl, \"vector\")"
   ]
  },
  {
   "cell_type": "markdown",
   "id": "21e8d9bd-412b-4f99-bb2b-04ad935822f7",
   "metadata": {},
   "source": [
    "Plot the vector field with a quiver plot."
   ]
  },
  {
   "cell_type": "code",
   "execution_count": null,
   "id": "7ea21964-ea7c-478f-ae32-abf4ec2e79d6",
   "metadata": {},
   "outputs": [],
   "source": [
    "viskex.firedrake.plot_vector_field(cube_tetra_vector_field, \"vector\", glyph_factor=0.1)"
   ]
  },
  {
   "cell_type": "code",
   "execution_count": null,
   "id": "a078a92a-2b6b-42fd-9390-a12c810cc8a4",
   "metadata": {},
   "outputs": [],
   "source": [
    "viskex.firedrake.plot_vector_field(cube_hexa_vector_field, \"vector\", glyph_factor=0.1)"
   ]
  },
  {
   "cell_type": "markdown",
   "id": "4d175d80-5682-4b2e-a3d0-c326d9c49678",
   "metadata": {},
   "source": [
    "Apply the vector field as a deformation to the mesh."
   ]
  },
  {
   "cell_type": "code",
   "execution_count": null,
   "id": "c24af016-bfc5-4c87-95f2-59f1aa706cc8",
   "metadata": {},
   "outputs": [],
   "source": [
    "viskex.firedrake.plot_vector_field(cube_tetra_vector_field, \"vector\", warp_factor=1.0)"
   ]
  },
  {
   "cell_type": "code",
   "execution_count": null,
   "id": "712389dd-0d6d-4a83-a2b3-d3c2a6fc49bd",
   "metadata": {},
   "outputs": [],
   "source": [
    "viskex.firedrake.plot_vector_field(cube_hexa_vector_field, \"vector\", warp_factor=1.0)"
   ]
  }
 ],
 "metadata": {
  "kernelspec": {
   "display_name": "Python 3 (ipykernel)",
   "language": "python",
   "name": "python3"
  },
  "language_info": {
   "codemirror_mode": {
    "name": "ipython"
   },
   "file_extension": ".py",
   "mimetype": "text/x-python",
   "name": "python",
   "nbconvert_exporter": "python"
  }
 },
 "nbformat": 4,
 "nbformat_minor": 5
}
