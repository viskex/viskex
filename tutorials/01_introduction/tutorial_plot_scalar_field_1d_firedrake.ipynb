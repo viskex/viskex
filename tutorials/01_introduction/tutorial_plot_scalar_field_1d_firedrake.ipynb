{
 "cells": [
  {
   "cell_type": "markdown",
   "id": "c30afa1e-e8b2-48f3-adec-c78db88b6d7a",
   "metadata": {},
   "source": [
    "# Plot a scalar field defined on a 1D firedrake mesh"
   ]
  },
  {
   "cell_type": "code",
   "execution_count": null,
   "id": "1918a541-9f09-429e-891e-66547863295c",
   "metadata": {},
   "outputs": [],
   "source": [
    "import firedrake"
   ]
  },
  {
   "cell_type": "code",
   "execution_count": null,
   "id": "ffc8aee3-bf2c-4fd5-99e1-8cd572a10741",
   "metadata": {},
   "outputs": [],
   "source": [
    "import viskex"
   ]
  },
  {
   "cell_type": "code",
   "execution_count": null,
   "id": "5b9e6595-6544-498f-aebc-d5ea6118f9b5",
   "metadata": {},
   "outputs": [],
   "source": [
    "import common_01_firedrake as common  # isort: skip"
   ]
  },
  {
   "cell_type": "markdown",
   "id": "14aab7fa-1bc1-4884-b03c-579563972b4a",
   "metadata": {},
   "source": [
    "Generate a mesh of the unit interval, divided into six cells."
   ]
  },
  {
   "cell_type": "code",
   "execution_count": null,
   "id": "91e5c248-dd14-426d-a56e-89fd7201dab0",
   "metadata": {},
   "outputs": [],
   "source": [
    "interval = firedrake.UnitIntervalMesh(6, distribution_parameters={\"partitioner_type\": \"simple\"})"
   ]
  },
  {
   "cell_type": "markdown",
   "id": "2e6ca04b-19f2-4172-a6c7-849310aab451",
   "metadata": {},
   "source": [
    "Interpolate the scalar field $x^3$, and store it either in a firedrake function or a UFL expression."
   ]
  },
  {
   "cell_type": "code",
   "execution_count": null,
   "id": "6e05264e-74ee-4702-a590-b2d88878c863",
   "metadata": {},
   "outputs": [],
   "source": [
    "interval_scalar_field, interval_scalar_field_ufl = common.prepare_scalar_field_cases(\n",
    "    interval, lambda x: x[0]**3)"
   ]
  },
  {
   "cell_type": "markdown",
   "id": "d94301b1-ca8d-4c34-a6b7-67f4351a365c",
   "metadata": {},
   "source": [
    "Plot the scalar field on the mesh."
   ]
  },
  {
   "cell_type": "code",
   "execution_count": null,
   "id": "d72b33ae-6fa6-43af-97cf-2c45d3ae598b",
   "metadata": {},
   "outputs": [],
   "source": [
    "viskex.firedrake.plot_scalar_field(interval_scalar_field, \"scalar\")"
   ]
  },
  {
   "cell_type": "code",
   "execution_count": null,
   "id": "a4f7cf2c-43b4-4a80-9a02-3b2b48abbe62",
   "metadata": {},
   "outputs": [],
   "source": [
    "viskex.firedrake.plot_scalar_field(interval_scalar_field_ufl, \"scalar\")"
   ]
  },
  {
   "cell_type": "markdown",
   "id": "cb2910db-ee1c-49c9-8076-3e7d32371395",
   "metadata": {},
   "source": [
    "Warp mesh according to scalar field."
   ]
  },
  {
   "cell_type": "code",
   "execution_count": null,
   "id": "20cfd974-d0b1-4dc8-934a-1d5d399112bc",
   "metadata": {},
   "outputs": [],
   "source": [
    "viskex.firedrake.plot_scalar_field(interval_scalar_field, \"scalar\", warp_factor=0.1)"
   ]
  }
 ],
 "metadata": {
  "kernelspec": {
   "display_name": "Python 3 (ipykernel)",
   "language": "python",
   "name": "python3"
  },
  "language_info": {
   "codemirror_mode": {
    "name": "ipython"
   },
   "file_extension": ".py",
   "mimetype": "text/x-python",
   "name": "python",
   "nbconvert_exporter": "python"
  }
 },
 "nbformat": 4,
 "nbformat_minor": 5
}
