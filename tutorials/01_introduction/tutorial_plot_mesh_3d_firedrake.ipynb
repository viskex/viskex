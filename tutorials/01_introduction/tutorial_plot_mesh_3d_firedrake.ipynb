{
 "cells": [
  {
   "cell_type": "markdown",
   "id": "ebabea7f-eb58-4fb4-a268-8e75852a0c89",
   "metadata": {},
   "source": [
    "# Plot a 3D firedrake mesh"
   ]
  },
  {
   "cell_type": "code",
   "execution_count": null,
   "id": "1918a541-9f09-429e-891e-66547863295c",
   "metadata": {},
   "outputs": [],
   "source": [
    "import firedrake"
   ]
  },
  {
   "cell_type": "code",
   "execution_count": null,
   "id": "ffc8aee3-bf2c-4fd5-99e1-8cd572a10741",
   "metadata": {},
   "outputs": [],
   "source": [
    "import viskex"
   ]
  },
  {
   "cell_type": "markdown",
   "id": "d94a6831-1402-4832-a0a0-f97e8d8d3075",
   "metadata": {},
   "source": [
    "Generate meshes of the unit cube by dividing each edge of the cube in 6 segments, using either a tetrahedral or hexahedral mesh."
   ]
  },
  {
   "cell_type": "code",
   "execution_count": null,
   "id": "3fc5bcb5-2e30-4b48-8240-a979fcc20000",
   "metadata": {},
   "outputs": [],
   "source": [
    "cube_tetra = firedrake.UnitCubeMesh(\n",
    "    6, 6, 6, hexahedral=False, distribution_parameters={\"partitioner_type\": \"simple\"})\n",
    "cube_hexa = firedrake.UnitCubeMesh(\n",
    "    6, 6, 6, hexahedral=True, distribution_parameters={\"partitioner_type\": \"simple\"})"
   ]
  },
  {
   "cell_type": "markdown",
   "id": "8a881435-ff05-45da-867f-b80e57cc628d",
   "metadata": {},
   "source": [
    "Plot the meshes."
   ]
  },
  {
   "cell_type": "code",
   "execution_count": null,
   "id": "36ee0535-d2e2-490e-8359-a76c7489e1ca",
   "metadata": {},
   "outputs": [],
   "source": [
    "viskex.firedrake.plot_mesh(cube_tetra)"
   ]
  },
  {
   "cell_type": "code",
   "execution_count": null,
   "id": "1c2f8cdf-9cce-46b0-afce-f6959c8be224",
   "metadata": {},
   "outputs": [],
   "source": [
    "viskex.firedrake.plot_mesh(cube_hexa)"
   ]
  },
  {
   "cell_type": "markdown",
   "id": "fb9a079f-647c-4470-b4b1-86909ecde748",
   "metadata": {},
   "source": [
    "An optional argument `dim` argument controls the dimension of the entities to plotted. By default, it is equal to the topological dimension. In this example, `dim=3` plots cells of the mesh (i.e., tetrahedra or hexahedra), `dim=2` plots facets of the mesh (i.e., triangles or quadrilaterals), `dim=1` plots the edges of the mesh, while `dim=0` plots vertices of the mesh."
   ]
  },
  {
   "cell_type": "code",
   "execution_count": null,
   "id": "cbfb1880-4062-4b47-824c-d4efb3c99e0a",
   "metadata": {},
   "outputs": [],
   "source": [
    "viskex.firedrake.plot_mesh(cube_tetra, dim=3)"
   ]
  },
  {
   "cell_type": "code",
   "execution_count": null,
   "id": "0b621ad6-1dd4-4625-b457-4815ba4db391",
   "metadata": {},
   "outputs": [],
   "source": [
    "viskex.firedrake.plot_mesh(cube_hexa, dim=3)"
   ]
  },
  {
   "cell_type": "code",
   "execution_count": null,
   "id": "fdb30d79-5732-4c4e-85ea-d9bffd0874a0",
   "metadata": {},
   "outputs": [],
   "source": [
    "viskex.firedrake.plot_mesh(cube_tetra, dim=2)"
   ]
  },
  {
   "cell_type": "code",
   "execution_count": null,
   "id": "8b5a85c2-343e-419c-9300-9bd97106ac4e",
   "metadata": {},
   "outputs": [],
   "source": [
    "viskex.firedrake.plot_mesh(cube_hexa, dim=2)"
   ]
  },
  {
   "cell_type": "code",
   "execution_count": null,
   "id": "b04d64f7-397a-45e4-88dc-66d8bde9fa18",
   "metadata": {},
   "outputs": [],
   "source": [
    "viskex.firedrake.plot_mesh(cube_tetra, dim=1)"
   ]
  },
  {
   "cell_type": "code",
   "execution_count": null,
   "id": "1f9a55d3-ce2f-4e3a-8447-15ffb9a51f85",
   "metadata": {},
   "outputs": [],
   "source": [
    "viskex.firedrake.plot_mesh(cube_hexa, dim=1)"
   ]
  },
  {
   "cell_type": "code",
   "execution_count": null,
   "id": "9bd84522-b4f8-419d-9e50-c14b995d362d",
   "metadata": {},
   "outputs": [],
   "source": [
    "viskex.firedrake.plot_mesh(cube_tetra, dim=0)"
   ]
  },
  {
   "cell_type": "code",
   "execution_count": null,
   "id": "3d62e5cd-00cc-4aca-9917-51bd2d19e03a",
   "metadata": {},
   "outputs": [],
   "source": [
    "viskex.firedrake.plot_mesh(cube_hexa, dim=0)"
   ]
  }
 ],
 "metadata": {
  "kernelspec": {
   "display_name": "Python 3 (ipykernel)",
   "language": "python",
   "name": "python3"
  },
  "language_info": {
   "codemirror_mode": {
    "name": "ipython"
   },
   "file_extension": ".py",
   "mimetype": "text/x-python",
   "name": "python",
   "nbconvert_exporter": "python"
  }
 },
 "nbformat": 4,
 "nbformat_minor": 5
}
