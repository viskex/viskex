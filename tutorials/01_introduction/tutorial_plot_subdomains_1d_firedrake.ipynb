{
 "cells": [
  {
   "cell_type": "markdown",
   "id": "4295cb00-9621-4465-8f72-f3250f52661b",
   "metadata": {},
   "source": [
    "# Plot subdomains mesh sets of a 1D firedrake mesh"
   ]
  },
  {
   "cell_type": "code",
   "execution_count": null,
   "id": "1918a541-9f09-429e-891e-66547863295c",
   "metadata": {},
   "outputs": [],
   "source": [
    "import firedrake"
   ]
  },
  {
   "cell_type": "code",
   "execution_count": null,
   "id": "ffc8aee3-bf2c-4fd5-99e1-8cd572a10741",
   "metadata": {},
   "outputs": [],
   "source": [
    "import viskex"
   ]
  },
  {
   "cell_type": "code",
   "execution_count": null,
   "id": "5b9e6595-6544-498f-aebc-d5ea6118f9b5",
   "metadata": {},
   "outputs": [],
   "source": [
    "import common_01_firedrake as common  # isort: skip"
   ]
  },
  {
   "cell_type": "markdown",
   "id": "ab4d3e69-724e-4ceb-8719-85714f4a45dd",
   "metadata": {},
   "source": [
    "Generate a mesh of the unit interval, divided into six cells."
   ]
  },
  {
   "cell_type": "code",
   "execution_count": null,
   "id": "3817853d-03e4-4128-9f4e-3e749c7e37d3",
   "metadata": {},
   "outputs": [],
   "source": [
    "interval = firedrake.UnitIntervalMesh(6, distribution_parameters={\"partitioner_type\": \"simple\"})"
   ]
  },
  {
   "cell_type": "markdown",
   "id": "655aace5-9f5a-4d54-b965-5378f2f740e9",
   "metadata": {},
   "source": [
    "Mark subdomains according to the $x$ position of the vertices of the mesh:\n",
    "* if $x \\leq \\frac{1}{3}$, assign subdomain to the mesh set $1$;\n",
    "* if $x \\geq \\frac{2}{3}$, assign subdomain to the mesh set $2$;\n",
    "* otherwise, leave the subdomain unassigned to any mesh set."
   ]
  },
  {
   "cell_type": "code",
   "execution_count": null,
   "id": "81dd5a7f-6e43-4638-84c7-453d6de25e04",
   "metadata": {},
   "outputs": [],
   "source": [
    "interval_with_subdomains = common.mark_subdomains(interval)"
   ]
  },
  {
   "cell_type": "markdown",
   "id": "b4375377-4f0f-47a1-b334-c9c52fcbacbd",
   "metadata": {},
   "source": [
    "We plot the resulting subdomains."
   ]
  },
  {
   "cell_type": "code",
   "execution_count": null,
   "id": "cd014316-a73e-4957-9d34-bd7f526f123e",
   "metadata": {},
   "outputs": [],
   "source": [
    "viskex.firedrake.plot_mesh_sets(interval_with_subdomains, 1, \"subdomains\")"
   ]
  },
  {
   "cell_type": "markdown",
   "id": "fadd44ce-a5fe-4bef-810e-2284ba279cb9",
   "metadata": {},
   "source": [
    "We can also plot all subdomains that belong to the mesh set $2$, which will be displayed with colors. The rest of the mesh cells are still included in the plot, but are colored in gray."
   ]
  },
  {
   "cell_type": "code",
   "execution_count": null,
   "id": "7cabbe7c-d157-4a0b-ab86-157476066e36",
   "metadata": {},
   "outputs": [],
   "source": [
    "viskex.firedrake.plot_mesh_sets(\n",
    "    interval_with_subdomains, 1, \"subdomains_2\", viskex.utils.pyvista.values_in([2]))"
   ]
  },
  {
   "cell_type": "markdown",
   "id": "46551f13-4f99-4c9a-8510-773fbdfd0ff9",
   "metadata": {},
   "source": [
    "Alternatively, we can clip the plot so that it only shows the subset of the mesh with subdomain set equal to $2$."
   ]
  },
  {
   "cell_type": "code",
   "execution_count": null,
   "id": "fc1c8bbd-1156-4bdf-9a26-13070e47acbd",
   "metadata": {},
   "outputs": [],
   "source": [
    "viskex.firedrake.plot_mesh_sets(\n",
    "    interval_with_subdomains, 1, \"subdomains_2\", lambda grid: grid.threshold(2))"
   ]
  },
  {
   "cell_type": "markdown",
   "id": "023976b9-fec6-4266-a764-29c86fed5345",
   "metadata": {},
   "source": [
    "The mesh sets are stored as part of the firedrake mesh object. If the mesh sets get removed, all cells will be displayed in gray in the plot."
   ]
  },
  {
   "cell_type": "code",
   "execution_count": null,
   "id": "85a39c72-b76a-4a0c-aff9-0fe008b466fe",
   "metadata": {},
   "outputs": [],
   "source": [
    "interval.topology_dm.removeLabel(firedrake.cython.dmcommon.CELL_SETS_LABEL)"
   ]
  },
  {
   "cell_type": "code",
   "execution_count": null,
   "id": "275193e9-705f-4c5b-bfd0-feb420b7f287",
   "metadata": {},
   "outputs": [],
   "source": [
    "viskex.firedrake.plot_mesh_sets(interval, 1, \"subdomains\")"
   ]
  }
 ],
 "metadata": {
  "kernelspec": {
   "display_name": "Python 3 (ipykernel)",
   "language": "python",
   "name": "python3"
  },
  "language_info": {
   "codemirror_mode": {
    "name": "ipython"
   },
   "file_extension": ".py",
   "mimetype": "text/x-python",
   "name": "python",
   "nbconvert_exporter": "python"
  }
 },
 "nbformat": 4,
 "nbformat_minor": 5
}
