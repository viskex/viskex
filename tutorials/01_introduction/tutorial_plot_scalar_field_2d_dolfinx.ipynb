{
 "cells": [
  {
   "cell_type": "markdown",
   "id": "98371ece-a9f3-4dd5-8556-b773e670c882",
   "metadata": {},
   "source": [
    "# Plot a scalar field defined on a 2D dolfinx mesh"
   ]
  },
  {
   "cell_type": "code",
   "execution_count": null,
   "id": "775eabcd-7a6c-4725-963b-d0208ae1498e",
   "metadata": {},
   "outputs": [],
   "source": [
    "import dolfinx.mesh\n",
    "import mpi4py.MPI"
   ]
  },
  {
   "cell_type": "code",
   "execution_count": null,
   "id": "d000a091-97d1-4f3d-8d1d-33729bc5abf3",
   "metadata": {},
   "outputs": [],
   "source": [
    "import viskex"
   ]
  },
  {
   "cell_type": "code",
   "execution_count": null,
   "id": "84ee1245-b9ff-4a05-8293-87c4918db46e",
   "metadata": {},
   "outputs": [],
   "source": [
    "import common_01_dolfinx as common  # isort: skip"
   ]
  },
  {
   "cell_type": "markdown",
   "id": "21b65bf2-3841-46ff-8d2b-de25d08812bd",
   "metadata": {},
   "source": [
    "Generate meshes of the unit square by dividing each edge of the square in 6 segments, using either a triangular or quadrangular mesh."
   ]
  },
  {
   "cell_type": "code",
   "execution_count": null,
   "id": "4ff87184-2fe4-4093-805b-f946925e365c",
   "metadata": {},
   "outputs": [],
   "source": [
    "square_tria = dolfinx.mesh.create_unit_square(mpi4py.MPI.COMM_WORLD, 6, 6, dolfinx.mesh.CellType.triangle)\n",
    "square_quad = dolfinx.mesh.create_unit_square(mpi4py.MPI.COMM_WORLD, 6, 6, dolfinx.mesh.CellType.quadrilateral)"
   ]
  },
  {
   "cell_type": "markdown",
   "id": "d6cd6c48-03c5-4c53-a008-af783102e12c",
   "metadata": {},
   "source": [
    "Interpolate the scalar field $x^3 + y^2$, and store it either in a dolfinx function or a UFL expression."
   ]
  },
  {
   "cell_type": "code",
   "execution_count": null,
   "id": "16dcb6d5-be60-4070-8d3e-6afdabe29fba",
   "metadata": {},
   "outputs": [],
   "source": [
    "square_tria_scalar_field, square_tria_scalar_field_ufl = common.prepare_scalar_field_cases(\n",
    "    square_tria, lambda x: x[0]**3 + x[1]**2)\n",
    "square_quad_scalar_field, square_quad_scalar_field_ufl = common.prepare_scalar_field_cases(\n",
    "    square_quad, lambda x: x[0]**3 + x[1]**2)"
   ]
  },
  {
   "cell_type": "markdown",
   "id": "01d4c204-332b-4726-83bd-d85599d90306",
   "metadata": {},
   "source": [
    "Plot the scalar field with a contour plot."
   ]
  },
  {
   "cell_type": "code",
   "execution_count": null,
   "id": "15f7f2e3-6640-43f9-af4f-d1a9d7438a32",
   "metadata": {},
   "outputs": [],
   "source": [
    "viskex.dolfinx.plot_scalar_field(square_tria_scalar_field, \"scalar\")"
   ]
  },
  {
   "cell_type": "code",
   "execution_count": null,
   "id": "fb7f249f-8210-49e5-ae9b-d308e1c12d7c",
   "metadata": {},
   "outputs": [],
   "source": [
    "viskex.dolfinx.plot_scalar_field(square_tria_scalar_field_ufl, \"scalar\")"
   ]
  },
  {
   "cell_type": "code",
   "execution_count": null,
   "id": "0b9757b5-7f5e-420c-8762-69774cddfa7d",
   "metadata": {},
   "outputs": [],
   "source": [
    "viskex.dolfinx.plot_scalar_field(square_quad_scalar_field, \"scalar\")"
   ]
  },
  {
   "cell_type": "code",
   "execution_count": null,
   "id": "c6df0bf2-d71d-4809-a7be-83ab2d31308c",
   "metadata": {},
   "outputs": [],
   "source": [
    "viskex.dolfinx.plot_scalar_field(square_quad_scalar_field_ufl, \"scalar\")"
   ]
  },
  {
   "cell_type": "markdown",
   "id": "e4bf3593-3611-46c2-8a15-661397b01075",
   "metadata": {},
   "source": [
    "Plot the scalar field with a surface plot."
   ]
  },
  {
   "cell_type": "code",
   "execution_count": null,
   "id": "41dbc1b8-8cda-48f1-bdf2-9c13304a7072",
   "metadata": {},
   "outputs": [],
   "source": [
    "viskex.dolfinx.plot_scalar_field(square_tria_scalar_field, \"scalar\", warp_factor=0.5)"
   ]
  },
  {
   "cell_type": "code",
   "execution_count": null,
   "id": "70676674-cb42-43c5-8263-7ad7e1289d2b",
   "metadata": {},
   "outputs": [],
   "source": [
    "viskex.dolfinx.plot_scalar_field(square_quad_scalar_field, \"scalar\", warp_factor=0.5)"
   ]
  },
  {
   "cell_type": "markdown",
   "id": "84826ab0-8a09-46f4-868d-9334c94acd80",
   "metadata": {},
   "source": [
    "Additional `pyvista` options can be passed in as keyword arguments: for instance, adding `show_edges=False` removes mesh edges from the plot. See the documentation of `pyvista.Plotter.add_mesh` for a list of all available options."
   ]
  },
  {
   "cell_type": "code",
   "execution_count": null,
   "id": "9f244d93-08b7-45df-af21-28713a06f224",
   "metadata": {},
   "outputs": [],
   "source": [
    "viskex.dolfinx.plot_scalar_field(square_tria_scalar_field, \"scalar\")"
   ]
  },
  {
   "cell_type": "code",
   "execution_count": null,
   "id": "a562b968-e1c0-457d-8f67-44991029a6eb",
   "metadata": {},
   "outputs": [],
   "source": [
    "viskex.dolfinx.plot_scalar_field(square_tria_scalar_field, \"scalar\", show_edges=False)"
   ]
  }
 ],
 "metadata": {
  "kernelspec": {
   "display_name": "Python 3 (ipykernel)",
   "language": "python",
   "name": "python3"
  },
  "language_info": {
   "codemirror_mode": {
    "name": "ipython"
   },
   "file_extension": ".py",
   "mimetype": "text/x-python",
   "name": "python",
   "nbconvert_exporter": "python"
  }
 },
 "nbformat": 4,
 "nbformat_minor": 5
}
