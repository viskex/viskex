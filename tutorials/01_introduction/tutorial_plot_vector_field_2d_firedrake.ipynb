{
 "cells": [
  {
   "cell_type": "markdown",
   "id": "0fecf0be-0103-4480-a7ab-c781ecc28d3a",
   "metadata": {},
   "source": [
    "# Plot a vector field defined on a 2D firedrake mesh"
   ]
  },
  {
   "cell_type": "code",
   "execution_count": null,
   "id": "1918a541-9f09-429e-891e-66547863295c",
   "metadata": {},
   "outputs": [],
   "source": [
    "import firedrake"
   ]
  },
  {
   "cell_type": "code",
   "execution_count": null,
   "id": "ffc8aee3-bf2c-4fd5-99e1-8cd572a10741",
   "metadata": {},
   "outputs": [],
   "source": [
    "import viskex"
   ]
  },
  {
   "cell_type": "code",
   "execution_count": null,
   "id": "5b9e6595-6544-498f-aebc-d5ea6118f9b5",
   "metadata": {},
   "outputs": [],
   "source": [
    "import common_01_firedrake as common  # isort: skip"
   ]
  },
  {
   "cell_type": "markdown",
   "id": "d84cfa60-8b50-44c4-a6a7-e57f10f95fb2",
   "metadata": {},
   "source": [
    "Generate meshes of the unit square by dividing each edge of the square in 6 segments, using either a triangular or quadrangular mesh."
   ]
  },
  {
   "cell_type": "code",
   "execution_count": null,
   "id": "40088943-9360-4478-9103-a814b7030a7a",
   "metadata": {},
   "outputs": [],
   "source": [
    "square_tria = firedrake.UnitSquareMesh(\n",
    "    6, 6, quadrilateral=False, diagonal=\"right\",\n",
    "    distribution_parameters={\"partitioner_type\": \"simple\"})\n",
    "square_quad = firedrake.UnitSquareMesh(\n",
    "    6, 6, quadrilateral=True, diagonal=\"right\",\n",
    "    distribution_parameters={\"partitioner_type\": \"simple\"})"
   ]
  },
  {
   "cell_type": "markdown",
   "id": "bda88cdb-e3d5-497e-b7bc-474b82e3194c",
   "metadata": {},
   "source": [
    "Interpolate the vector field $(x^3 + y^2, x^5 + y^4)$, and store it either in a dolfinx function or a UFL expression."
   ]
  },
  {
   "cell_type": "code",
   "execution_count": null,
   "id": "94819b64-f9f2-4aef-9f99-334a8bf3703e",
   "metadata": {},
   "outputs": [],
   "source": [
    "square_tria_vector_field, square_tria_vector_field_ufl = common.prepare_vector_field_cases(\n",
    "    square_tria, lambda x: (x[0]**3 + x[1]**2, x[0]**5 + x[1]**4))\n",
    "square_quad_vector_field, square_quad_vector_field_ufl = common.prepare_vector_field_cases(\n",
    "    square_quad, lambda x: (x[0]**3 + x[1]**2, x[0]**5 + x[1]**4))"
   ]
  },
  {
   "cell_type": "markdown",
   "id": "20f4e13a-f4f5-492d-a8b2-d6ec1b5c0cca",
   "metadata": {},
   "source": [
    "Plot the vector field with a contour plot."
   ]
  },
  {
   "cell_type": "code",
   "execution_count": null,
   "id": "28905f9a-cde4-4f8b-a051-95df55185ea4",
   "metadata": {},
   "outputs": [],
   "source": [
    "viskex.firedrake.plot_vector_field(square_tria_vector_field, \"vector\")"
   ]
  },
  {
   "cell_type": "code",
   "execution_count": null,
   "id": "e50d91fd-9a81-4420-b36b-9f6879896f91",
   "metadata": {},
   "outputs": [],
   "source": [
    "viskex.firedrake.plot_vector_field(square_tria_vector_field_ufl, \"vector\")"
   ]
  },
  {
   "cell_type": "code",
   "execution_count": null,
   "id": "bdab7487-bfeb-4228-8366-b35469d51d8f",
   "metadata": {},
   "outputs": [],
   "source": [
    "viskex.firedrake.plot_vector_field(square_quad_vector_field, \"vector\")"
   ]
  },
  {
   "cell_type": "code",
   "execution_count": null,
   "id": "5cac7737-090a-48c0-b9fe-721f9ccf3749",
   "metadata": {},
   "outputs": [],
   "source": [
    "viskex.firedrake.plot_vector_field(square_quad_vector_field_ufl, \"vector\")"
   ]
  },
  {
   "cell_type": "markdown",
   "id": "5da1fc71-5e22-41da-a81d-0ee2c4b0ff3c",
   "metadata": {},
   "source": [
    "Plot the vector field with a quiver plot."
   ]
  },
  {
   "cell_type": "code",
   "execution_count": null,
   "id": "e2656826-0617-449e-98a9-c89c059a9085",
   "metadata": {},
   "outputs": [],
   "source": [
    "viskex.firedrake.plot_vector_field(square_tria_vector_field, \"vector\", glyph_factor=0.1)"
   ]
  },
  {
   "cell_type": "code",
   "execution_count": null,
   "id": "16ef35bd-4bf6-4e1f-bdac-a5207b2a19ab",
   "metadata": {},
   "outputs": [],
   "source": [
    "viskex.firedrake.plot_vector_field(square_quad_vector_field, \"vector\", glyph_factor=0.1)"
   ]
  },
  {
   "cell_type": "markdown",
   "id": "ab3b2f36-e3bc-477b-ac46-7fd200ed0772",
   "metadata": {},
   "source": [
    "Apply the vector field as a deformation to the mesh."
   ]
  },
  {
   "cell_type": "code",
   "execution_count": null,
   "id": "03de0606-8a19-4826-af11-3a917ccd37d4",
   "metadata": {},
   "outputs": [],
   "source": [
    "viskex.firedrake.plot_vector_field(square_tria_vector_field, \"vector\", warp_factor=0.1)"
   ]
  },
  {
   "cell_type": "code",
   "execution_count": null,
   "id": "73fca169-47e6-4ab5-97a2-15c540a096c3",
   "metadata": {},
   "outputs": [],
   "source": [
    "viskex.firedrake.plot_vector_field(square_quad_vector_field, \"vector\", warp_factor=0.1)"
   ]
  }
 ],
 "metadata": {
  "kernelspec": {
   "display_name": "Python 3 (ipykernel)",
   "language": "python",
   "name": "python3"
  },
  "language_info": {
   "codemirror_mode": {
    "name": "ipython"
   },
   "file_extension": ".py",
   "mimetype": "text/x-python",
   "name": "python",
   "nbconvert_exporter": "python"
  }
 },
 "nbformat": 4,
 "nbformat_minor": 5
}
