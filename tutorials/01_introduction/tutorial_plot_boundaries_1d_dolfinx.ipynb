{
 "cells": [
  {
   "cell_type": "markdown",
   "id": "0da66666-2669-44f9-a370-a6b15a490d02",
   "metadata": {},
   "source": [
    "# Plot boundaries mesh tags of a 1D dolfinx mesh"
   ]
  },
  {
   "cell_type": "code",
   "execution_count": null,
   "id": "775eabcd-7a6c-4725-963b-d0208ae1498e",
   "metadata": {},
   "outputs": [],
   "source": [
    "import dolfinx.mesh\n",
    "import mpi4py.MPI"
   ]
  },
  {
   "cell_type": "code",
   "execution_count": null,
   "id": "d000a091-97d1-4f3d-8d1d-33729bc5abf3",
   "metadata": {},
   "outputs": [],
   "source": [
    "import viskex"
   ]
  },
  {
   "cell_type": "code",
   "execution_count": null,
   "id": "84ee1245-b9ff-4a05-8293-87c4918db46e",
   "metadata": {},
   "outputs": [],
   "source": [
    "import common_01_dolfinx as common  # isort: skip"
   ]
  },
  {
   "cell_type": "markdown",
   "id": "884086f3-2cb7-4040-8257-a2d9ff6a6929",
   "metadata": {},
   "source": [
    "Generate a mesh of the unit interval, divided into six cells."
   ]
  },
  {
   "cell_type": "code",
   "execution_count": null,
   "id": "64a5b722-33ec-4dbb-8d0b-83e97b11a5a8",
   "metadata": {},
   "outputs": [],
   "source": [
    "interval = dolfinx.mesh.create_unit_interval(mpi4py.MPI.COMM_WORLD, 6)"
   ]
  },
  {
   "cell_type": "markdown",
   "id": "6bfb5bb2-7487-4042-9fe3-b4f221eb436b",
   "metadata": {},
   "source": [
    "Mark boundaries according to the $x$ position of the vertices of the mesh:\n",
    "* if $x > 0$ and $x \\leq \\frac{1}{3}$, assign boundary mesh tag equal to $1$;\n",
    "* if $x \\geq \\frac{2}{3}$ and $x < 1$, assign boundary mesh tag equal to $2$;\n",
    "* if $x = 0$, assign boundary mesh tag equal to $3$;\n",
    "* if $x = 1$, assign boundary mesh tag equal to $4$;\n",
    "* otherwise, leave the boundary mesh tag unassigned."
   ]
  },
  {
   "cell_type": "code",
   "execution_count": null,
   "id": "f6fe76b4-0bcb-4fa0-9dd4-1753fc2e5f2c",
   "metadata": {},
   "outputs": [],
   "source": [
    "interval_subdomains = common.mark_subdomains(interval)\n",
    "interval_boundaries = common.mark_boundaries(interval, interval_subdomains)"
   ]
  },
  {
   "cell_type": "markdown",
   "id": "1625131e-13a6-4288-b9a6-6e653b1ad4cc",
   "metadata": {},
   "source": [
    "We plot the resulting boundaries."
   ]
  },
  {
   "cell_type": "code",
   "execution_count": null,
   "id": "137da574-20eb-47d4-a1f4-b405f58a6e35",
   "metadata": {},
   "outputs": [],
   "source": [
    "viskex.dolfinx.plot_mesh_tags(interval, interval_boundaries, \"boundaries\")"
   ]
  },
  {
   "cell_type": "markdown",
   "id": "e62b7549-58b0-4ea4-bb2b-c28d0e783842",
   "metadata": {},
   "source": [
    "We can also plot all boundaries with tag equal to $4$ (first plot), $2$ (second plot) or both (third plot), which will be displayed with colors. The rest of the mesh facets are still included in the plot, but are colored in gray."
   ]
  },
  {
   "cell_type": "code",
   "execution_count": null,
   "id": "f8118038-d688-49b6-8f81-90bb11420e51",
   "metadata": {},
   "outputs": [],
   "source": [
    "viskex.dolfinx.plot_mesh_tags(\n",
    "    interval, interval_boundaries, \"boundaries_4\", viskex.utils.pyvista.values_in([4]))"
   ]
  },
  {
   "cell_type": "code",
   "execution_count": null,
   "id": "0c5f61f3-a5a7-4de2-b127-dd9804991626",
   "metadata": {},
   "outputs": [],
   "source": [
    "viskex.dolfinx.plot_mesh_tags(\n",
    "    interval, interval_boundaries, \"boundaries_2\", viskex.utils.pyvista.values_in([2]))"
   ]
  },
  {
   "cell_type": "code",
   "execution_count": null,
   "id": "4136ee22-6e57-41d6-8295-580940e27e8c",
   "metadata": {},
   "outputs": [],
   "source": [
    "viskex.dolfinx.plot_mesh_tags(\n",
    "    interval, interval_boundaries, \"boundaries_24\", viskex.utils.pyvista.values_in([2, 4]))"
   ]
  }
 ],
 "metadata": {
  "kernelspec": {
   "display_name": "Python 3 (ipykernel)",
   "language": "python",
   "name": "python3"
  },
  "language_info": {
   "codemirror_mode": {
    "name": "ipython"
   },
   "file_extension": ".py",
   "mimetype": "text/x-python",
   "name": "python",
   "nbconvert_exporter": "python"
  }
 },
 "nbformat": 4,
 "nbformat_minor": 5
}
