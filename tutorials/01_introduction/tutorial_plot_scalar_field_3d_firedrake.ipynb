{
 "cells": [
  {
   "cell_type": "markdown",
   "id": "bfda2cf0-6a97-4682-9d5c-0d3402d20caa",
   "metadata": {},
   "source": [
    "# Plot a scalar field defined on a 3D firedrake mesh"
   ]
  },
  {
   "cell_type": "code",
   "execution_count": null,
   "id": "1918a541-9f09-429e-891e-66547863295c",
   "metadata": {},
   "outputs": [],
   "source": [
    "import firedrake"
   ]
  },
  {
   "cell_type": "code",
   "execution_count": null,
   "id": "ffc8aee3-bf2c-4fd5-99e1-8cd572a10741",
   "metadata": {},
   "outputs": [],
   "source": [
    "import viskex"
   ]
  },
  {
   "cell_type": "code",
   "execution_count": null,
   "id": "5b9e6595-6544-498f-aebc-d5ea6118f9b5",
   "metadata": {},
   "outputs": [],
   "source": [
    "import common_firedrake as common  # isort: skip"
   ]
  },
  {
   "cell_type": "markdown",
   "id": "025c7cc9-c986-47a8-8f43-4064396e56b5",
   "metadata": {},
   "source": [
    "Generate meshes of the unit cube by dividing each edge of the cube in 6 segments, using either a tetrahedral or hexahedral mesh."
   ]
  },
  {
   "cell_type": "code",
   "execution_count": null,
   "id": "54e8e821-eee2-4387-a527-39bbedadc1be",
   "metadata": {},
   "outputs": [],
   "source": [
    "cube_tetra = firedrake.UnitCubeMesh(\n",
    "    6, 6, 6, hexahedral=False, distribution_parameters={\"partitioner_type\": \"simple\"})\n",
    "cube_hexa = firedrake.UnitCubeMesh(\n",
    "    6, 6, 6, hexahedral=True, distribution_parameters={\"partitioner_type\": \"simple\"})"
   ]
  },
  {
   "cell_type": "markdown",
   "id": "ee32ce62-f4f9-4582-81e7-b7cd2f88491f",
   "metadata": {},
   "source": [
    "Interpolate the scalar field $x^3 + y^2 + z^4$, and store it either in a firedrake function or a UFL expression."
   ]
  },
  {
   "cell_type": "code",
   "execution_count": null,
   "id": "6f6480ce-5a6d-49db-adce-cd7d34305f36",
   "metadata": {},
   "outputs": [],
   "source": [
    "cube_tetra_scalar_field, cube_tetra_scalar_field_ufl = common.prepare_scalar_field_cases(\n",
    "    cube_tetra, lambda x: x[0]**3 + x[1]**2 + x[2]**4)\n",
    "cube_hexa_scalar_field, cube_hexa_scalar_field_ufl = common.prepare_scalar_field_cases(\n",
    "    cube_hexa, lambda x: x[0]**3 + x[1]**2 + x[2]**4)"
   ]
  },
  {
   "cell_type": "markdown",
   "id": "037d75b5-5ad8-497c-bfb0-029ab62a4f0f",
   "metadata": {},
   "source": [
    "Plot the scalar field with a contour plot."
   ]
  },
  {
   "cell_type": "code",
   "execution_count": null,
   "id": "54a6be5c-83bc-4b79-9570-10e7163b3146",
   "metadata": {},
   "outputs": [],
   "source": [
    "viskex.firedrake.plot_scalar_field(cube_tetra_scalar_field, \"scalar\")"
   ]
  },
  {
   "cell_type": "code",
   "execution_count": null,
   "id": "f3a81b18-6433-48e2-a0d4-fd6458ed4a7c",
   "metadata": {},
   "outputs": [],
   "source": [
    "viskex.firedrake.plot_scalar_field(cube_tetra_scalar_field_ufl, \"scalar\")"
   ]
  },
  {
   "cell_type": "code",
   "execution_count": null,
   "id": "da54f9d3-3853-4778-8570-c39d653f3f20",
   "metadata": {},
   "outputs": [],
   "source": [
    "viskex.firedrake.plot_scalar_field(cube_hexa_scalar_field, \"scalar\")"
   ]
  },
  {
   "cell_type": "code",
   "execution_count": null,
   "id": "d7a7e041-34ed-4272-8a7e-f3019b502f19",
   "metadata": {},
   "outputs": [],
   "source": [
    "viskex.firedrake.plot_scalar_field(cube_hexa_scalar_field_ufl, \"scalar\")"
   ]
  },
  {
   "cell_type": "markdown",
   "id": "53299337-d3ba-47d5-baa1-7d1fa276caa5",
   "metadata": {},
   "source": [
    "Warp mesh according to scalar field."
   ]
  },
  {
   "cell_type": "code",
   "execution_count": null,
   "id": "fe88dade-6d39-447f-93cf-26da3cee46dd",
   "metadata": {},
   "outputs": [],
   "source": [
    "viskex.firedrake.plot_scalar_field(cube_tetra_scalar_field, \"scalar\", warp_factor=0.1)"
   ]
  },
  {
   "cell_type": "code",
   "execution_count": null,
   "id": "856e67a5-8e19-4eba-af90-9319ada2d183",
   "metadata": {},
   "outputs": [],
   "source": [
    "viskex.firedrake.plot_scalar_field(cube_hexa_scalar_field, \"scalar\", warp_factor=0.1)"
   ]
  }
 ],
 "metadata": {
  "kernelspec": {
   "display_name": "Python 3 (ipykernel)",
   "language": "python",
   "name": "python3"
  },
  "language_info": {
   "codemirror_mode": {
    "name": "ipython"
   },
   "file_extension": ".py",
   "mimetype": "text/x-python",
   "name": "python",
   "nbconvert_exporter": "python"
  }
 },
 "nbformat": 4,
 "nbformat_minor": 5
}
