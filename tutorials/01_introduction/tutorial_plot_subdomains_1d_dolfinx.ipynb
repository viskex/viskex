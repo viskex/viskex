{
 "cells": [
  {
   "cell_type": "markdown",
   "id": "fcfb63e5-3656-4382-9c92-871a9bfbbfd9",
   "metadata": {},
   "source": [
    "# Plot subdomains mesh tags of a 1D dolfinx mesh"
   ]
  },
  {
   "cell_type": "code",
   "execution_count": null,
   "id": "775eabcd-7a6c-4725-963b-d0208ae1498e",
   "metadata": {},
   "outputs": [],
   "source": [
    "import dolfinx.mesh\n",
    "import mpi4py.MPI"
   ]
  },
  {
   "cell_type": "code",
   "execution_count": null,
   "id": "d000a091-97d1-4f3d-8d1d-33729bc5abf3",
   "metadata": {},
   "outputs": [],
   "source": [
    "import viskex\n",
    "import viskex.utils"
   ]
  },
  {
   "cell_type": "code",
   "execution_count": null,
   "id": "40424143-aedd-47a0-94e8-ad96d4de3843",
   "metadata": {},
   "outputs": [],
   "source": [
    "import common_01_dolfinx as common  # isort: skip"
   ]
  },
  {
   "cell_type": "markdown",
   "id": "98277dec-bffb-49f8-beb9-95768bd6d99b",
   "metadata": {},
   "source": [
    "Generate a mesh of the unit interval, divided into six cells."
   ]
  },
  {
   "cell_type": "code",
   "execution_count": null,
   "id": "09a067d7-f3e8-4b42-b500-cf2e09aa5087",
   "metadata": {},
   "outputs": [],
   "source": [
    "interval = dolfinx.mesh.create_unit_interval(mpi4py.MPI.COMM_WORLD, 6)"
   ]
  },
  {
   "cell_type": "markdown",
   "id": "656c40d2-a665-4c37-a086-243093b93726",
   "metadata": {},
   "source": [
    "Mark subdomains according to the $x$ position of the vertices of the mesh:\n",
    "* if $x \\leq \\frac{1}{3}$, assign subdomain mesh tag equal to $1$;\n",
    "* if $x \\geq \\frac{2}{3}$, assign subdomain mesh tag equal to $2$;\n",
    "* otherwise, leave the subdomain mesh tag unassigned."
   ]
  },
  {
   "cell_type": "code",
   "execution_count": null,
   "id": "8e21b9b7-ceda-47b7-a7e4-5ac0104b19d3",
   "metadata": {},
   "outputs": [],
   "source": [
    "interval_subdomains = common.mark_subdomains(interval)"
   ]
  },
  {
   "cell_type": "markdown",
   "id": "f6235d9f-1e2c-4e6f-9e43-f7e6b219d9b5",
   "metadata": {},
   "source": [
    "We plot the resulting subdomains."
   ]
  },
  {
   "cell_type": "code",
   "execution_count": null,
   "id": "a37f54b0-de39-4631-8fd7-5fb17d286f79",
   "metadata": {},
   "outputs": [],
   "source": [
    "viskex.dolfinx.plot_mesh_tags(interval, interval_subdomains, \"subdomains\")"
   ]
  },
  {
   "cell_type": "markdown",
   "id": "9ee33aaa-2637-4d0b-bc95-bd3bc9687a6b",
   "metadata": {},
   "source": [
    "We can also plot all subdomains with tag equal to $2$, which will be displayed with colors. The rest of the mesh cells are still included in the plot, but are colored in gray."
   ]
  },
  {
   "cell_type": "code",
   "execution_count": null,
   "id": "1378193f-9c26-4058-9af0-2053d08c3b2e",
   "metadata": {},
   "outputs": [],
   "source": [
    "viskex.dolfinx.plot_mesh_tags(\n",
    "    interval, interval_subdomains, \"subdomains_2\", viskex.utils.values_in([2]))"
   ]
  },
  {
   "cell_type": "markdown",
   "id": "38c7748e-fa3f-4a8a-aab7-a95597c49c21",
   "metadata": {},
   "source": [
    "Alternatively, we can clip the plot so that it only shows the subset of the mesh with subdomain tag equal to $2$."
   ]
  },
  {
   "cell_type": "code",
   "execution_count": null,
   "id": "644fb412-2f92-46e6-883b-baf04919737c",
   "metadata": {},
   "outputs": [],
   "source": [
    "viskex.dolfinx.plot_mesh_tags(\n",
    "    interval, interval_subdomains, \"subdomains_2\", lambda grid: grid.threshold(2))"
   ]
  }
 ],
 "metadata": {
  "kernelspec": {
   "display_name": "Python 3 (ipykernel)",
   "language": "python",
   "name": "python3"
  },
  "language_info": {
   "codemirror_mode": {
    "name": "ipython"
   },
   "file_extension": ".py",
   "mimetype": "text/x-python",
   "name": "python",
   "nbconvert_exporter": "python"
  }
 },
 "nbformat": 4,
 "nbformat_minor": 5
}
