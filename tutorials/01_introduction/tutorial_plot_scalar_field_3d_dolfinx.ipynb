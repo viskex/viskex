{
 "cells": [
  {
   "cell_type": "markdown",
   "id": "217480a4-9a1d-4ff3-8458-64a4d1a78932",
   "metadata": {},
   "source": [
    "# Plot a scalar field defined on a 3D dolfinx mesh"
   ]
  },
  {
   "cell_type": "code",
   "execution_count": null,
   "id": "775eabcd-7a6c-4725-963b-d0208ae1498e",
   "metadata": {},
   "outputs": [],
   "source": [
    "import dolfinx.mesh\n",
    "import mpi4py.MPI"
   ]
  },
  {
   "cell_type": "code",
   "execution_count": null,
   "id": "d000a091-97d1-4f3d-8d1d-33729bc5abf3",
   "metadata": {},
   "outputs": [],
   "source": [
    "import viskex"
   ]
  },
  {
   "cell_type": "code",
   "execution_count": null,
   "id": "84ee1245-b9ff-4a05-8293-87c4918db46e",
   "metadata": {},
   "outputs": [],
   "source": [
    "import common_01_dolfinx as common  # isort: skip"
   ]
  },
  {
   "cell_type": "markdown",
   "id": "5b16609b-87c7-4985-9a44-bbe493becd3f",
   "metadata": {},
   "source": [
    "Generate meshes of the unit cube by dividing each edge of the cube in 6 segments, using either a tetrahedral or hexahedral mesh."
   ]
  },
  {
   "cell_type": "code",
   "execution_count": null,
   "id": "76264ca5-656f-468b-a576-6eb49283e0b0",
   "metadata": {},
   "outputs": [],
   "source": [
    "cube_tetra = dolfinx.mesh.create_unit_cube(mpi4py.MPI.COMM_WORLD, 6, 6, 6, dolfinx.mesh.CellType.tetrahedron)\n",
    "cube_hexa = dolfinx.mesh.create_unit_cube(mpi4py.MPI.COMM_WORLD, 6, 6, 6, dolfinx.mesh.CellType.hexahedron)"
   ]
  },
  {
   "cell_type": "markdown",
   "id": "fa0ad9ea-b89c-4e81-83f5-4be6223e371b",
   "metadata": {},
   "source": [
    "Interpolate the scalar field $x^3 + y^2 + z^4$, and store it either in a dolfinx function or a UFL expression."
   ]
  },
  {
   "cell_type": "code",
   "execution_count": null,
   "id": "35c9c83e-4f3f-4090-8c4c-38c9f90a9a52",
   "metadata": {},
   "outputs": [],
   "source": [
    "cube_tetra_scalar_field, cube_tetra_scalar_field_ufl = common.prepare_scalar_field_cases(\n",
    "    cube_tetra, lambda x: x[0]**3 + x[1]**2 + x[2]**4)\n",
    "cube_hexa_scalar_field, cube_hexa_scalar_field_ufl = common.prepare_scalar_field_cases(\n",
    "    cube_hexa, lambda x: x[0]**3 + x[1]**2 + x[2]**4)"
   ]
  },
  {
   "cell_type": "markdown",
   "id": "604446d4-618e-4b2f-b670-1df1ce91e7fa",
   "metadata": {},
   "source": [
    "Plot the scalar field with a contour plot."
   ]
  },
  {
   "cell_type": "code",
   "execution_count": null,
   "id": "4a0fac7b-5de1-48ea-ba23-bf4a4429d5c7",
   "metadata": {},
   "outputs": [],
   "source": [
    "viskex.dolfinx.plot_scalar_field(cube_tetra_scalar_field, \"scalar\")"
   ]
  },
  {
   "cell_type": "code",
   "execution_count": null,
   "id": "87fdfe88-49c6-4e1b-a174-79e8e25ccfbb",
   "metadata": {},
   "outputs": [],
   "source": [
    "viskex.dolfinx.plot_scalar_field(cube_tetra_scalar_field_ufl, \"scalar\")"
   ]
  },
  {
   "cell_type": "code",
   "execution_count": null,
   "id": "e9f58842-238e-4cc2-8ec6-f8a777c5cff1",
   "metadata": {},
   "outputs": [],
   "source": [
    "viskex.dolfinx.plot_scalar_field(cube_hexa_scalar_field, \"scalar\")"
   ]
  },
  {
   "cell_type": "code",
   "execution_count": null,
   "id": "affc7b7a-79bd-4755-a0b9-3fb31861224c",
   "metadata": {},
   "outputs": [],
   "source": [
    "viskex.dolfinx.plot_scalar_field(cube_hexa_scalar_field_ufl, \"scalar\")"
   ]
  },
  {
   "cell_type": "markdown",
   "id": "360ec308-dc8d-4f40-8cea-b50ff60e41d0",
   "metadata": {},
   "source": [
    "Warp mesh according to scalar field."
   ]
  },
  {
   "cell_type": "code",
   "execution_count": null,
   "id": "de3b447e-aa6b-4ea7-8ba8-3a9a4c2f1781",
   "metadata": {},
   "outputs": [],
   "source": [
    "viskex.dolfinx.plot_scalar_field(cube_tetra_scalar_field, \"scalar\", warp_factor=0.1)"
   ]
  },
  {
   "cell_type": "code",
   "execution_count": null,
   "id": "fc3c58db-cf95-43fc-ad7c-fe2d1eccb2d9",
   "metadata": {},
   "outputs": [],
   "source": [
    "viskex.dolfinx.plot_scalar_field(cube_hexa_scalar_field, \"scalar\", warp_factor=0.1)"
   ]
  }
 ],
 "metadata": {
  "kernelspec": {
   "display_name": "Python 3 (ipykernel)",
   "language": "python",
   "name": "python3"
  },
  "language_info": {
   "codemirror_mode": {
    "name": "ipython"
   },
   "file_extension": ".py",
   "mimetype": "text/x-python",
   "name": "python",
   "nbconvert_exporter": "python"
  }
 },
 "nbformat": 4,
 "nbformat_minor": 5
}
