{
 "cells": [
  {
   "cell_type": "markdown",
   "id": "9ebc6933-4ffe-4e1d-8881-49f70f60ac7e",
   "metadata": {},
   "source": [
    "# Plot subdomains mesh sets of a 2D firedrake mesh"
   ]
  },
  {
   "cell_type": "code",
   "execution_count": null,
   "id": "1918a541-9f09-429e-891e-66547863295c",
   "metadata": {},
   "outputs": [],
   "source": [
    "import firedrake"
   ]
  },
  {
   "cell_type": "code",
   "execution_count": null,
   "id": "ffc8aee3-bf2c-4fd5-99e1-8cd572a10741",
   "metadata": {},
   "outputs": [],
   "source": [
    "import viskex"
   ]
  },
  {
   "cell_type": "code",
   "execution_count": null,
   "id": "5b9e6595-6544-498f-aebc-d5ea6118f9b5",
   "metadata": {},
   "outputs": [],
   "source": [
    "import common_01_firedrake as common  # isort: skip"
   ]
  },
  {
   "cell_type": "markdown",
   "id": "f0c295a8-b8cc-43ce-9729-c617814f24f2",
   "metadata": {},
   "source": [
    "Generate meshes of the unit square by dividing each edge of the square in 6 segments, using either a triangular or quadrangular mesh."
   ]
  },
  {
   "cell_type": "code",
   "execution_count": null,
   "id": "9f7fd3e8-847d-4f57-8ea2-6aedd6cf7649",
   "metadata": {},
   "outputs": [],
   "source": [
    "square_tria = firedrake.UnitSquareMesh(\n",
    "    6, 6, quadrilateral=False, diagonal=\"right\",\n",
    "    distribution_parameters={\"partitioner_type\": \"simple\"})\n",
    "square_quad = firedrake.UnitSquareMesh(\n",
    "    6, 6, quadrilateral=True, diagonal=\"right\",\n",
    "    distribution_parameters={\"partitioner_type\": \"simple\"})"
   ]
  },
  {
   "cell_type": "markdown",
   "id": "80f6470e-33f7-4918-8f7d-3bf5a4e16e40",
   "metadata": {},
   "source": [
    "Mark subdomains according to the $(x, y)$ position of the vertices of the mesh:\n",
    "* if $x \\leq \\frac{1}{3}$, assign subdomain mesh tag equal to $1$;\n",
    "* if $x \\geq \\frac{2}{3}$, assign subdomain mesh tag equal to $2$;\n",
    "* otherwise, leave the subdomain mesh tag unassigned."
   ]
  },
  {
   "cell_type": "code",
   "execution_count": null,
   "id": "f2956fb0-7ac5-45c6-ae5b-dbcbeb4fe95d",
   "metadata": {},
   "outputs": [],
   "source": [
    "square_tria_with_subdomains = common.mark_subdomains(square_tria)\n",
    "square_quad_with_subdomains = common.mark_subdomains(square_quad)"
   ]
  },
  {
   "cell_type": "markdown",
   "id": "0919dc3b-2f4d-4dc9-82a5-16f1874e891c",
   "metadata": {},
   "source": [
    "We plot the resulting subdomains."
   ]
  },
  {
   "cell_type": "code",
   "execution_count": null,
   "id": "99139a19-cca7-482f-8675-4b8a74e9db56",
   "metadata": {},
   "outputs": [],
   "source": [
    "viskex.firedrake.plot_mesh_sets(square_tria_with_subdomains, 2, \"subdomains\")"
   ]
  },
  {
   "cell_type": "code",
   "execution_count": null,
   "id": "993160a3-5243-4d2a-b508-c77c128578d2",
   "metadata": {},
   "outputs": [],
   "source": [
    "viskex.firedrake.plot_mesh_sets(square_quad_with_subdomains, 2, \"subdomains\")"
   ]
  },
  {
   "cell_type": "markdown",
   "id": "52411963-7dfd-4daa-bc14-70d39bb2c327",
   "metadata": {},
   "source": [
    "We can also plot all subdomains that belong to the mesh set $2$, which will be displayed with colors. The rest of the mesh cells are still included in the plot, but are colored in gray."
   ]
  },
  {
   "cell_type": "code",
   "execution_count": null,
   "id": "b8b00c68-ef6b-49e4-b614-1fa73630d194",
   "metadata": {},
   "outputs": [],
   "source": [
    "viskex.firedrake.plot_mesh_sets(\n",
    "    square_tria_with_subdomains, 2, \"subdomains_2\", viskex.utils.pyvista.values_in([2]))"
   ]
  },
  {
   "cell_type": "code",
   "execution_count": null,
   "id": "d43b578d-221f-4120-a21e-1dd490e8d630",
   "metadata": {},
   "outputs": [],
   "source": [
    "viskex.firedrake.plot_mesh_sets(\n",
    "    square_quad_with_subdomains, 2, \"subdomains_2\", viskex.utils.pyvista.values_in([2]))"
   ]
  },
  {
   "cell_type": "markdown",
   "id": "fcc9b430-463a-45b0-9534-ae1c2a29d067",
   "metadata": {},
   "source": [
    "Alternatively, we can clip the plot so that it only shows the subset of the mesh with subdomain set equal to $2$."
   ]
  },
  {
   "cell_type": "code",
   "execution_count": null,
   "id": "8add0c17-bc6a-4d4f-9cc4-65ab60a5968b",
   "metadata": {},
   "outputs": [],
   "source": [
    "viskex.firedrake.plot_mesh_sets(\n",
    "    square_tria_with_subdomains, 2, \"subdomains_2\", lambda grid: grid.threshold(2))"
   ]
  },
  {
   "cell_type": "code",
   "execution_count": null,
   "id": "21f83327-f3fa-47d2-a1e4-6e110b6c461b",
   "metadata": {},
   "outputs": [],
   "source": [
    "viskex.firedrake.plot_mesh_sets(\n",
    "    square_quad_with_subdomains, 2, \"subdomains_2\", lambda grid: grid.threshold(2))"
   ]
  },
  {
   "cell_type": "markdown",
   "id": "ef453337-f7bf-4805-bcf2-d0eebd3baa83",
   "metadata": {},
   "source": [
    "The mesh sets are stored as part of the firedrake mesh object. If the mesh sets get removed, all cells will be displayed in gray in the plot."
   ]
  },
  {
   "cell_type": "code",
   "execution_count": null,
   "id": "14159569-775a-4406-8727-6b081c46d67f",
   "metadata": {},
   "outputs": [],
   "source": [
    "square_tria.topology_dm.removeLabel(firedrake.cython.dmcommon.CELL_SETS_LABEL)\n",
    "square_quad.topology_dm.removeLabel(firedrake.cython.dmcommon.CELL_SETS_LABEL)"
   ]
  },
  {
   "cell_type": "code",
   "execution_count": null,
   "id": "684f69d1-d810-4822-849d-1869c13dac1d",
   "metadata": {},
   "outputs": [],
   "source": [
    "viskex.firedrake.plot_mesh_sets(square_tria, 2, \"subdomains\")"
   ]
  },
  {
   "cell_type": "code",
   "execution_count": null,
   "id": "1226d9cc-09cf-4b4b-8684-b5df83ee3240",
   "metadata": {},
   "outputs": [],
   "source": [
    "viskex.firedrake.plot_mesh_sets(square_quad, 2, \"subdomains\")"
   ]
  }
 ],
 "metadata": {
  "kernelspec": {
   "display_name": "Python 3 (ipykernel)",
   "language": "python",
   "name": "python3"
  },
  "language_info": {
   "codemirror_mode": {
    "name": "ipython"
   },
   "file_extension": ".py",
   "mimetype": "text/x-python",
   "name": "python",
   "nbconvert_exporter": "python"
  }
 },
 "nbformat": 4,
 "nbformat_minor": 5
}
