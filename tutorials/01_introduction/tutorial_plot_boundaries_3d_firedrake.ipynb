{
 "cells": [
  {
   "cell_type": "markdown",
   "id": "cd88aee3-d05a-4e59-b855-5e252519b4fa",
   "metadata": {},
   "source": [
    "# Plot boundaries mesh sets of a 3D firedrake mesh"
   ]
  },
  {
   "cell_type": "code",
   "execution_count": null,
   "id": "1918a541-9f09-429e-891e-66547863295c",
   "metadata": {},
   "outputs": [],
   "source": [
    "import firedrake"
   ]
  },
  {
   "cell_type": "code",
   "execution_count": null,
   "id": "ffc8aee3-bf2c-4fd5-99e1-8cd572a10741",
   "metadata": {},
   "outputs": [],
   "source": [
    "import viskex"
   ]
  },
  {
   "cell_type": "code",
   "execution_count": null,
   "id": "5b9e6595-6544-498f-aebc-d5ea6118f9b5",
   "metadata": {},
   "outputs": [],
   "source": [
    "import common_01_firedrake as common  # isort: skip"
   ]
  },
  {
   "cell_type": "markdown",
   "id": "3d3c48e9-c504-4c56-8fa2-6864de76e587",
   "metadata": {},
   "source": [
    "Generate meshes of the unit cube by dividing each edge of the cube in 6 segments, using either a tetrahedral or hexahedral mesh."
   ]
  },
  {
   "cell_type": "code",
   "execution_count": null,
   "id": "299035da-8dd2-4d69-a740-4ce9f770865d",
   "metadata": {},
   "outputs": [],
   "source": [
    "cube_tetra = firedrake.UnitCubeMesh(\n",
    "    6, 6, 6, hexahedral=False, distribution_parameters={\"partitioner_type\": \"simple\"})\n",
    "cube_hexa = firedrake.UnitCubeMesh(\n",
    "    6, 6, 6, hexahedral=True, distribution_parameters={\"partitioner_type\": \"simple\"})"
   ]
  },
  {
   "cell_type": "markdown",
   "id": "8d6a34a4-bc6a-46c1-bfc9-0e13ea6668a0",
   "metadata": {},
   "source": [
    "Mark boundaries according to the $(x, y, z)$ position of the vertices of the mesh:\n",
    "* if $x > 0$ and $x \\leq \\frac{1}{3}$, assign boundary mesh tag equal to $1$;\n",
    "* if $x \\geq \\frac{2}{3}$ and $x < 1$, assign boundary mesh tag equal to $2$;\n",
    "* if $x = 0$, assign boundary mesh tag equal to $3$;\n",
    "* if $x = 1$, assign boundary mesh tag equal to $4$;\n",
    "* otherwise, leave the boundary mesh tag unassigned."
   ]
  },
  {
   "cell_type": "code",
   "execution_count": null,
   "id": "6a27c566-edef-4926-a7e1-0663d4345060",
   "metadata": {},
   "outputs": [],
   "source": [
    "cube_tetra_with_boundaries = common.mark_boundaries(cube_tetra)\n",
    "cube_hexa_with_boundaries = common.mark_boundaries(cube_hexa)"
   ]
  },
  {
   "cell_type": "markdown",
   "id": "5dba0b63-737d-42df-a0c7-762e5a0b75c4",
   "metadata": {},
   "source": [
    "We plot the resulting boundaries."
   ]
  },
  {
   "cell_type": "code",
   "execution_count": null,
   "id": "2af63e81-94c4-4609-9bdd-6e6f0d1c3ff1",
   "metadata": {},
   "outputs": [],
   "source": [
    "viskex.firedrake.plot_mesh_sets(cube_tetra_with_boundaries, 2, \"boundaries\")"
   ]
  },
  {
   "cell_type": "code",
   "execution_count": null,
   "id": "c81321b6-4e35-431c-8dd5-bdc1fdca2b32",
   "metadata": {},
   "outputs": [],
   "source": [
    "viskex.firedrake.plot_mesh_sets(cube_hexa_with_boundaries, 2, \"boundaries\")"
   ]
  },
  {
   "cell_type": "markdown",
   "id": "564ddda6-8c84-4bad-9fa7-7390d7c0f4ae",
   "metadata": {},
   "source": [
    "We can also plot all boundaries which belong to the mesh set $4$ (first and second plot), $2$ (third and fourth plot) or both (fifth and sixth plot), which will be displayed with colors. The rest of the mesh facets are still included in the plot, but are colored in gray."
   ]
  },
  {
   "cell_type": "code",
   "execution_count": null,
   "id": "431f2f9e-97db-42df-a1c8-223da5fcb83c",
   "metadata": {},
   "outputs": [],
   "source": [
    "viskex.firedrake.plot_mesh_sets(\n",
    "    cube_tetra_with_boundaries, 2, \"boundaries_4\", viskex.utils.pyvista.values_in([4]))"
   ]
  },
  {
   "cell_type": "code",
   "execution_count": null,
   "id": "30780869-d376-42b6-abc3-96a5a335ac3d",
   "metadata": {},
   "outputs": [],
   "source": [
    "viskex.firedrake.plot_mesh_sets(\n",
    "    cube_hexa_with_boundaries, 2, \"boundaries_4\", viskex.utils.pyvista.values_in([4]))"
   ]
  },
  {
   "cell_type": "code",
   "execution_count": null,
   "id": "2165e640-6212-4a38-ae3d-f607b0938019",
   "metadata": {},
   "outputs": [],
   "source": [
    "viskex.firedrake.plot_mesh_sets(\n",
    "    cube_tetra_with_boundaries, 2, \"boundaries_2\", viskex.utils.pyvista.values_in([2]))"
   ]
  },
  {
   "cell_type": "code",
   "execution_count": null,
   "id": "b220313d-94a7-41ac-8c55-d60505849a76",
   "metadata": {},
   "outputs": [],
   "source": [
    "viskex.firedrake.plot_mesh_sets(\n",
    "    cube_hexa_with_boundaries, 2, \"boundaries_2\", viskex.utils.pyvista.values_in([2]))"
   ]
  },
  {
   "cell_type": "code",
   "execution_count": null,
   "id": "4f06f3ea-8bbe-4cf7-ae30-c1278389e3d0",
   "metadata": {},
   "outputs": [],
   "source": [
    "viskex.firedrake.plot_mesh_sets(\n",
    "    cube_tetra_with_boundaries, 2, \"boundaries_24\", viskex.utils.pyvista.values_in([2, 4]))"
   ]
  },
  {
   "cell_type": "code",
   "execution_count": null,
   "id": "6c77bcc6-eb40-433d-b229-7d93e20b3735",
   "metadata": {},
   "outputs": [],
   "source": [
    "viskex.firedrake.plot_mesh_sets(\n",
    "    cube_hexa_with_boundaries, 2, \"boundaries_24\", viskex.utils.pyvista.values_in([2, 4]))"
   ]
  },
  {
   "cell_type": "markdown",
   "id": "15c97120-12d2-4169-99b9-7d2ca8c9ac8b",
   "metadata": {},
   "source": [
    "The mesh sets are stored as part of the firedrake mesh object. If the mesh sets get removed, all cells will be displayed in gray in the plot."
   ]
  },
  {
   "cell_type": "code",
   "execution_count": null,
   "id": "71fbee6b-5e63-4cb2-97ff-dda22c71a192",
   "metadata": {},
   "outputs": [],
   "source": [
    "cube_tetra.topology_dm.removeLabel(firedrake.cython.dmcommon.FACE_SETS_LABEL)\n",
    "cube_hexa.topology_dm.removeLabel(firedrake.cython.dmcommon.FACE_SETS_LABEL)"
   ]
  },
  {
   "cell_type": "code",
   "execution_count": null,
   "id": "2ce6e43b-2d1b-4f45-969a-c10b0c872076",
   "metadata": {},
   "outputs": [],
   "source": [
    "viskex.firedrake.plot_mesh_sets(cube_tetra, 2, \"boundaries\")"
   ]
  },
  {
   "cell_type": "code",
   "execution_count": null,
   "id": "363d7c9e-a462-4cee-b40a-f8f7222d9e18",
   "metadata": {},
   "outputs": [],
   "source": [
    "viskex.firedrake.plot_mesh_sets(cube_hexa, 2, \"boundaries\")"
   ]
  }
 ],
 "metadata": {
  "kernelspec": {
   "display_name": "Python 3 (ipykernel)",
   "language": "python",
   "name": "python3"
  },
  "language_info": {
   "codemirror_mode": {
    "name": "ipython"
   },
   "file_extension": ".py",
   "mimetype": "text/x-python",
   "name": "python",
   "nbconvert_exporter": "python"
  }
 },
 "nbformat": 4,
 "nbformat_minor": 5
}
