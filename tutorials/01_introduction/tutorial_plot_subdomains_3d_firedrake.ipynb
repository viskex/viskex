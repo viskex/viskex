{
 "cells": [
  {
   "cell_type": "markdown",
   "id": "be340a86-9ba2-4137-83c5-eb2f9c5afb0d",
   "metadata": {},
   "source": [
    "# Plot subdomains mesh sets of a 3D firedrake mesh"
   ]
  },
  {
   "cell_type": "code",
   "execution_count": null,
   "id": "1918a541-9f09-429e-891e-66547863295c",
   "metadata": {},
   "outputs": [],
   "source": [
    "import firedrake"
   ]
  },
  {
   "cell_type": "code",
   "execution_count": null,
   "id": "ffc8aee3-bf2c-4fd5-99e1-8cd572a10741",
   "metadata": {},
   "outputs": [],
   "source": [
    "import viskex"
   ]
  },
  {
   "cell_type": "code",
   "execution_count": null,
   "id": "5b9e6595-6544-498f-aebc-d5ea6118f9b5",
   "metadata": {},
   "outputs": [],
   "source": [
    "import common_firedrake as common  # isort: skip"
   ]
  },
  {
   "cell_type": "markdown",
   "id": "3a4d7f94-ffea-4782-8c43-ff12d6a9c7be",
   "metadata": {},
   "source": [
    "Generate meshes of the unit cube by dividing each edge of the cube in 6 segments, using either a tetrahedral or hexahedral mesh."
   ]
  },
  {
   "cell_type": "code",
   "execution_count": null,
   "id": "c3da8177-588f-40dc-9e68-4161fa6da82c",
   "metadata": {},
   "outputs": [],
   "source": [
    "cube_tetra = firedrake.UnitCubeMesh(6, 6, 6, hexahedral=False)\n",
    "cube_hexa = firedrake.UnitCubeMesh(6, 6, 6, hexahedral=True)"
   ]
  },
  {
   "cell_type": "markdown",
   "id": "3b987d14-0f9d-4b32-8d03-3560692357d9",
   "metadata": {},
   "source": [
    "Mark subdomains according to the $(x, y, z)$ position of the vertices of the mesh:\n",
    "* if $x \\leq \\frac{1}{3}$, assign subdomain mesh tag equal to $1$;\n",
    "* if $x \\geq \\frac{2}{3}$, assign subdomain mesh tag equal to $2$;\n",
    "* otherwise, leave the subdomain mesh tag unassigned."
   ]
  },
  {
   "cell_type": "code",
   "execution_count": null,
   "id": "10d7b9fc-32d3-4732-a33d-fc8d598da5ef",
   "metadata": {},
   "outputs": [],
   "source": [
    "cube_tetra_with_subdomains = common.mark_subdomains(cube_tetra)\n",
    "cube_hexa_with_subdomains = common.mark_subdomains(cube_hexa)"
   ]
  },
  {
   "cell_type": "markdown",
   "id": "caa672ac-7ea0-48af-a0d5-854cba19e7f9",
   "metadata": {},
   "source": [
    "We plot the resulting subdomains."
   ]
  },
  {
   "cell_type": "code",
   "execution_count": null,
   "id": "9fa3edc1-f355-44f0-bd0a-fbbd8665f115",
   "metadata": {},
   "outputs": [],
   "source": [
    "viskex.firedrake.plot_mesh_sets(cube_tetra_with_subdomains, 3, \"subdomains\")"
   ]
  },
  {
   "cell_type": "code",
   "execution_count": null,
   "id": "9bdb0e44-d19c-49ae-91c0-221edd4a007a",
   "metadata": {},
   "outputs": [],
   "source": [
    "viskex.firedrake.plot_mesh_sets(cube_hexa_with_subdomains, 3, \"subdomains\")"
   ]
  },
  {
   "cell_type": "markdown",
   "id": "775a1053-bd83-4360-b9c6-b1640ecdeeb1",
   "metadata": {},
   "source": [
    "We can also plot all subdomains that belong to the mesh set $2$, which will be displayed with colors. The rest of the mesh cells are still included in the plot, but are colored in gray."
   ]
  },
  {
   "cell_type": "code",
   "execution_count": null,
   "id": "14435cf2-062f-4475-8bc4-a3a80d37843f",
   "metadata": {},
   "outputs": [],
   "source": [
    "viskex.firedrake.plot_mesh_sets(\n",
    "    cube_tetra_with_subdomains, 3, \"subdomains_2\", viskex.utils.values_in([2]))"
   ]
  },
  {
   "cell_type": "code",
   "execution_count": null,
   "id": "98546287-f20f-40b6-b60d-dd2170e3004d",
   "metadata": {},
   "outputs": [],
   "source": [
    "viskex.firedrake.plot_mesh_sets(\n",
    "    cube_hexa_with_subdomains, 3, \"subdomains_2\", viskex.utils.values_in([2]))"
   ]
  },
  {
   "cell_type": "markdown",
   "id": "ec6b454f-6fe9-4708-82af-4a46ee8026bf",
   "metadata": {},
   "source": [
    "Alternatively, we can clip the plot so that it only shows the subset of the mesh with subdomain set equal to $2$."
   ]
  },
  {
   "cell_type": "code",
   "execution_count": null,
   "id": "5dc3a6ef-40d0-4991-a327-0859f9f17ad2",
   "metadata": {},
   "outputs": [],
   "source": [
    "viskex.firedrake.plot_mesh_sets(\n",
    "    cube_tetra_with_subdomains, 3, \"subdomains_2\", lambda grid: grid.threshold(2))"
   ]
  },
  {
   "cell_type": "code",
   "execution_count": null,
   "id": "4182ea7f-4041-4b53-823f-d7c0df2c7379",
   "metadata": {},
   "outputs": [],
   "source": [
    "viskex.firedrake.plot_mesh_sets(\n",
    "    cube_hexa_with_subdomains, 3, \"subdomains_2\", lambda grid: grid.threshold(2))"
   ]
  },
  {
   "cell_type": "markdown",
   "id": "f73f7519-e66b-46f0-8cf1-1864474fdd64",
   "metadata": {},
   "source": [
    "The mesh sets are stored as part of the firedrake mesh object. If the mesh sets get removed, all cells will be displayed in gray in the plot."
   ]
  },
  {
   "cell_type": "code",
   "execution_count": null,
   "id": "c2967988-8122-4b22-a6f1-0ebec7a3dac3",
   "metadata": {},
   "outputs": [],
   "source": [
    "cube_tetra.topology_dm.removeLabel(firedrake.cython.dmcommon.CELL_SETS_LABEL)\n",
    "cube_hexa.topology_dm.removeLabel(firedrake.cython.dmcommon.CELL_SETS_LABEL)"
   ]
  },
  {
   "cell_type": "code",
   "execution_count": null,
   "id": "879882ba-69e3-49fd-aeae-a17f51228921",
   "metadata": {},
   "outputs": [],
   "source": [
    "viskex.firedrake.plot_mesh_sets(cube_tetra, 3, \"subdomains\")"
   ]
  },
  {
   "cell_type": "code",
   "execution_count": null,
   "id": "5220e70f-1f31-46a2-971c-f03df58271d4",
   "metadata": {},
   "outputs": [],
   "source": [
    "viskex.firedrake.plot_mesh_sets(cube_hexa, 3, \"subdomains\")"
   ]
  }
 ],
 "metadata": {
  "kernelspec": {
   "display_name": "Python 3 (ipykernel)",
   "language": "python",
   "name": "python3"
  },
  "language_info": {
   "codemirror_mode": {
    "name": "ipython"
   },
   "file_extension": ".py",
   "mimetype": "text/x-python",
   "name": "python",
   "nbconvert_exporter": "python"
  }
 },
 "nbformat": 4,
 "nbformat_minor": 5
}
