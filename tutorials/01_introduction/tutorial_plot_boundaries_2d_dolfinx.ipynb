{
 "cells": [
  {
   "cell_type": "markdown",
   "id": "7fb20783-d26e-4ff5-b958-a47ab6052481",
   "metadata": {},
   "source": [
    "# Plot boundaries mesh tags of a 2D dolfinx mesh"
   ]
  },
  {
   "cell_type": "code",
   "execution_count": null,
   "id": "775eabcd-7a6c-4725-963b-d0208ae1498e",
   "metadata": {},
   "outputs": [],
   "source": [
    "import dolfinx.mesh\n",
    "import mpi4py.MPI"
   ]
  },
  {
   "cell_type": "code",
   "execution_count": null,
   "id": "d000a091-97d1-4f3d-8d1d-33729bc5abf3",
   "metadata": {},
   "outputs": [],
   "source": [
    "import viskex"
   ]
  },
  {
   "cell_type": "code",
   "execution_count": null,
   "id": "84ee1245-b9ff-4a05-8293-87c4918db46e",
   "metadata": {},
   "outputs": [],
   "source": [
    "import common_01_dolfinx as common  # isort: skip"
   ]
  },
  {
   "cell_type": "markdown",
   "id": "f76841e5-9b95-46b8-8021-46e692d023ad",
   "metadata": {},
   "source": [
    "Generate meshes of the unit square by dividing each edge of the square in 6 segments, using either a triangular or quadrangular mesh."
   ]
  },
  {
   "cell_type": "code",
   "execution_count": null,
   "id": "2be9578c-806f-45b4-917c-aabfcd0deaa1",
   "metadata": {},
   "outputs": [],
   "source": [
    "square_tria = dolfinx.mesh.create_unit_square(mpi4py.MPI.COMM_WORLD, 6, 6, dolfinx.mesh.CellType.triangle)\n",
    "square_quad = dolfinx.mesh.create_unit_square(mpi4py.MPI.COMM_WORLD, 6, 6, dolfinx.mesh.CellType.quadrilateral)"
   ]
  },
  {
   "cell_type": "markdown",
   "id": "4157f788-2a58-4d20-8f90-72d17f6e8653",
   "metadata": {},
   "source": [
    "Mark boundaries according to the $(x, y)$ position of the vertices of the mesh:\n",
    "* if $x > 0$ and $x \\leq \\frac{1}{3}$, assign boundary mesh tag equal to $1$;\n",
    "* if $x \\geq \\frac{2}{3}$ and $x < 1$, assign boundary mesh tag equal to $2$;\n",
    "* if $x = 0$, assign boundary mesh tag equal to $3$;\n",
    "* if $x = 1$, assign boundary mesh tag equal to $4$;\n",
    "* otherwise, leave the boundary mesh tag unassigned."
   ]
  },
  {
   "cell_type": "code",
   "execution_count": null,
   "id": "12a5833c-73b7-455a-a4d9-efe90e4ef038",
   "metadata": {},
   "outputs": [],
   "source": [
    "square_tria_subdomains = common.mark_subdomains(square_tria)\n",
    "square_quad_subdomains = common.mark_subdomains(square_quad)\n",
    "square_tria_boundaries = common.mark_boundaries(square_tria, square_tria_subdomains)\n",
    "square_quad_boundaries = common.mark_boundaries(square_quad, square_quad_subdomains)"
   ]
  },
  {
   "cell_type": "markdown",
   "id": "907d07e5-1518-489d-874c-4033e8e420ea",
   "metadata": {},
   "source": [
    "We plot the resulting boundaries."
   ]
  },
  {
   "cell_type": "code",
   "execution_count": null,
   "id": "bccfd16f-0fdd-43c5-a388-865453af31e3",
   "metadata": {},
   "outputs": [],
   "source": [
    "viskex.dolfinx.plot_mesh_tags(square_tria, square_tria_boundaries, \"boundaries\")"
   ]
  },
  {
   "cell_type": "code",
   "execution_count": null,
   "id": "5e0dd609-0299-44d3-aa6b-6189c884c2a9",
   "metadata": {},
   "outputs": [],
   "source": [
    "viskex.dolfinx.plot_mesh_tags(square_quad, square_quad_boundaries, \"boundaries\")"
   ]
  },
  {
   "cell_type": "markdown",
   "id": "0323441c-bb82-48b2-94ed-7eea2e3eef72",
   "metadata": {},
   "source": [
    "We can also plot all boundaries with tag equal to $4$ (first and second plot), $2$ (third and fourth plot) or both (fifth and sixth plot), which will be displayed with colors. The rest of the mesh facets are still included in the plot, but are colored in gray."
   ]
  },
  {
   "cell_type": "code",
   "execution_count": null,
   "id": "d0f18e0e-bce3-4855-8c05-7d4389de7cd7",
   "metadata": {},
   "outputs": [],
   "source": [
    "viskex.dolfinx.plot_mesh_tags(\n",
    "    square_tria, square_tria_boundaries, \"boundaries_4\", viskex.utils.values_in([4]))"
   ]
  },
  {
   "cell_type": "code",
   "execution_count": null,
   "id": "ec4662b5-006d-448b-8e9e-d71ebb3cf895",
   "metadata": {},
   "outputs": [],
   "source": [
    "viskex.dolfinx.plot_mesh_tags(\n",
    "    square_quad, square_quad_boundaries, \"boundaries_4\", viskex.utils.values_in([4]))"
   ]
  },
  {
   "cell_type": "code",
   "execution_count": null,
   "id": "4abec358-b3a1-4e4d-93a5-3f442b8e6542",
   "metadata": {},
   "outputs": [],
   "source": [
    "viskex.dolfinx.plot_mesh_tags(\n",
    "    square_tria, square_tria_boundaries, \"boundaries_2\", viskex.utils.values_in([2]))"
   ]
  },
  {
   "cell_type": "code",
   "execution_count": null,
   "id": "8f664446-8779-4306-899f-88e8942831a5",
   "metadata": {},
   "outputs": [],
   "source": [
    "viskex.dolfinx.plot_mesh_tags(\n",
    "    square_quad, square_quad_boundaries, \"boundaries_2\", viskex.utils.values_in([2]))"
   ]
  },
  {
   "cell_type": "code",
   "execution_count": null,
   "id": "bdf50275-7237-4b2d-828a-97c90d5a6ebe",
   "metadata": {},
   "outputs": [],
   "source": [
    "viskex.dolfinx.plot_mesh_tags(\n",
    "    square_tria, square_tria_boundaries, \"boundaries_24\", viskex.utils.values_in([2, 4]))"
   ]
  },
  {
   "cell_type": "code",
   "execution_count": null,
   "id": "6171c8ba-73ed-46fb-9122-3c25a7dd717d",
   "metadata": {},
   "outputs": [],
   "source": [
    "viskex.dolfinx.plot_mesh_tags(\n",
    "    square_quad, square_quad_boundaries, \"boundaries_24\", viskex.utils.values_in([2, 4]))"
   ]
  }
 ],
 "metadata": {
  "kernelspec": {
   "display_name": "Python 3 (ipykernel)",
   "language": "python",
   "name": "python3"
  },
  "language_info": {
   "codemirror_mode": {
    "name": "ipython"
   },
   "file_extension": ".py",
   "mimetype": "text/x-python",
   "name": "python",
   "nbconvert_exporter": "python"
  }
 },
 "nbformat": 4,
 "nbformat_minor": 5
}
