{
 "cells": [
  {
   "cell_type": "markdown",
   "id": "40a2f410-f7ac-4f19-a567-3ff6b0069558",
   "metadata": {},
   "source": [
    "# Plot subdomains mesh tags of a 2D dolfinx mesh"
   ]
  },
  {
   "cell_type": "code",
   "execution_count": null,
   "id": "775eabcd-7a6c-4725-963b-d0208ae1498e",
   "metadata": {},
   "outputs": [],
   "source": [
    "import dolfinx.mesh\n",
    "import mpi4py.MPI"
   ]
  },
  {
   "cell_type": "code",
   "execution_count": null,
   "id": "d000a091-97d1-4f3d-8d1d-33729bc5abf3",
   "metadata": {},
   "outputs": [],
   "source": [
    "import viskex\n",
    "import viskex.utils.pyvista"
   ]
  },
  {
   "cell_type": "code",
   "execution_count": null,
   "id": "019f8b3f-3715-4e41-b81a-a47cceab55de",
   "metadata": {},
   "outputs": [],
   "source": [
    "import common_01_dolfinx as common  # isort: skip"
   ]
  },
  {
   "cell_type": "markdown",
   "id": "184da260-a0bc-4256-9291-ec5e4cf8c4b7",
   "metadata": {},
   "source": [
    "Generate meshes of the unit square by dividing each edge of the square in 6 segments, using either a triangular or quadrangular mesh."
   ]
  },
  {
   "cell_type": "code",
   "execution_count": null,
   "id": "c63628e4-7746-458d-aa92-e27c230dff71",
   "metadata": {},
   "outputs": [],
   "source": [
    "square_tria = dolfinx.mesh.create_unit_square(mpi4py.MPI.COMM_WORLD, 6, 6, dolfinx.mesh.CellType.triangle)\n",
    "square_quad = dolfinx.mesh.create_unit_square(mpi4py.MPI.COMM_WORLD, 6, 6, dolfinx.mesh.CellType.quadrilateral)"
   ]
  },
  {
   "cell_type": "markdown",
   "id": "2d681616-06f6-4b87-9664-f07e27b068f8",
   "metadata": {},
   "source": [
    "Mark subdomains according to the $(x, y)$ position of the vertices of the mesh:\n",
    "* if $x \\leq \\frac{1}{3}$, assign subdomain mesh tag equal to $1$;\n",
    "* if $x \\geq \\frac{2}{3}$, assign subdomain mesh tag equal to $2$;\n",
    "* otherwise, leave the subdomain mesh tag unassigned."
   ]
  },
  {
   "cell_type": "code",
   "execution_count": null,
   "id": "1f45d965-1183-44fd-8f19-2da585844c14",
   "metadata": {},
   "outputs": [],
   "source": [
    "square_tria_subdomains = common.mark_subdomains(square_tria)\n",
    "square_quad_subdomains = common.mark_subdomains(square_quad)"
   ]
  },
  {
   "cell_type": "markdown",
   "id": "a0d1f6c2-1c97-4862-99a9-5bc8086030fd",
   "metadata": {},
   "source": [
    "We plot the resulting subdomains."
   ]
  },
  {
   "cell_type": "code",
   "execution_count": null,
   "id": "8796761c-b777-4f03-a99b-e3e513ac01dd",
   "metadata": {},
   "outputs": [],
   "source": [
    "viskex.dolfinx.plot_mesh_tags(square_tria, square_tria_subdomains, \"subdomains\")"
   ]
  },
  {
   "cell_type": "code",
   "execution_count": null,
   "id": "925723c1-dca9-4e7a-989c-3d4d64c834d8",
   "metadata": {},
   "outputs": [],
   "source": [
    "viskex.dolfinx.plot_mesh_tags(square_quad, square_quad_subdomains, \"subdomains\")"
   ]
  },
  {
   "cell_type": "markdown",
   "id": "8db7fc42-6946-43a0-a9b2-aa3e556d7753",
   "metadata": {},
   "source": [
    "We can also plot all subdomains with tag equal to $2$, which will be displayed with colors. The rest of the mesh cells are still included in the plot, but are colored in gray."
   ]
  },
  {
   "cell_type": "code",
   "execution_count": null,
   "id": "8f0cefde-af64-40d5-a009-8dee6a5e0e23",
   "metadata": {},
   "outputs": [],
   "source": [
    "viskex.dolfinx.plot_mesh_tags(\n",
    "    square_tria, square_tria_subdomains, \"subdomains_2\", viskex.utils.pyvista.values_in([2]))"
   ]
  },
  {
   "cell_type": "code",
   "execution_count": null,
   "id": "dd17031d-a525-496f-8cd3-91463e3722a3",
   "metadata": {},
   "outputs": [],
   "source": [
    "viskex.dolfinx.plot_mesh_tags(\n",
    "    square_quad, square_quad_subdomains, \"subdomains_2\", viskex.utils.pyvista.values_in([2]))"
   ]
  },
  {
   "cell_type": "markdown",
   "id": "5e69c108-1b12-4732-bbd3-bca25bba31db",
   "metadata": {},
   "source": [
    "Alternatively, we can clip the plot so that it only shows the subset of the mesh with subdomain tag equal to $2$."
   ]
  },
  {
   "cell_type": "code",
   "execution_count": null,
   "id": "09b8b311-7020-463e-9a7d-cbdf95ebee96",
   "metadata": {},
   "outputs": [],
   "source": [
    "viskex.dolfinx.plot_mesh_tags(\n",
    "    square_tria, square_tria_subdomains, \"subdomains_2\", lambda grid: grid.threshold(2))"
   ]
  },
  {
   "cell_type": "code",
   "execution_count": null,
   "id": "81ab0206-abe0-4efc-8c03-8fced4252331",
   "metadata": {},
   "outputs": [],
   "source": [
    "viskex.dolfinx.plot_mesh_tags(\n",
    "    square_quad, square_quad_subdomains, \"subdomains_2\", lambda grid: grid.threshold(2))"
   ]
  }
 ],
 "metadata": {
  "kernelspec": {
   "display_name": "Python 3 (ipykernel)",
   "language": "python",
   "name": "python3"
  },
  "language_info": {
   "codemirror_mode": {
    "name": "ipython"
   },
   "file_extension": ".py",
   "mimetype": "text/x-python",
   "name": "python",
   "nbconvert_exporter": "python"
  }
 },
 "nbformat": 4,
 "nbformat_minor": 5
}
