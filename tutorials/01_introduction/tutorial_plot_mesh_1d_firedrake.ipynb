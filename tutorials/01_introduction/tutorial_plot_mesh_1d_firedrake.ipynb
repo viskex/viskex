{
 "cells": [
  {
   "cell_type": "markdown",
   "id": "d281df73-7ce8-4e56-9612-6d8b77d69055",
   "metadata": {},
   "source": [
    "# Plot a 1D firedrake mesh"
   ]
  },
  {
   "cell_type": "code",
   "execution_count": null,
   "id": "1918a541-9f09-429e-891e-66547863295c",
   "metadata": {},
   "outputs": [],
   "source": [
    "import firedrake"
   ]
  },
  {
   "cell_type": "code",
   "execution_count": null,
   "id": "ffc8aee3-bf2c-4fd5-99e1-8cd572a10741",
   "metadata": {},
   "outputs": [],
   "source": [
    "import viskex"
   ]
  },
  {
   "cell_type": "markdown",
   "id": "a7c61d93-4a16-40ad-b7fc-8aaf320ab933",
   "metadata": {},
   "source": [
    "Generate a mesh of the unit interval, divided into six cells."
   ]
  },
  {
   "cell_type": "code",
   "execution_count": null,
   "id": "2075b941-ae69-4598-a901-668823abb450",
   "metadata": {},
   "outputs": [],
   "source": [
    "interval = firedrake.UnitIntervalMesh(6, distribution_parameters={\"partitioner_type\": \"simple\"})"
   ]
  },
  {
   "cell_type": "markdown",
   "id": "e897e211-c521-4465-b540-4a1f35510e67",
   "metadata": {},
   "source": [
    "Plot the mesh."
   ]
  },
  {
   "cell_type": "code",
   "execution_count": null,
   "id": "46877701-a180-4fc7-8608-718e4fbc50f3",
   "metadata": {},
   "outputs": [],
   "source": [
    "viskex.firedrake.plot_mesh(interval)"
   ]
  },
  {
   "cell_type": "markdown",
   "id": "3db4a5fd-7505-4b4b-a98e-1e896e69aa57",
   "metadata": {},
   "source": [
    "An optional argument `dim` argument controls the dimension of the entities to plotted. By default, it is equal to the topological dimension. In this example, `dim=1` plots cells of the mesh (i.e., intervals), while `dim=0` plots vertices of the mesh."
   ]
  },
  {
   "cell_type": "code",
   "execution_count": null,
   "id": "63dc35c5-27f7-4739-a7b0-2017aa56899a",
   "metadata": {},
   "outputs": [],
   "source": [
    "viskex.firedrake.plot_mesh(interval, dim=1)"
   ]
  },
  {
   "cell_type": "code",
   "execution_count": null,
   "id": "0ebb3460-f13e-468c-8290-68a57150394a",
   "metadata": {},
   "outputs": [],
   "source": [
    "viskex.firedrake.plot_mesh(interval, dim=0)"
   ]
  }
 ],
 "metadata": {
  "kernelspec": {
   "display_name": "Python 3 (ipykernel)",
   "language": "python",
   "name": "python3"
  },
  "language_info": {
   "codemirror_mode": {
    "name": "ipython"
   },
   "file_extension": ".py",
   "mimetype": "text/x-python",
   "name": "python",
   "nbconvert_exporter": "python"
  }
 },
 "nbformat": 4,
 "nbformat_minor": 5
}
