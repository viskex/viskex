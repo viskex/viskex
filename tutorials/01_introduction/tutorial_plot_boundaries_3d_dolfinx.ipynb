{
 "cells": [
  {
   "cell_type": "markdown",
   "id": "ababee18-7992-4b96-87cb-824cdadd188e",
   "metadata": {},
   "source": [
    "# Plot boundaries mesh tags of a 3D dolfinx mesh"
   ]
  },
  {
   "cell_type": "code",
   "execution_count": null,
   "id": "775eabcd-7a6c-4725-963b-d0208ae1498e",
   "metadata": {},
   "outputs": [],
   "source": [
    "import dolfinx.mesh\n",
    "import mpi4py.MPI"
   ]
  },
  {
   "cell_type": "code",
   "execution_count": null,
   "id": "d000a091-97d1-4f3d-8d1d-33729bc5abf3",
   "metadata": {},
   "outputs": [],
   "source": [
    "import viskex"
   ]
  },
  {
   "cell_type": "code",
   "execution_count": null,
   "id": "84ee1245-b9ff-4a05-8293-87c4918db46e",
   "metadata": {},
   "outputs": [],
   "source": [
    "import common_01_dolfinx as common  # isort: skip"
   ]
  },
  {
   "cell_type": "markdown",
   "id": "daa79467-3d6f-415b-a586-e638019de96e",
   "metadata": {},
   "source": [
    "Generate meshes of the unit cube by dividing each edge of the cube in 6 segments, using either a tetrahedral or hexahedral mesh."
   ]
  },
  {
   "cell_type": "code",
   "execution_count": null,
   "id": "5c9377b2-2ad3-45c7-9d05-7a71f21be882",
   "metadata": {},
   "outputs": [],
   "source": [
    "cube_tetra = dolfinx.mesh.create_unit_cube(mpi4py.MPI.COMM_WORLD, 6, 6, 6, dolfinx.mesh.CellType.tetrahedron)\n",
    "cube_hexa = dolfinx.mesh.create_unit_cube(mpi4py.MPI.COMM_WORLD, 6, 6, 6, dolfinx.mesh.CellType.hexahedron)"
   ]
  },
  {
   "cell_type": "markdown",
   "id": "377f2866-d5b6-4202-8250-6b5300c577f0",
   "metadata": {},
   "source": [
    "Mark boundaries according to the $(x, y, z)$ position of the vertices of the mesh:\n",
    "* if $x > 0$ and $x \\leq \\frac{1}{3}$, assign boundary mesh tag equal to $1$;\n",
    "* if $x \\geq \\frac{2}{3}$ and $x < 1$, assign boundary mesh tag equal to $2$;\n",
    "* if $x = 0$, assign boundary mesh tag equal to $3$;\n",
    "* if $x = 1$, assign boundary mesh tag equal to $4$;\n",
    "* otherwise, leave the boundary mesh tag unassigned."
   ]
  },
  {
   "cell_type": "code",
   "execution_count": null,
   "id": "20ee42ad-f9ba-4d68-816d-80a7d9601783",
   "metadata": {},
   "outputs": [],
   "source": [
    "cube_tetra_subdomains = common.mark_subdomains(cube_tetra)\n",
    "cube_hexa_subdomains = common.mark_subdomains(cube_hexa)\n",
    "cube_tetra_boundaries = common.mark_boundaries(cube_tetra, cube_tetra_subdomains)\n",
    "cube_hexa_boundaries = common.mark_boundaries(cube_hexa, cube_hexa_subdomains)"
   ]
  },
  {
   "cell_type": "markdown",
   "id": "01d6b0db-6a79-42c4-b36a-22597df9748a",
   "metadata": {},
   "source": [
    "We plot the resulting boundaries."
   ]
  },
  {
   "cell_type": "code",
   "execution_count": null,
   "id": "266031cd-cb85-46bc-8ca1-fb9225f474d3",
   "metadata": {},
   "outputs": [],
   "source": [
    "viskex.dolfinx.plot_mesh_tags(cube_tetra, cube_tetra_boundaries, \"boundaries\")"
   ]
  },
  {
   "cell_type": "code",
   "execution_count": null,
   "id": "2934b3ce-52bb-46ca-b063-0b78303275a4",
   "metadata": {},
   "outputs": [],
   "source": [
    "viskex.dolfinx.plot_mesh_tags(cube_hexa, cube_hexa_boundaries, \"boundaries\")"
   ]
  },
  {
   "cell_type": "markdown",
   "id": "8c2a1847-73b9-4270-b805-0017ed2402a6",
   "metadata": {},
   "source": [
    "We can also plot all boundaries with tag equal to $4$ (first and second plot), $2$ (third and fourth plot) or both (fifth and sixth plot), which will be displayed with colors. The rest of the mesh facets are still included in the plot, but are colored in gray."
   ]
  },
  {
   "cell_type": "code",
   "execution_count": null,
   "id": "6072445f-3163-4cd9-9201-70dee6a1ccee",
   "metadata": {},
   "outputs": [],
   "source": [
    "viskex.dolfinx.plot_mesh_tags(\n",
    "    cube_tetra, cube_tetra_boundaries, \"boundaries_4\", viskex.utils.pyvista.values_in([4]))"
   ]
  },
  {
   "cell_type": "code",
   "execution_count": null,
   "id": "131be9e6-d3b1-44dd-a94d-7fd05693cc4c",
   "metadata": {},
   "outputs": [],
   "source": [
    "viskex.dolfinx.plot_mesh_tags(\n",
    "    cube_hexa, cube_hexa_boundaries, \"boundaries_4\", viskex.utils.pyvista.values_in([4]))"
   ]
  },
  {
   "cell_type": "code",
   "execution_count": null,
   "id": "14e519d8-6284-409b-a2dd-e1c7a24cef37",
   "metadata": {},
   "outputs": [],
   "source": [
    "viskex.dolfinx.plot_mesh_tags(\n",
    "    cube_tetra, cube_tetra_boundaries, \"boundaries_2\", viskex.utils.pyvista.values_in([2]))"
   ]
  },
  {
   "cell_type": "code",
   "execution_count": null,
   "id": "f10c8380-bccb-4534-ad73-78c1031e85fb",
   "metadata": {},
   "outputs": [],
   "source": [
    "viskex.dolfinx.plot_mesh_tags(\n",
    "    cube_hexa, cube_hexa_boundaries, \"boundaries_2\", viskex.utils.pyvista.values_in([2]))"
   ]
  },
  {
   "cell_type": "code",
   "execution_count": null,
   "id": "8a96ff47-cc6c-402f-ae6a-60271ffce81c",
   "metadata": {},
   "outputs": [],
   "source": [
    "viskex.dolfinx.plot_mesh_tags(\n",
    "    cube_tetra, cube_tetra_boundaries, \"boundaries_24\", viskex.utils.pyvista.values_in([2, 4]))"
   ]
  },
  {
   "cell_type": "code",
   "execution_count": null,
   "id": "d9f43d6f-b5eb-4210-8698-e71b93b646a8",
   "metadata": {},
   "outputs": [],
   "source": [
    "viskex.dolfinx.plot_mesh_tags(\n",
    "    cube_hexa, cube_hexa_boundaries, \"boundaries_24\", viskex.utils.pyvista.values_in([2, 4]))"
   ]
  }
 ],
 "metadata": {
  "kernelspec": {
   "display_name": "Python 3 (ipykernel)",
   "language": "python",
   "name": "python3"
  },
  "language_info": {
   "codemirror_mode": {
    "name": "ipython"
   },
   "file_extension": ".py",
   "mimetype": "text/x-python",
   "name": "python",
   "nbconvert_exporter": "python"
  }
 },
 "nbformat": 4,
 "nbformat_minor": 5
}
