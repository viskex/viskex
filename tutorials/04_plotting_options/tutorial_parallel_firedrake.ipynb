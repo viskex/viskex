{
 "cells": [
  {
   "cell_type": "markdown",
   "id": "ee0c3656-c9d7-428a-b0f8-7a90df139f8d",
   "metadata": {},
   "source": [
    "# Running in parallel\n",
    "\n",
    "While these tutorials are typically meant to be visualized in serial, `viskex` also runs in parallel. To exemplify this, we will show a parallel case using `ipyparallel`."
   ]
  },
  {
   "cell_type": "markdown",
   "id": "850b5d27-b563-483c-8c53-8389457ed71e",
   "metadata": {},
   "source": [
    "First of all, we start a `ipyparallel` MPI cluster with 2 processes."
   ]
  },
  {
   "cell_type": "code",
   "execution_count": null,
   "id": "a550ebab-73c3-4c73-a17e-d0ad23c7f6db",
   "metadata": {},
   "outputs": [],
   "source": [
    "import ipyparallel as ipp\n",
    "\n",
    "cluster = ipp.Cluster(engines=\"MPI\", profile=\"mpi\", n=2)\n",
    "cluster.start_and_connect_sync()"
   ]
  },
  {
   "cell_type": "markdown",
   "id": "7302281e-4ebc-4e91-b2c3-93f90dc05c04",
   "metadata": {},
   "source": [
    "The jupyter magic `%%px` will run the following cells on the `ipyparallel` cluster."
   ]
  },
  {
   "cell_type": "code",
   "execution_count": null,
   "id": "775eabcd-7a6c-4725-963b-d0208ae1498e",
   "metadata": {},
   "outputs": [],
   "source": [
    "%%px\n",
    "import firedrake  # noqa: E402\n",
    "import mpi4py.MPI  # noqa: E402"
   ]
  },
  {
   "cell_type": "code",
   "execution_count": null,
   "id": "d000a091-97d1-4f3d-8d1d-33729bc5abf3",
   "metadata": {},
   "outputs": [],
   "source": [
    "%%px\n",
    "import viskex  # noqa: E402"
   ]
  },
  {
   "cell_type": "markdown",
   "id": "63b9308b-7a14-46f0-a52f-6fc2d144bafd",
   "metadata": {},
   "source": [
    "To confirm that we are running in parallel, we can print the rank of the current process and the total number of processes."
   ]
  },
  {
   "cell_type": "code",
   "execution_count": null,
   "id": "953def10-04f9-4f7d-a44d-7edf6b0d9bfa",
   "metadata": {},
   "outputs": [],
   "source": [
    "%%px\n",
    "comm_world = mpi4py.MPI.COMM_WORLD\n",
    "print(f\"rank = {comm_world.rank}, size = {comm_world.size}\")"
   ]
  },
  {
   "cell_type": "markdown",
   "id": "39a3690a-a941-4dbe-955f-d08347527704",
   "metadata": {},
   "source": [
    "Generate a mesh on `MPI_COMM_WORLD` of the unit square by dividing each edge of the square in 6 segments."
   ]
  },
  {
   "cell_type": "code",
   "execution_count": null,
   "id": "b23ab579-71b1-49f5-b838-ca9e0d2d052a",
   "metadata": {},
   "outputs": [],
   "source": [
    "%%px\n",
    "square_world = firedrake.UnitSquareMesh(\n",
    "    6, 6, comm=comm_world, distribution_parameters={\"partitioner_type\": \"simple\"})"
   ]
  },
  {
   "cell_type": "markdown",
   "id": "f54b1e5a-86a3-4b7d-8126-ea52232274f4",
   "metadata": {},
   "source": [
    "Plot the mesh defined on `MPI_COMM_WORLD`. Each rank will plot its local cells, and their neighbors (called halos in `firedrake`)."
   ]
  },
  {
   "cell_type": "code",
   "execution_count": null,
   "id": "724f2e09-0505-4045-b907-685112d13d59",
   "metadata": {},
   "outputs": [],
   "source": [
    "%%px\n",
    "viskex.firedrake.plot_mesh(square_world)"
   ]
  },
  {
   "cell_type": "markdown",
   "id": "1bd73a2c-0084-4683-bf55-8078af87a323",
   "metadata": {},
   "source": [
    "For comparison, we can generate a similar mesh on `MPI_COMM_SELF`. Each rank will have its own copy of the whole mesh."
   ]
  },
  {
   "cell_type": "code",
   "execution_count": null,
   "id": "ff076981-c98c-4894-b165-f18f27bae5fc",
   "metadata": {},
   "outputs": [],
   "source": [
    "%%px\n",
    "comm_self = mpi4py.MPI.COMM_SELF\n",
    "square_self = firedrake.UnitSquareMesh(\n",
    "    6, 6, comm=comm_self, distribution_parameters={\"partitioner_type\": \"simple\"})"
   ]
  },
  {
   "cell_type": "markdown",
   "id": "e271e2bf-6449-428c-a407-3626c7df3ca0",
   "metadata": {},
   "source": [
    "Plot the mesh defined on `MPI_COMM_SELF`. Each rank will produce a plot which is visually the same, since each rank has its own copy of the same mesh."
   ]
  },
  {
   "cell_type": "code",
   "execution_count": null,
   "id": "11d0613d-9e11-4ffd-b1ab-4bcaca479d80",
   "metadata": {},
   "outputs": [],
   "source": [
    "%%px\n",
    "viskex.firedrake.plot_mesh(square_self)"
   ]
  },
  {
   "cell_type": "markdown",
   "id": "df17d3c7-84a1-4064-a615-b0e125188294",
   "metadata": {},
   "source": [
    "We finally stop the `ipyparallel` cluster. Note that when running with `Run -> Run all cells` all interactive plots will be closed when the kernel executes this cell."
   ]
  },
  {
   "cell_type": "code",
   "execution_count": null,
   "id": "5c422f7c-ecf6-49a6-b362-80bc97ed92ae",
   "metadata": {},
   "outputs": [],
   "source": [
    "cluster.stop_cluster_sync()"
   ]
  }
 ],
 "metadata": {
  "kernelspec": {
   "display_name": "Python 3 (ipykernel)",
   "language": "python",
   "name": "python3"
  },
  "language_info": {
   "codemirror_mode": {
    "name": "ipython"
   },
   "file_extension": ".py",
   "mimetype": "text/x-python",
   "name": "python",
   "nbconvert_exporter": "python"
  }
 },
 "nbformat": 4,
 "nbformat_minor": 5
}
