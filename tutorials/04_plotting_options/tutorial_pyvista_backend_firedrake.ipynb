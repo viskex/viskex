{
 "cells": [
  {
   "cell_type": "markdown",
   "id": "ee0c3656-c9d7-428a-b0f8-7a90df139f8d",
   "metadata": {},
   "source": [
    "# Customizing the pyvista backend when running in jupyter notebooks"
   ]
  },
  {
   "cell_type": "code",
   "execution_count": null,
   "id": "775eabcd-7a6c-4725-963b-d0208ae1498e",
   "metadata": {},
   "outputs": [],
   "source": [
    "import firedrake\n",
    "import pyvista"
   ]
  },
  {
   "cell_type": "code",
   "execution_count": null,
   "id": "d000a091-97d1-4f3d-8d1d-33729bc5abf3",
   "metadata": {},
   "outputs": [],
   "source": [
    "import viskex"
   ]
  },
  {
   "cell_type": "markdown",
   "id": "39a3690a-a941-4dbe-955f-d08347527704",
   "metadata": {},
   "source": [
    "Generate a mesh of the unit square by dividing each edge of the square in 6 segments."
   ]
  },
  {
   "cell_type": "code",
   "execution_count": null,
   "id": "b23ab579-71b1-49f5-b838-ca9e0d2d052a",
   "metadata": {},
   "outputs": [],
   "source": [
    "square = firedrake.UnitSquareMesh(6, 6, distribution_parameters={\"partitioner_type\": \"simple\"})"
   ]
  },
  {
   "cell_type": "markdown",
   "id": "20cf3dfc-9f14-45b9-bf31-db31becee556",
   "metadata": {},
   "source": [
    "The interactive plots rendered in jupyter notebooks are prepared by `trame`, which is integrated in `pyvista`. The available backends are:\n",
    "- the `client` backend (interactive), which renders the scene on the client side using `vtk.js`,\n",
    "- the `server` backend (interactive), which runs a VTK render window on the server and sends back a compressed image,\n",
    "- the `html` backend (partially interactive), which generates a static HTML representation of the scene,\n",
    "- the `trame` backend (interactive or partially interactive), a default among `client`, `server` and `html`,\n",
    "- the `static` backend (not interactive), a static image of the scene.\n",
    "\n",
    "`viskex` automatically chooses the default backend as follows:\n",
    "- if an environment variable `VISKEX_PYVISTA_BACKEND` is provided, then the default client is its value; otherwise\n",
    "- if running on Google Colab or on Kaggle, the default client is `html`, as the other backends are not functional there; otherwise\n",
    "- if running elsewhere, the default backend is `client`."
   ]
  },
  {
   "cell_type": "markdown",
   "id": "6d67a28e-51bf-4e61-857a-fc010b5dfb56",
   "metadata": {},
   "source": [
    "The simplest way to set the plotting backend is by setting the variable `VISKEX_PYVISTA_BACKEND` in the environment before running the notebook. The chosen backend will be used in every plot.\n",
    "\n",
    "If a more fine grained control is needed (e.g., setting a different backend for each plot), users can change the backend in one of the following ways:"
   ]
  },
  {
   "cell_type": "markdown",
   "id": "d7acb621-a6fe-4259-b62a-43d5888e6393",
   "metadata": {},
   "source": [
    "1. Use the lower level `viskex.FiredrakePlotter` class instead of the `viskex.firedrake` functions. The functions in the `viskex.firedrake` module delegate the preparation of the `pyvista` plotter to the `viskex.FiredrakePlotter` class, and then automatically call `.show()` on the prepared `pyvista` plotter. Instead, by using the lower level class the `jupyter_backend` can be passed as keyword argument to the `pyvista` plotter. The choice of the backend will only be applied to the current plot."
   ]
  },
  {
   "cell_type": "code",
   "execution_count": null,
   "id": "0c000da7-5923-4297-b41b-61c61178e063",
   "metadata": {},
   "outputs": [],
   "source": [
    "plotter_client = viskex.FiredrakePlotter.plot_mesh(square)\n",
    "plotter_client.show(jupyter_backend=\"client\")  # type: ignore[no-untyped-call]"
   ]
  },
  {
   "cell_type": "code",
   "execution_count": null,
   "id": "58cc9192-79c6-4806-bf5d-dd370d93fa19",
   "metadata": {},
   "outputs": [],
   "source": [
    "plotter_html = viskex.FiredrakePlotter.plot_mesh(square)\n",
    "plotter_html.show(jupyter_backend=\"html\")  # type: ignore[no-untyped-call]"
   ]
  },
  {
   "cell_type": "code",
   "execution_count": null,
   "id": "c0e97299-0bed-45a6-bcd5-ce132e5756d9",
   "metadata": {},
   "outputs": [],
   "source": [
    "plotter_static = viskex.FiredrakePlotter.plot_mesh(square)\n",
    "plotter_static.show(jupyter_backend=\"static\")  # type: ignore[no-untyped-call]"
   ]
  },
  {
   "cell_type": "markdown",
   "id": "10075e69-91b6-4895-9262-93fdc5f995c3",
   "metadata": {},
   "source": [
    "2. Overwrite the `jupyter_backend` in `pyvista`'s global theme. The typical suggested workflow however would be to simply use the `VISKEX_PYVISTA_BACKEND` environment variable, which sets that same theme option."
   ]
  },
  {
   "cell_type": "code",
   "execution_count": null,
   "id": "322db8cb-42ec-471c-b928-6dc1ffc00d4c",
   "metadata": {},
   "outputs": [],
   "source": [
    "backup_jupyter_backend = pyvista.global_theme.jupyter_backend"
   ]
  },
  {
   "cell_type": "code",
   "execution_count": null,
   "id": "4786321b-dc2e-461c-be72-fe736835aa39",
   "metadata": {},
   "outputs": [],
   "source": [
    "pyvista.global_theme.jupyter_backend = \"client\"\n",
    "viskex.firedrake.plot_mesh(square)"
   ]
  },
  {
   "cell_type": "code",
   "execution_count": null,
   "id": "3d8453eb-a805-4bfa-8589-f3fe0c0f603c",
   "metadata": {},
   "outputs": [],
   "source": [
    "pyvista.global_theme.jupyter_backend = \"html\"\n",
    "viskex.firedrake.plot_mesh(square)"
   ]
  },
  {
   "cell_type": "code",
   "execution_count": null,
   "id": "378e34e6-28fa-406e-bab1-b36d6bcedce9",
   "metadata": {},
   "outputs": [],
   "source": [
    "pyvista.global_theme.jupyter_backend = \"static\"\n",
    "viskex.firedrake.plot_mesh(square)"
   ]
  },
  {
   "cell_type": "code",
   "execution_count": null,
   "id": "accb099b-7db2-4a4c-a03a-ef7f0b75f413",
   "metadata": {},
   "outputs": [],
   "source": [
    "pyvista.global_theme.jupyter_backend = backup_jupyter_backend"
   ]
  }
 ],
 "metadata": {
  "kernelspec": {
   "display_name": "Python 3 (ipykernel)",
   "language": "python",
   "name": "python3"
  },
  "language_info": {
   "codemirror_mode": {
    "name": "ipython"
   },
   "file_extension": ".py",
   "mimetype": "text/x-python",
   "name": "python",
   "nbconvert_exporter": "python"
  }
 },
 "nbformat": 4,
 "nbformat_minor": 5
}
