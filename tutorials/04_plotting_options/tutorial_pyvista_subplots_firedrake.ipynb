{
 "cells": [
  {
   "cell_type": "markdown",
   "id": "fdd6f69b-2121-43c0-b99a-6f3900295488",
   "metadata": {},
   "source": [
    "# Creating subplots with pyvista"
   ]
  },
  {
   "cell_type": "code",
   "execution_count": null,
   "id": "b998cee1-ca53-4542-b46f-656dd6f3d041",
   "metadata": {},
   "outputs": [],
   "source": [
    "import firedrake\n",
    "import pyvista"
   ]
  },
  {
   "cell_type": "code",
   "execution_count": null,
   "id": "1573b290-ea57-47fc-99b6-2ea74b760688",
   "metadata": {},
   "outputs": [],
   "source": [
    "import viskex"
   ]
  },
  {
   "cell_type": "markdown",
   "id": "23b4d59d-c7b1-4412-b213-25172e2e23d7",
   "metadata": {},
   "source": [
    "Generate a mesh of the unit cube by dividing each edge of the cube in 6 segments."
   ]
  },
  {
   "cell_type": "code",
   "execution_count": null,
   "id": "db0c63f3-247c-4986-a0bf-6facc0beaf30",
   "metadata": {},
   "outputs": [],
   "source": [
    "cube = firedrake.UnitCubeMesh(\n",
    "    6, 6, 6, distribution_parameters={\"partitioner_type\": \"simple\"})"
   ]
  },
  {
   "cell_type": "markdown",
   "id": "15299b5f-ce91-4618-ac3e-af04b6f55780",
   "metadata": {},
   "source": [
    "Create plotters for each topological dimension using the lower level `viskex.FiredrakePlotter` class instead of the `viskex.firedrake` functions. Pass a common `pyvista.Plotter` to the `viskex` plot function. Do not show each plotter yet."
   ]
  },
  {
   "cell_type": "code",
   "execution_count": null,
   "id": "f84e732e-e37b-4930-8c67-3c2db6ec5280",
   "metadata": {},
   "outputs": [],
   "source": [
    "plotter = pyvista.Plotter(shape=(2, 2))"
   ]
  },
  {
   "cell_type": "code",
   "execution_count": null,
   "id": "fbe5b982-8702-4399-ac51-14d25807ea76",
   "metadata": {},
   "outputs": [],
   "source": [
    "for row in range(2):\n",
    "    for col in range(2):\n",
    "        plotter.subplot(row, col)\n",
    "        viskex.FiredrakePlotter.plot_mesh(cube, dim=3 - row * 2 - col, plotter=plotter)"
   ]
  },
  {
   "cell_type": "markdown",
   "id": "0ea34fdb-c8b7-4032-a5d7-0be857c78ea6",
   "metadata": {},
   "source": [
    "Finally, link cameras together and show the plot with subplots."
   ]
  },
  {
   "cell_type": "code",
   "execution_count": null,
   "id": "65434b51-8274-4af3-a2d7-955f14eb1303",
   "metadata": {},
   "outputs": [],
   "source": [
    "plotter.link_views()\n",
    "plotter.show()"
   ]
  }
 ],
 "metadata": {
  "kernelspec": {
   "display_name": "Python 3 (ipykernel)",
   "language": "python",
   "name": "python3"
  },
  "language_info": {
   "codemirror_mode": {
    "name": "ipython"
   },
   "file_extension": ".py",
   "mimetype": "text/x-python",
   "name": "python",
   "nbconvert_exporter": "python"
  }
 },
 "nbformat": 4,
 "nbformat_minor": 5
}
