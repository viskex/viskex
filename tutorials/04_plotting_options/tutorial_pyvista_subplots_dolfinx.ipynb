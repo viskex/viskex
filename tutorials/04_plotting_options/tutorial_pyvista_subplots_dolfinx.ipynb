{
 "cells": [
  {
   "cell_type": "markdown",
   "id": "cb97b725-d6e2-4a56-99e6-1d0fa2ae068f",
   "metadata": {},
   "source": [
    "# Creating subplots with pyvista"
   ]
  },
  {
   "cell_type": "code",
   "execution_count": null,
   "id": "577e4fe7-4dd9-411c-8d59-b68a32bda644",
   "metadata": {},
   "outputs": [],
   "source": [
    "import dolfinx.mesh\n",
    "import mpi4py.MPI\n",
    "import pyvista"
   ]
  },
  {
   "cell_type": "code",
   "execution_count": null,
   "id": "c0537fc4-e2c7-4c45-9c2b-333550fbbd45",
   "metadata": {},
   "outputs": [],
   "source": [
    "import viskex"
   ]
  },
  {
   "cell_type": "markdown",
   "id": "c21fa2a0-2e59-4fbe-83e5-f496cfe019b9",
   "metadata": {},
   "source": [
    "Generate a mesh of the unit cube by dividing each edge of the cube in 6 segments."
   ]
  },
  {
   "cell_type": "code",
   "execution_count": null,
   "id": "934fec11-f7ab-4d8e-bef6-1208e81562b4",
   "metadata": {},
   "outputs": [],
   "source": [
    "cube = dolfinx.mesh.create_unit_cube(mpi4py.MPI.COMM_WORLD, 6, 6, 6)"
   ]
  },
  {
   "cell_type": "markdown",
   "id": "fc0d411a-df26-486d-be51-486dae522275",
   "metadata": {},
   "source": [
    "Create plotters for each topological dimension using the lower level `viskex.DolfinxPlotter` class instead of the `viskex.dolfinx` functions. Pass a common `pyvista.Plotter` to the `viskex` plot function. Do not show each plotter yet."
   ]
  },
  {
   "cell_type": "code",
   "execution_count": null,
   "id": "4f632970-2569-4996-9115-5ea135f528b1",
   "metadata": {},
   "outputs": [],
   "source": [
    "plotter = pyvista.Plotter(shape=(2, 2))"
   ]
  },
  {
   "cell_type": "code",
   "execution_count": null,
   "id": "0beaef55-b046-4569-a075-ed0ea3fd0e48",
   "metadata": {},
   "outputs": [],
   "source": [
    "for row in range(2):\n",
    "    for col in range(2):\n",
    "        plotter.subplot(row, col)\n",
    "        viskex.DolfinxPlotter.plot_mesh(cube, dim=3 - row * 2 - col, plotter=plotter)"
   ]
  },
  {
   "cell_type": "markdown",
   "id": "c6606965-f1d5-482c-a7fc-24949ba3dc82",
   "metadata": {},
   "source": [
    "Finally, link cameras together and show the plot with subplots."
   ]
  },
  {
   "cell_type": "code",
   "execution_count": null,
   "id": "ac9061a4-efa7-4e03-9c9b-0a924f5f23f0",
   "metadata": {},
   "outputs": [],
   "source": [
    "plotter.link_views()\n",
    "plotter.show()"
   ]
  }
 ],
 "metadata": {
  "kernelspec": {
   "display_name": "Python 3 (ipykernel)",
   "language": "python",
   "name": "python3"
  },
  "language_info": {
   "codemirror_mode": {
    "name": "ipython"
   },
   "file_extension": ".py",
   "mimetype": "text/x-python",
   "name": "python",
   "nbconvert_exporter": "python"
  }
 },
 "nbformat": 4,
 "nbformat_minor": 5
}
