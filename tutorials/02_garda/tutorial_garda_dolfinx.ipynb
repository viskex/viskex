{
 "cells": [
  {
   "cell_type": "code",
   "execution_count": null,
   "id": "d841691a-f41b-46a2-aedb-dff3bd20ec6a",
   "metadata": {},
   "outputs": [],
   "source": [
    "import os\n",
    "import urllib"
   ]
  },
  {
   "cell_type": "code",
   "execution_count": null,
   "id": "692d719d-dd12-4348-af7a-6cc6adbc2012",
   "metadata": {},
   "outputs": [],
   "source": [
    "import dolfinx.io\n",
    "import dolfinx.mesh\n",
    "import mpi4py.MPI\n",
    "import numpy as np\n",
    "import numpy.typing as npt\n",
    "import packaging.version"
   ]
  },
  {
   "cell_type": "code",
   "execution_count": null,
   "id": "1626ae1f-8b6a-4a7c-ab97-f1894482aa1b",
   "metadata": {},
   "outputs": [],
   "source": [
    "import viskex"
   ]
  },
  {
   "cell_type": "markdown",
   "id": "0990803c-a587-408a-ad7c-1cccc412f006",
   "metadata": {},
   "source": [
    "Read in and plot mesh"
   ]
  },
  {
   "cell_type": "code",
   "execution_count": null,
   "id": "5640aca0-33d3-46f3-9a45-067e169ec861",
   "metadata": {},
   "outputs": [],
   "source": [
    "msh_filename = \"data/garda.msh\"\n",
    "if not os.path.isfile(msh_filename):\n",
    "    os.makedirs(\"data\", exist_ok=True)\n",
    "    msh_url = (\n",
    "        \"https://raw.githubusercontent.com/FEMlium/FEMlium/main/\"\n",
    "        \"tutorials/01_introduction/data/garda.msh\")\n",
    "    with urllib.request.urlopen(msh_url) as response, open(msh_filename, \"wb\") as msh_file:\n",
    "        msh_file.write(response.read())"
   ]
  },
  {
   "cell_type": "code",
   "execution_count": null,
   "id": "d69846e1-965f-40f9-8081-8e85f0e534f4",
   "metadata": {},
   "outputs": [],
   "source": [
    "if packaging.version.Version(dolfinx.__version__) >= packaging.version.Version(\"0.10.0\"):\n",
    "    mesh, subdomains, boundaries, *_ = dolfinx.io.gmsh.read_from_msh(  # type: ignore[attr-defined, misc, unused-ignore]\n",
    "        \"data/garda.msh\", comm=mpi4py.MPI.COMM_WORLD, rank=0, gdim=2)\n",
    "else:\n",
    "    mesh, subdomains, boundaries = dolfinx.io.gmshio.read_from_msh(  # type: ignore[attr-defined, misc, unused-ignore]\n",
    "        \"data/garda.msh\", comm=mpi4py.MPI.COMM_WORLD, rank=0, gdim=2)\n",
    "assert subdomains is not None\n",
    "assert boundaries is not None"
   ]
  },
  {
   "cell_type": "code",
   "execution_count": null,
   "id": "ac0a7f2a-4d17-4148-a3e7-86af83a39a63",
   "metadata": {},
   "outputs": [],
   "source": [
    "viskex.dolfinx.plot_mesh(mesh)"
   ]
  },
  {
   "cell_type": "code",
   "execution_count": null,
   "id": "e3de27d9-9111-459e-a2b6-0390c45fb6d2",
   "metadata": {},
   "outputs": [],
   "source": [
    "viskex.dolfinx.plot_mesh(mesh, dim=2)"
   ]
  },
  {
   "cell_type": "code",
   "execution_count": null,
   "id": "4f9f45a6-b38c-427c-9019-894b2a74e8f1",
   "metadata": {},
   "outputs": [],
   "source": [
    "viskex.dolfinx.plot_mesh(mesh, dim=1)"
   ]
  },
  {
   "cell_type": "code",
   "execution_count": null,
   "id": "9b5786ff-5568-4f1e-aec0-ea945c7566e5",
   "metadata": {},
   "outputs": [],
   "source": [
    "viskex.dolfinx.plot_mesh(mesh, dim=0)"
   ]
  },
  {
   "cell_type": "markdown",
   "id": "8d93d678-8321-4269-a1e0-38bd967e175e",
   "metadata": {},
   "source": [
    "Plot subdomains"
   ]
  },
  {
   "cell_type": "code",
   "execution_count": null,
   "id": "838adc35-a145-4c7c-be55-0ca9f030e945",
   "metadata": {},
   "outputs": [],
   "source": [
    "viskex.dolfinx.plot_mesh_tags(mesh, subdomains, \"subdomains\")"
   ]
  },
  {
   "cell_type": "markdown",
   "id": "ea6fcc52-7031-4235-a5e9-becce8b25d01",
   "metadata": {},
   "source": [
    "Plot boundaries"
   ]
  },
  {
   "cell_type": "code",
   "execution_count": null,
   "id": "69062a74-a1fb-4a07-b28b-110534234eba",
   "metadata": {},
   "outputs": [],
   "source": [
    "viskex.dolfinx.plot_mesh_tags(mesh, boundaries, \"boundaries\")"
   ]
  },
  {
   "cell_type": "markdown",
   "id": "52ee5b17-8540-4a1e-bc94-6b97de904b9f",
   "metadata": {},
   "source": [
    "Plot a scalar field"
   ]
  },
  {
   "cell_type": "code",
   "execution_count": null,
   "id": "36e2934b-0081-4c3e-8204-c056af1fbf00",
   "metadata": {},
   "outputs": [],
   "source": [
    "scalar_function_space = dolfinx.fem.functionspace(mesh, (\"CG\", 2))"
   ]
  },
  {
   "cell_type": "code",
   "execution_count": null,
   "id": "bc2d7aaf-dede-42a7-9283-2b8a993082e9",
   "metadata": {},
   "outputs": [],
   "source": [
    "centroid = np.array([631544.0, 5054515.0])"
   ]
  },
  {
   "cell_type": "code",
   "execution_count": null,
   "id": "863cdf5b-ddf1-4a4d-bedd-73c9218dacae",
   "metadata": {},
   "outputs": [],
   "source": [
    "def scalar_field_eval(x: npt.NDArray[np.float64]) -> npt.NDArray[np.float64]:\n",
    "    \"\"\"Evaluate the scalar field.\"\"\"\n",
    "    rho = np.sqrt((x[0] - centroid[0])**2 + (x[1] - centroid[1])**2)\n",
    "    theta = np.arctan2(x[1] - centroid[1], x[0] - centroid[0])\n",
    "    return rho / np.sqrt(1 - 0.5 * np.cos(theta)**2)  # type: ignore[no-any-return]"
   ]
  },
  {
   "cell_type": "code",
   "execution_count": null,
   "id": "ebb817bc-b86f-4ea7-a70c-84f4683dffe1",
   "metadata": {},
   "outputs": [],
   "source": [
    "scalar_field = dolfinx.fem.Function(scalar_function_space)\n",
    "scalar_field.interpolate(scalar_field_eval)"
   ]
  },
  {
   "cell_type": "code",
   "execution_count": null,
   "id": "b1b3713b-fc73-4981-949c-d3c12d8add32",
   "metadata": {},
   "outputs": [],
   "source": [
    "viskex.dolfinx.plot_scalar_field(scalar_field, \"scalar\")"
   ]
  },
  {
   "cell_type": "markdown",
   "id": "2bcba687-a6a7-420a-8c80-875133576edb",
   "metadata": {},
   "source": [
    "Plot a vector field"
   ]
  },
  {
   "cell_type": "code",
   "execution_count": null,
   "id": "bb3e121f-7c12-4859-ac4f-55596f6ed5e6",
   "metadata": {},
   "outputs": [],
   "source": [
    "vector_function_space = dolfinx.fem.functionspace(mesh, (\"CG\", 2, (mesh.geometry.dim, )))"
   ]
  },
  {
   "cell_type": "code",
   "execution_count": null,
   "id": "8b7df930-565e-4a6e-b56d-f898bb1ee27e",
   "metadata": {},
   "outputs": [],
   "source": [
    "def vector_field_eval(x: npt.NDArray[np.float64]) -> npt.NDArray[np.float64]:\n",
    "    \"\"\"Evaluate the vector field.\"\"\"\n",
    "    rho = np.sqrt((x[0] - centroid[0])**2 + (x[1] - centroid[1])**2)\n",
    "    theta = np.arctan2(x[1] - centroid[1], x[0] - centroid[0])\n",
    "    values = np.zeros((2, x.shape[1]))\n",
    "    values[0] = - rho * np.sin(theta)\n",
    "    values[1] = rho * np.cos(theta)\n",
    "    return values"
   ]
  },
  {
   "cell_type": "code",
   "execution_count": null,
   "id": "20b3797e-099b-465c-beec-9dd232d9b961",
   "metadata": {},
   "outputs": [],
   "source": [
    "vector_field = dolfinx.fem.Function(vector_function_space)\n",
    "vector_field.interpolate(vector_field_eval)"
   ]
  },
  {
   "cell_type": "code",
   "execution_count": null,
   "id": "2a364f91-1cb3-4900-9074-5d56992efb11",
   "metadata": {},
   "outputs": [],
   "source": [
    "viskex.dolfinx.plot_vector_field(vector_field, \"vector\")"
   ]
  },
  {
   "cell_type": "code",
   "execution_count": null,
   "id": "5c936068-7c0d-4221-8074-8aeae24c4b76",
   "metadata": {},
   "outputs": [],
   "source": [
    "viskex.dolfinx.plot_vector_field(vector_field, \"vector\", glyph_factor=0.1)"
   ]
  }
 ],
 "metadata": {
  "kernelspec": {
   "display_name": "Python 3 (ipykernel)",
   "language": "python",
   "name": "python3"
  },
  "language_info": {
   "codemirror_mode": {
    "name": "ipython"
   },
   "file_extension": ".py",
   "mimetype": "text/x-python",
   "name": "python",
   "nbconvert_exporter": "python"
  }
 },
 "nbformat": 4,
 "nbformat_minor": 5
}
