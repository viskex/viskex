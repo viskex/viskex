{
 "cells": [
  {
   "cell_type": "code",
   "execution_count": null,
   "id": "2dba5c56-84e1-4e9e-a752-7cd086e7cbf1",
   "metadata": {},
   "outputs": [],
   "source": [
    "import os\n",
    "import urllib"
   ]
  },
  {
   "cell_type": "code",
   "execution_count": null,
   "id": "1b59bed3-7edb-486a-9e74-013b0d5e43a1",
   "metadata": {},
   "outputs": [],
   "source": [
    "import firedrake\n",
    "import numpy as np"
   ]
  },
  {
   "cell_type": "code",
   "execution_count": null,
   "id": "dd5c8a42-488d-4b8b-8edd-e31c48d53455",
   "metadata": {},
   "outputs": [],
   "source": [
    "import viskex"
   ]
  },
  {
   "cell_type": "markdown",
   "id": "9b4c034a-e989-4ae9-a66f-02ae53492d3e",
   "metadata": {},
   "source": [
    "Read in and plot mesh"
   ]
  },
  {
   "cell_type": "code",
   "execution_count": null,
   "id": "d6dc7337-767c-4faa-bd88-ec740a4435c4",
   "metadata": {},
   "outputs": [],
   "source": [
    "msh_filename = \"data/garda.msh\"\n",
    "if not os.path.isfile(msh_filename):\n",
    "    os.makedirs(\"data\", exist_ok=True)\n",
    "    msh_url = (\n",
    "        \"https://raw.githubusercontent.com/FEMlium/FEMlium/main/\"\n",
    "        \"tutorials/01_introduction/data/garda.msh\")\n",
    "    with urllib.request.urlopen(msh_url) as response, open(msh_filename, \"wb\") as msh_file:\n",
    "        msh_file.write(response.read())"
   ]
  },
  {
   "cell_type": "code",
   "execution_count": null,
   "id": "bbb56189-1d7f-431f-98ea-a0d38e34703d",
   "metadata": {},
   "outputs": [],
   "source": [
    "mesh = firedrake.Mesh(\"data/garda.msh\", distribution_parameters={\"partitioner_type\": \"simple\"})"
   ]
  },
  {
   "cell_type": "code",
   "execution_count": null,
   "id": "0075b35d-ae58-4c47-907a-737c1abe221f",
   "metadata": {},
   "outputs": [],
   "source": [
    "viskex.firedrake.plot_mesh(mesh)"
   ]
  },
  {
   "cell_type": "code",
   "execution_count": null,
   "id": "97323955-92d4-44ef-904a-6466e30d0f3a",
   "metadata": {},
   "outputs": [],
   "source": [
    "viskex.firedrake.plot_mesh(mesh, dim=2)"
   ]
  },
  {
   "cell_type": "code",
   "execution_count": null,
   "id": "2a0ab0c6-04ee-4ccc-95f7-4352e4cb99a5",
   "metadata": {},
   "outputs": [],
   "source": [
    "viskex.firedrake.plot_mesh(mesh, dim=1)"
   ]
  },
  {
   "cell_type": "code",
   "execution_count": null,
   "id": "1d4ffad4-b5ca-4f63-b330-ac2fbd4ab0db",
   "metadata": {},
   "outputs": [],
   "source": [
    "viskex.firedrake.plot_mesh(mesh, dim=0)"
   ]
  },
  {
   "cell_type": "markdown",
   "id": "9ca3f621-edd3-46b6-b238-cc39b4755935",
   "metadata": {},
   "source": [
    "Plot subdomains"
   ]
  },
  {
   "cell_type": "code",
   "execution_count": null,
   "id": "0c75f8fb-6274-470f-b92a-e4d86563e9ad",
   "metadata": {},
   "outputs": [],
   "source": [
    "viskex.firedrake.plot_mesh_sets(mesh, 2, \"subdomains\")"
   ]
  },
  {
   "cell_type": "markdown",
   "id": "4e4023cb-d385-4473-bf78-13adddfc412f",
   "metadata": {},
   "source": [
    "Plot boundaries"
   ]
  },
  {
   "cell_type": "code",
   "execution_count": null,
   "id": "f1017e6a-4f64-4116-bfe1-9539f5fd8cf0",
   "metadata": {},
   "outputs": [],
   "source": [
    "viskex.firedrake.plot_mesh_sets(mesh, 1, \"boundaries\")"
   ]
  },
  {
   "cell_type": "markdown",
   "id": "a2201e5d-224f-45f7-92e1-88f94101e4c7",
   "metadata": {},
   "source": [
    "Plot a scalar field"
   ]
  },
  {
   "cell_type": "code",
   "execution_count": null,
   "id": "4dfbf739-fd57-4319-a5ee-bbcd7eecd615",
   "metadata": {},
   "outputs": [],
   "source": [
    "scalar_function_space = firedrake.FunctionSpace(mesh, \"CG\", 2)"
   ]
  },
  {
   "cell_type": "code",
   "execution_count": null,
   "id": "165fced1-9428-49a4-b79b-941a6b289780",
   "metadata": {},
   "outputs": [],
   "source": [
    "x = firedrake.SpatialCoordinate(mesh)\n",
    "if np.issubdtype(mesh.coordinates.dat.data_ro.dtype, np.complexfloating):\n",
    "    x = firedrake.real(x)\n",
    "centroid = np.array([631544.0, 5054515.0])\n",
    "rho = firedrake.sqrt((x[0] - centroid[0])**2 + (x[1] - centroid[1])**2)\n",
    "theta = firedrake.atan2(x[1] - centroid[1], x[0] - centroid[0])\n",
    "scalar_field = firedrake.interpolate(rho / firedrake.sqrt(1 - 0.5 * firedrake.cos(theta)**2), scalar_function_space)"
   ]
  },
  {
   "cell_type": "code",
   "execution_count": null,
   "id": "b85c009d-f037-4ea4-9d17-fe3ca41cb012",
   "metadata": {},
   "outputs": [],
   "source": [
    "viskex.firedrake.plot_scalar_field(scalar_field, \"scalar\")"
   ]
  },
  {
   "cell_type": "markdown",
   "id": "ebd1c799-cbf6-4b5d-a23c-81de2b61c505",
   "metadata": {},
   "source": [
    "Plot a vector field"
   ]
  },
  {
   "cell_type": "code",
   "execution_count": null,
   "id": "26d29858-d269-4d16-9455-dfac88d5e05a",
   "metadata": {},
   "outputs": [],
   "source": [
    "vector_function_space = firedrake.VectorFunctionSpace(mesh, \"CG\", 2)"
   ]
  },
  {
   "cell_type": "code",
   "execution_count": null,
   "id": "ef6e3a3a-104f-4b55-b368-26749b4008c7",
   "metadata": {},
   "outputs": [],
   "source": [
    "vector_field = firedrake.interpolate(\n",
    "    firedrake.as_vector((- rho * firedrake.sin(theta), rho * firedrake.cos(theta))), vector_function_space)"
   ]
  },
  {
   "cell_type": "code",
   "execution_count": null,
   "id": "f65db899-9fba-4c92-b8a2-56a2b780b961",
   "metadata": {},
   "outputs": [],
   "source": [
    "viskex.firedrake.plot_vector_field(vector_field, \"vector\")"
   ]
  },
  {
   "cell_type": "code",
   "execution_count": null,
   "id": "2ab9b744-0325-4858-b216-2dc20b88860c",
   "metadata": {},
   "outputs": [],
   "source": [
    "viskex.firedrake.plot_vector_field(vector_field, \"vector\", glyph_factor=0.1)"
   ]
  }
 ],
 "metadata": {
  "kernelspec": {
   "display_name": "Python 3 (ipykernel)",
   "language": "python",
   "name": "python3"
  },
  "language_info": {
   "codemirror_mode": {
    "name": "ipython"
   },
   "file_extension": ".py",
   "mimetype": "text/x-python",
   "name": "python",
   "nbconvert_exporter": "python"
  }
 },
 "nbformat": 4,
 "nbformat_minor": 5
}
